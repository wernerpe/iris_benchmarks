{
 "cells": [
  {
   "cell_type": "code",
   "execution_count": 1,
   "metadata": {},
   "outputs": [
    {
     "name": "stderr",
     "output_type": "stream",
     "text": [
      "INFO:drake:Meshcat listening for connections at http://localhost:7000\n",
      "INFO:drake:Allocating contexts to support implicit context parallelism 20\n"
     ]
    },
    {
     "name": "stdout",
     "output_type": "stream",
     "text": [
      "http://localhost:7000\n"
     ]
    }
   ],
   "source": [
    "from pydrake.all import (SceneGraphCollisionChecker, \n",
    "                         Rgba, \n",
    "                         Sphere, \n",
    "                         RigidTransform, \n",
    "                         RotationMatrix,\n",
    "                         VisibilityGraph)\n",
    "from iris_environments.environments import plant_builder_2dof_triangle_with_hole\n",
    "import ipywidgets as widgets\n",
    "from functools import partial\n",
    "from cspace_utils.plotting import plot_points\n",
    "from cspace_utils.graphs import (greedy_clique_cover, greedy_geometric_clique_cover)\n",
    "from cspace_utils.environment_helpers import get_sample_cfree_handle\n",
    "import numpy as np\n",
    "from cspace_utils.plotting import (plot_points, \n",
    "                                   plot_vpoly_2d_meshcat, \n",
    "                                   plot_edges_clique,\n",
    "                                   plot_visibility_graph)\n",
    "from cspace_utils.colors import generate_maximally_different_colors\n",
    "plant, scene_graph, diagram, diagram_context, plant_context,meshcat = plant_builder_2dof_triangle_with_hole(True)\n",
    "# meshcat.SetProperty('/drake/proximity','visible', True)\n",
    "scene_graph_context = scene_graph.GetMyMutableContextFromRoot(\n",
    "    diagram_context)\n",
    "robot_instances = ['cspace_robot']\n",
    "checker = SceneGraphCollisionChecker(model = diagram, \n",
    "                                     robot_model_instances = [plant.GetModelInstanceByName(r) for r in robot_instances], \n",
    "                                     edge_step_size = 0.1)\n",
    "\n",
    "meshcat.Set2dRenderMode(RigidTransform(RotationMatrix.MakeYRotation(-np.pi/2), np.array([0,0,0.5])), xmin=-7, xmax=5, ymin=-5, ymax=7)\n",
    "meshcat.SetProperty('/Lights/PointLightNegativeX', 'visible', False)\n",
    "meshcat.SetProperty('/Lights/PointLightPositiveX', 'visible', False)\n",
    "meshcat.SetProperty('/Lights/AmbientLight/<object>', 'intensity', 3.0)\n",
    "# meshcat.SetProperty('/drake/proximity', 'visible', True)"
   ]
  },
  {
   "cell_type": "code",
   "execution_count": 2,
   "metadata": {},
   "outputs": [
    {
     "data": {
      "application/vnd.jupyter.widget-view+json": {
       "model_id": "ac8eab8707f54096b07d98c49a855c44",
       "version_major": 2,
       "version_minor": 0
      },
      "text/plain": [
       "FloatSlider(value=0.0, description='q0', max=5.9399999999999995, min=-5.9399999999999995, step=0.001)"
      ]
     },
     "metadata": {},
     "output_type": "display_data"
    },
    {
     "data": {
      "application/vnd.jupyter.widget-view+json": {
       "model_id": "04b6f277d906481fb5edd8528cfdacee",
       "version_major": 2,
       "version_minor": 0
      },
      "text/plain": [
       "FloatSlider(value=0.0, description='q1', max=5.9399999999999995, min=-5.9399999999999995, step=0.001)"
      ]
     },
     "metadata": {},
     "output_type": "display_data"
    }
   ],
   "source": [
    "q = np.zeros(plant.num_positions()) \n",
    "sliders = []\n",
    "for i in range(plant.num_positions()):\n",
    "    q_low = plant.GetPositionLowerLimits()[i]*0.99\n",
    "    q_high = plant.GetPositionUpperLimits()[i]*0.99\n",
    "    sliders.append(widgets.FloatSlider(min=q_low, max=q_high, value=0, step=0.001, description=f\"q{i}\"))\n",
    "\n",
    "col_col =  Rgba(0.8, 0.0, 0, 0.5)    \n",
    "col_free =  Rgba(0.0, 0.8, 0.5, 0.5) \n",
    "def showres(qvis):\n",
    "    plant.SetPositions(plant_context, qvis)\n",
    "    diagram.ForcedPublish(diagram_context)\n",
    "    query = plant.get_geometry_query_input_port().Eval(plant_context)\n",
    "    col = query.HasCollisions()\n",
    "    if col:\n",
    "        meshcat.SetObject(f\"/drake/visualizer/shunk\",\n",
    "                                   Sphere(1),\n",
    "                                   col_col)\n",
    "    else:\n",
    "        meshcat.SetObject(f\"/drake/visualizer/shunk\",\n",
    "                                   Sphere(1),\n",
    "                                   col_free)\n",
    "    meshcat.SetTransform(f\"/drake/visualizer/shunk\",\n",
    "                                   RigidTransform(RotationMatrix(),\n",
    "                                                  np.array([5,5,0])))\n",
    "    return col\n",
    "\n",
    "def handle_slider_change(change, idx):\n",
    "    q[idx] = change['new']\n",
    "    showres(q)\n",
    "idx = 0\n",
    "for slider in sliders:\n",
    "    slider.observe(partial(handle_slider_change, idx = idx), names='value')\n",
    "    idx+=1\n",
    "\n",
    "for slider in sliders:\n",
    "    display(slider)"
   ]
  },
  {
   "cell_type": "code",
   "execution_count": 3,
   "metadata": {},
   "outputs": [],
   "source": [
    "N = 200\n",
    "\n",
    "def col_free(q):\n",
    "    return not checker.CheckConfigCollisionFree(q)\n",
    "\n",
    "cfree_sampler = get_sample_cfree_handle(plant.GetPositionLowerLimits(), \n",
    "                                plant.GetPositionUpperLimits(),\n",
    "                                col_free)\n",
    "for i in range(20):\n",
    "    meshcat.Delete(f'/drake/cl_{i}')\n",
    "samps,_ = cfree_sampler(N, 1000,[])\n",
    "adj = VisibilityGraph(checker, samps.T, parallelize = True)\n",
    "# plot_points(meshcat, samps, 'nodes', color = Rgba(0.3,0,0,1), size = 0.1)"
   ]
  },
  {
   "cell_type": "code",
   "execution_count": 6,
   "metadata": {},
   "outputs": [
    {
     "ename": "ValueError",
     "evalue": "The truth value of an array with more than one element is ambiguous. Use a.any() or a.all()",
     "output_type": "error",
     "traceback": [
      "\u001b[0;31m---------------------------------------------------------------------------\u001b[0m",
      "\u001b[0;31mValueError\u001b[0m                                Traceback (most recent call last)",
      "\u001b[0;32m/tmp/ipykernel_1546418/2468988750.py\u001b[0m in \u001b[0;36m<module>\u001b[0;34m\u001b[0m\n\u001b[1;32m      2\u001b[0m \u001b[0;31m#                                    min_clique_size=1,\u001b[0m\u001b[0;34m\u001b[0m\u001b[0;34m\u001b[0m\u001b[0m\n\u001b[1;32m      3\u001b[0m \u001b[0;31m#                                    approach = 'mip')\u001b[0m\u001b[0;34m\u001b[0m\u001b[0;34m\u001b[0m\u001b[0m\n\u001b[0;32m----> 4\u001b[0;31m clique_cover = greedy_geometric_clique_cover(adj, \n\u001b[0m\u001b[1;32m      5\u001b[0m                                              \u001b[0msamps\u001b[0m\u001b[0;34m.\u001b[0m\u001b[0mT\u001b[0m\u001b[0;34m,\u001b[0m\u001b[0;34m\u001b[0m\u001b[0;34m\u001b[0m\u001b[0m\n\u001b[1;32m      6\u001b[0m                                              \u001b[0mmin_gain_per_clique\u001b[0m \u001b[0;34m=\u001b[0m \u001b[0;36m1\u001b[0m\u001b[0;34m,\u001b[0m\u001b[0;34m\u001b[0m\u001b[0;34m\u001b[0m\u001b[0m\n",
      "\u001b[0;32m~/gitcspace/cspace_utils/cspace_utils/graphs/geometric_clique_cover.py\u001b[0m in \u001b[0;36mgreedy_geometric_clique_cover\u001b[0;34m(adjacency_matrix, vertex_positions, min_gain_per_clique, approach, worklimit_mip)\u001b[0m\n\u001b[1;32m     79\u001b[0m         \u001b[0;32mif\u001b[0m \u001b[0misinstance\u001b[0m\u001b[0;34m(\u001b[0m\u001b[0madjacency_matrix\u001b[0m\u001b[0;34m,\u001b[0m \u001b[0mcsc_matrix\u001b[0m\u001b[0;34m)\u001b[0m\u001b[0;34m:\u001b[0m\u001b[0;34m\u001b[0m\u001b[0;34m\u001b[0m\u001b[0m\n\u001b[1;32m     80\u001b[0m             \u001b[0madjacency_matrix\u001b[0m \u001b[0;34m=\u001b[0m \u001b[0madjacency_matrix\u001b[0m\u001b[0;34m.\u001b[0m\u001b[0mtoarray\u001b[0m\u001b[0;34m(\u001b[0m\u001b[0;34m)\u001b[0m\u001b[0;34m\u001b[0m\u001b[0;34m\u001b[0m\u001b[0m\n\u001b[0;32m---> 81\u001b[0;31m         return iterative_greedy_max_geom_clique_cover(adjacency_matrix, \n\u001b[0m\u001b[1;32m     82\u001b[0m                                                       \u001b[0mvertex_positions\u001b[0m\u001b[0;34m,\u001b[0m\u001b[0;34m\u001b[0m\u001b[0;34m\u001b[0m\u001b[0m\n\u001b[1;32m     83\u001b[0m                                                       min_gain_per_clique)\n",
      "\u001b[0;32m~/gitcspace/cspace_utils/cspace_utils/graphs/geometric_clique_cover.py\u001b[0m in \u001b[0;36miterative_greedy_max_geom_clique_cover\u001b[0;34m(adjacency_matrix, vertex_positions, min_gain_per_clique)\u001b[0m\n\u001b[1;32m     22\u001b[0m     \u001b[0mc\u001b[0m \u001b[0;34m=\u001b[0m \u001b[0mnp\u001b[0m\u001b[0;34m.\u001b[0m\u001b[0mones\u001b[0m\u001b[0;34m(\u001b[0m\u001b[0;34m(\u001b[0m\u001b[0madjacency_matrix\u001b[0m\u001b[0;34m.\u001b[0m\u001b[0mshape\u001b[0m\u001b[0;34m[\u001b[0m\u001b[0;36m0\u001b[0m\u001b[0;34m]\u001b[0m\u001b[0;34m,\u001b[0m\u001b[0;34m)\u001b[0m\u001b[0;34m)\u001b[0m\u001b[0;34m\u001b[0m\u001b[0;34m\u001b[0m\u001b[0m\n\u001b[1;32m     23\u001b[0m     \u001b[0;32mwhile\u001b[0m \u001b[0;32mnot\u001b[0m \u001b[0mdone\u001b[0m\u001b[0;34m:\u001b[0m\u001b[0;34m\u001b[0m\u001b[0;34m\u001b[0m\u001b[0m\n\u001b[0;32m---> 24\u001b[0;31m         val, ind_max_clique_local = greedy_max_geometric_clique(adjacency_matrix, \n\u001b[0m\u001b[1;32m     25\u001b[0m                                                                 \u001b[0mvertex_positions\u001b[0m\u001b[0;34m.\u001b[0m\u001b[0mT\u001b[0m\u001b[0;34m,\u001b[0m\u001b[0;34m\u001b[0m\u001b[0;34m\u001b[0m\u001b[0m\n\u001b[1;32m     26\u001b[0m                                                                 c)\n",
      "\u001b[0;32m~/gitcspace/cspace_utils/cspace_utils/graphs/greedy_max_geom_clique.py\u001b[0m in \u001b[0;36mgreedy_max_geometric_clique\u001b[0;34m(adj_mat, pts, c)\u001b[0m\n\u001b[1;32m     91\u001b[0m     \u001b[0mdegrees\u001b[0m \u001b[0;34m=\u001b[0m \u001b[0madj_mat\u001b[0m\u001b[0;34m.\u001b[0m\u001b[0msum\u001b[0m\u001b[0;34m(\u001b[0m\u001b[0maxis\u001b[0m\u001b[0;34m=\u001b[0m\u001b[0;36m1\u001b[0m\u001b[0;34m)\u001b[0m\u001b[0;34m\u001b[0m\u001b[0;34m\u001b[0m\u001b[0m\n\u001b[1;32m     92\u001b[0m     \u001b[0mcandidates\u001b[0m \u001b[0;34m=\u001b[0m \u001b[0mnp\u001b[0m\u001b[0;34m.\u001b[0m\u001b[0margsort\u001b[0m\u001b[0;34m(\u001b[0m\u001b[0mdegrees\u001b[0m\u001b[0;34m)\u001b[0m\u001b[0;34m[\u001b[0m\u001b[0;34m:\u001b[0m\u001b[0;34m:\u001b[0m\u001b[0;34m-\u001b[0m\u001b[0;36m1\u001b[0m\u001b[0;34m]\u001b[0m\u001b[0;34m\u001b[0m\u001b[0;34m\u001b[0m\u001b[0m\n\u001b[0;32m---> 93\u001b[0;31m     \u001b[0;32mif\u001b[0m \u001b[0mc\u001b[0m \u001b[0;34m!=\u001b[0m \u001b[0;32mNone\u001b[0m\u001b[0;34m:\u001b[0m\u001b[0;34m\u001b[0m\u001b[0;34m\u001b[0m\u001b[0m\n\u001b[0m\u001b[1;32m     94\u001b[0m         \u001b[0;32massert\u001b[0m \u001b[0mlen\u001b[0m\u001b[0;34m(\u001b[0m\u001b[0mc\u001b[0m\u001b[0;34m)\u001b[0m \u001b[0;34m==\u001b[0m \u001b[0mlen\u001b[0m\u001b[0;34m(\u001b[0m\u001b[0mpts\u001b[0m\u001b[0;34m)\u001b[0m\u001b[0;34m\u001b[0m\u001b[0;34m\u001b[0m\u001b[0m\n\u001b[1;32m     95\u001b[0m         \u001b[0;31m#extract non zero candidates\u001b[0m\u001b[0;34m\u001b[0m\u001b[0;34m\u001b[0m\u001b[0m\n",
      "\u001b[0;31mValueError\u001b[0m: The truth value of an array with more than one element is ambiguous. Use a.any() or a.all()"
     ]
    }
   ],
   "source": [
    "\n",
    "# clique_cover = greedy_clique_cover(adj, \n",
    "#                                    min_clique_size=1,\n",
    "#                                    approach = 'mip')\n",
    "clique_cover = greedy_geometric_clique_cover(adj, \n",
    "                                             samps.T, \n",
    "                                             min_gain_per_clique = 1,\n",
    "                                             approach = 'greedy')"
   ]
  },
  {
   "cell_type": "code",
   "execution_count": 5,
   "metadata": {},
   "outputs": [],
   "source": [
    "\n",
    "from pydrake.all import VPolytope\n",
    "for i in range(20):\n",
    "    meshcat.Delete(f'/drake/cl_{i}')\n",
    "nodes_for_plot = np.concatenate((samps, np.zeros((samps.shape[0],1))), axis = 1) \n",
    "\n",
    "colors = generate_maximally_different_colors(len(clique_cover))\n",
    "colors =[Rgba(c[0], c[1],c[2],1) for c in colors]\n",
    "plot_size_edge = 0.05\n",
    "for idx, clique in enumerate(clique_cover):\n",
    "    col = colors[idx]\n",
    "    plot_points(meshcat, \n",
    "                samps[clique], \n",
    "                f'cl_{idx}',           \n",
    "                color = col, \n",
    "                size = plot_size_edge*0.95)\n",
    "    #plot_edges_clique(meshcat, clique, nodes_for_plot, f'cl_{idx}', col)\n",
    "    if len(clique)>2:\n",
    "        cliquevpoly = VPolytope(samps[clique].T).GetMinimalRepresentation()\n",
    "        plot_vpoly_2d_meshcat(meshcat, \n",
    "                              cliquevpoly, \n",
    "                              f'cl_{idx}', \n",
    "                              col, \n",
    "                              size =plot_size_edge,\n",
    "                              translation = np.array([0,0,0.1*idx]))\n",
    "    elif len(clique)==2:\n",
    "        plot_edges_clique(meshcat, \n",
    "                          clique, \n",
    "                          nodes_for_plot, \n",
    "                          f'cl_{idx}', \n",
    "                          col, \n",
    "                          size = plot_size_edge)\n",
    "    else:\n",
    "        plot_points(meshcat, \n",
    "                    samps[clique], \n",
    "                    f'cl_{idx}', \n",
    "                    color = col, \n",
    "                    size = plot_size_edge)\n",
    "# plot_points(meshcat, nodes_for_plot, 'nodes', size=0.05, color = Rgba(0,0,0,1))\n",
    "# plot_visibility_graph(meshcat, nodes_for_plot, adj, 'vg')"
   ]
  },
  {
   "cell_type": "code",
   "execution_count": 14,
   "metadata": {},
   "outputs": [
    {
     "name": "stdout",
     "output_type": "stream",
     "text": [
      "[-0.1189814   1.07457112]\n"
     ]
    }
   ],
   "source": [
    "for s in samps[clique_cover[-1]]:\n",
    "    print(s)"
   ]
  },
  {
   "cell_type": "code",
   "execution_count": 6,
   "metadata": {},
   "outputs": [
    {
     "data": {
      "text/plain": [
       "[Rgba(r=0.8, g=0.07999999999999999, b=0.07999999999999999, a=1.0),\n",
       " Rgba(r=0.07999999999999999, g=0.07999999999999999, b=0.8, a=1.0),\n",
       " Rgba(r=0.07999999999999999, g=0.8, b=0.8, a=1.0),\n",
       " Rgba(r=0.07999999999999999, g=0.8, b=0.07999999999999999, a=1.0),\n",
       " Rgba(r=0.8, g=0.07999999999999999, b=0.8, a=1.0),\n",
       " Rgba(r=0.8, g=0.8, b=0.07999999999999999, a=1.0)]"
      ]
     },
     "execution_count": 6,
     "metadata": {},
     "output_type": "execute_result"
    }
   ],
   "source": [
    "plot_vpoly_2d_meshcat(meshcat,)"
   ]
  },
  {
   "cell_type": "code",
   "execution_count": 10,
   "metadata": {},
   "outputs": [
    {
     "data": {
      "text/plain": [
       "array([[0.26098931],\n",
       "       [0.32689015]])"
      ]
     },
     "execution_count": 10,
     "metadata": {},
     "output_type": "execute_result"
    }
   ],
   "source": [
    "cliquevpoly.vertices()"
   ]
  }
 ],
 "metadata": {
  "kernelspec": {
   "display_name": "Python 3",
   "language": "python",
   "name": "python3"
  },
  "language_info": {
   "codemirror_mode": {
    "name": "ipython",
    "version": 3
   },
   "file_extension": ".py",
   "mimetype": "text/x-python",
   "name": "python",
   "nbconvert_exporter": "python",
   "pygments_lexer": "ipython3",
   "version": "3.10.12"
  }
 },
 "nbformat": 4,
 "nbformat_minor": 2
}
