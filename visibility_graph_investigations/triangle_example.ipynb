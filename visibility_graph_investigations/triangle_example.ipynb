{
 "cells": [
  {
   "cell_type": "code",
   "execution_count": 1,
   "metadata": {},
   "outputs": [
    {
     "name": "stderr",
     "output_type": "stream",
     "text": [
      "INFO:drake:Meshcat listening for connections at http://localhost:7001\n",
      "INFO:drake:Allocating contexts to support implicit context parallelism 20\n"
     ]
    },
    {
     "name": "stdout",
     "output_type": "stream",
     "text": [
      "http://localhost:7001\n"
     ]
    }
   ],
   "source": [
    "from pydrake.all import (SceneGraphCollisionChecker, \n",
    "                         Rgba, \n",
    "                         Sphere, \n",
    "                         RigidTransform, \n",
    "                         RotationMatrix,\n",
    "                         VisibilityGraph)\n",
    "from iris_environments.environments import plant_builder_2dof_triangle_with_hole\n",
    "import ipywidgets as widgets\n",
    "from functools import partial\n",
    "from cspace_utils.plotting import plot_points\n",
    "import numpy as np\n",
    "\n",
    "plant, scene_graph, diagram, diagram_context, plant_context,meshcat = plant_builder_2dof_triangle_with_hole(True)\n",
    "# meshcat.SetProperty('/drake/proximity','visible', True)\n",
    "scene_graph_context = scene_graph.GetMyMutableContextFromRoot(\n",
    "    diagram_context)\n",
    "robot_instances = ['cspace_robot']\n",
    "checker = SceneGraphCollisionChecker(model = diagram, \n",
    "                                     robot_model_instances = [plant.GetModelInstanceByName(r) for r in robot_instances], \n",
    "                                     edge_step_size = 0.1)\n",
    "\n",
    "meshcat.Set2dRenderMode(RigidTransform(RotationMatrix.MakeYRotation(-np.pi/2), np.array([0,0,0.5])), xmin=-7, xmax=5, ymin=-5, ymax=7)\n",
    "meshcat.SetProperty('/Lights/PointLightNegativeX', 'visible', False)\n",
    "meshcat.SetProperty('/Lights/PointLightPositiveX', 'visible', False)\n",
    "meshcat.SetProperty('/Lights/AmbientLight/<object>', 'intensity', 3.0)\n",
    "# meshcat.SetProperty('/drake/proximity', 'visible', True)"
   ]
  },
  {
   "cell_type": "code",
   "execution_count": 2,
   "metadata": {},
   "outputs": [
    {
     "data": {
      "application/vnd.jupyter.widget-view+json": {
       "model_id": "9f85a91a33be4b888d13b0266d8dff13",
       "version_major": 2,
       "version_minor": 0
      },
      "text/plain": [
       "FloatSlider(value=0.0, description='q0', max=5.9399999999999995, min=-5.9399999999999995, step=0.001)"
      ]
     },
     "metadata": {},
     "output_type": "display_data"
    },
    {
     "data": {
      "application/vnd.jupyter.widget-view+json": {
       "model_id": "b46f7bd209ae4f3ebdfa6ded4e39f7a2",
       "version_major": 2,
       "version_minor": 0
      },
      "text/plain": [
       "FloatSlider(value=0.0, description='q1', max=5.9399999999999995, min=-5.9399999999999995, step=0.001)"
      ]
     },
     "metadata": {},
     "output_type": "display_data"
    }
   ],
   "source": [
    "q = np.zeros(plant.num_positions()) \n",
    "sliders = []\n",
    "for i in range(plant.num_positions()):\n",
    "    q_low = plant.GetPositionLowerLimits()[i]*0.99\n",
    "    q_high = plant.GetPositionUpperLimits()[i]*0.99\n",
    "    sliders.append(widgets.FloatSlider(min=q_low, max=q_high, value=0, step=0.001, description=f\"q{i}\"))\n",
    "\n",
    "col_col =  Rgba(0.8, 0.0, 0, 0.5)    \n",
    "col_free =  Rgba(0.0, 0.8, 0.5, 0.5) \n",
    "def showres(qvis):\n",
    "    plant.SetPositions(plant_context, qvis)\n",
    "    diagram.ForcedPublish(diagram_context)\n",
    "    query = plant.get_geometry_query_input_port().Eval(plant_context)\n",
    "    col = query.HasCollisions()\n",
    "    if col:\n",
    "        meshcat.SetObject(f\"/drake/visualizer/shunk\",\n",
    "                                   Sphere(1),\n",
    "                                   col_col)\n",
    "    else:\n",
    "        meshcat.SetObject(f\"/drake/visualizer/shunk\",\n",
    "                                   Sphere(1),\n",
    "                                   col_free)\n",
    "    meshcat.SetTransform(f\"/drake/visualizer/shunk\",\n",
    "                                   RigidTransform(RotationMatrix(),\n",
    "                                                  np.array([5,5,0])))\n",
    "    return col\n",
    "\n",
    "def handle_slider_change(change, idx):\n",
    "    q[idx] = change['new']\n",
    "    showres(q)\n",
    "idx = 0\n",
    "for slider in sliders:\n",
    "    slider.observe(partial(handle_slider_change, idx = idx), names='value')\n",
    "    idx+=1\n",
    "\n",
    "for slider in sliders:\n",
    "    display(slider)"
   ]
  },
  {
   "cell_type": "code",
   "execution_count": 3,
   "metadata": {},
   "outputs": [],
   "source": [
    "from cspace_utils.environment_helpers import get_sample_cfree_handle\n",
    "def col_free(q):\n",
    "    return not checker.CheckConfigCollisionFree(q)\n",
    "\n",
    "cfree_sampler = get_sample_cfree_handle(plant.GetPositionLowerLimits(), \n",
    "                                plant.GetPositionUpperLimits(),\n",
    "                                col_free)"
   ]
  },
  {
   "cell_type": "code",
   "execution_count": 4,
   "metadata": {},
   "outputs": [],
   "source": [
    "N = 500\n",
    "for i in range(20):\n",
    "    meshcat.Delete(f'/drake/cl_{i}')\n",
    "samps,_ = cfree_sampler(N, 1000,[])\n",
    "adj = VisibilityGraph(checker, samps.T, parallelize = True)\n",
    "# plot_points(meshcat, samps, 'nodes', color = Rgba(0.3,0,0,1), size = 0.1)"
   ]
  },
  {
   "cell_type": "code",
   "execution_count": 5,
   "metadata": {},
   "outputs": [
    {
     "name": "stdout",
     "output_type": "stream",
     "text": [
      "[CCMIP] remaining nodes 500\n",
      "Set parameter Username\n",
      "Academic license - for non-commercial use only - expires 2025-06-12\n",
      "[CCMIP] remaining nodes 198\n",
      "[CCMIP] remaining nodes 83\n",
      "[CCMIP] remaining nodes 25\n",
      "[CCMIP] remaining nodes 9\n"
     ]
    }
   ],
   "source": [
    "from cspace_utils.graphs import double_greedy_clique_cover, compute_greedy_clique_partition\n",
    "\n",
    "# clique_cover = double_greedy_clique_cover(adj, min_clique_size=1)\n",
    "clique_cover = compute_greedy_clique_partition(adj.toarray(), \n",
    "                                               min_clique_size=1,\n",
    "                                               worklimit = 200)"
   ]
  },
  {
   "cell_type": "code",
   "execution_count": 9,
   "metadata": {},
   "outputs": [],
   "source": [
    "from cspace_utils.plotting import (plot_points, \n",
    "                                   plot_vpoly_2d_meshcat, \n",
    "                                   plot_edges_clique,\n",
    "                                   plot_visibility_graph)\n",
    "from cspace_utils.colors import generate_maximally_different_colors\n",
    "from pydrake.all import VPolytope\n",
    "for i in range(20):\n",
    "    meshcat.Delete(f'/drake/cl_{i}')\n",
    "nodes_for_plot = np.concatenate((samps, np.zeros((samps.shape[0],1))), axis = 1) \n",
    "\n",
    "colors = generate_maximally_different_colors(len(clique_cover))\n",
    "colors =[Rgba(c[0], c[1],c[2],1) for c in colors]\n",
    "plot_size_edge = 0.05\n",
    "for idx, clique in enumerate(clique_cover):\n",
    "    col = colors[idx]\n",
    "    plot_points(meshcat, \n",
    "                samps[clique], \n",
    "                f'cl_{idx}',           \n",
    "                color = col, \n",
    "                size = plot_size_edge*0.95)\n",
    "    #plot_edges_clique(meshcat, clique, nodes_for_plot, f'cl_{idx}', col)\n",
    "    if len(clique)>2:\n",
    "        cliquevpoly = VPolytope(samps[clique].T).GetMinimalRepresentation()\n",
    "        plot_vpoly_2d_meshcat(meshcat, \n",
    "                              cliquevpoly, \n",
    "                              f'cl_{idx}', \n",
    "                              col, \n",
    "                              size =plot_size_edge,\n",
    "                              translation = np.array([0,0,0.1*idx]))\n",
    "    elif len(clique)==2:\n",
    "        plot_edges_clique(meshcat, \n",
    "                          clique, \n",
    "                          nodes_for_plot, \n",
    "                          f'cl_{idx}', \n",
    "                          col, \n",
    "                          size = plot_size_edge)\n",
    "    else:\n",
    "        plot_points(meshcat, \n",
    "                    samps[clique], \n",
    "                    f'cl_{idx}', \n",
    "                    color = col, \n",
    "                    size = plot_size_edge)\n",
    "# plot_points(meshcat, nodes_for_plot, 'nodes', size=0.05, color = Rgba(0,0,0,1))\n",
    "# plot_visibility_graph(meshcat, nodes_for_plot, adj, 'vg')"
   ]
  },
  {
   "cell_type": "code",
   "execution_count": 14,
   "metadata": {},
   "outputs": [
    {
     "name": "stdout",
     "output_type": "stream",
     "text": [
      "[-0.1189814   1.07457112]\n"
     ]
    }
   ],
   "source": [
    "for s in samps[clique_cover[-1]]:\n",
    "    print(s)"
   ]
  },
  {
   "cell_type": "code",
   "execution_count": 6,
   "metadata": {},
   "outputs": [
    {
     "data": {
      "text/plain": [
       "[Rgba(r=0.8, g=0.07999999999999999, b=0.07999999999999999, a=1.0),\n",
       " Rgba(r=0.07999999999999999, g=0.07999999999999999, b=0.8, a=1.0),\n",
       " Rgba(r=0.07999999999999999, g=0.8, b=0.8, a=1.0),\n",
       " Rgba(r=0.07999999999999999, g=0.8, b=0.07999999999999999, a=1.0),\n",
       " Rgba(r=0.8, g=0.07999999999999999, b=0.8, a=1.0),\n",
       " Rgba(r=0.8, g=0.8, b=0.07999999999999999, a=1.0)]"
      ]
     },
     "execution_count": 6,
     "metadata": {},
     "output_type": "execute_result"
    }
   ],
   "source": [
    "plot_vpoly_2d_meshcat(meshcat,)"
   ]
  },
  {
   "cell_type": "code",
   "execution_count": 10,
   "metadata": {},
   "outputs": [
    {
     "data": {
      "text/plain": [
       "array([[0.26098931],\n",
       "       [0.32689015]])"
      ]
     },
     "execution_count": 10,
     "metadata": {},
     "output_type": "execute_result"
    }
   ],
   "source": [
    "cliquevpoly.vertices()"
   ]
  }
 ],
 "metadata": {
  "kernelspec": {
   "display_name": "Python 3",
   "language": "python",
   "name": "python3"
  },
  "language_info": {
   "codemirror_mode": {
    "name": "ipython",
    "version": 3
   },
   "file_extension": ".py",
   "mimetype": "text/x-python",
   "name": "python",
   "nbconvert_exporter": "python",
   "pygments_lexer": "ipython3",
   "version": "3.10.12"
  }
 },
 "nbformat": 4,
 "nbformat_minor": 2
}
