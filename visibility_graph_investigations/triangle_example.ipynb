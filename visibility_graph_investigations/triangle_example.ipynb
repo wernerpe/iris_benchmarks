{
 "cells": [
  {
   "cell_type": "code",
   "execution_count": 1,
   "metadata": {},
   "outputs": [
    {
     "name": "stderr",
     "output_type": "stream",
     "text": [
      "INFO:drake:Meshcat listening for connections at http://localhost:7001\n",
      "INFO:drake:Allocating contexts to support implicit context parallelism 20\n"
     ]
    },
    {
     "name": "stdout",
     "output_type": "stream",
     "text": [
      "http://localhost:7001\n"
     ]
    }
   ],
   "source": [
    "from pydrake.all import (SceneGraphCollisionChecker, \n",
    "                         Rgba, \n",
    "                         Sphere, \n",
    "                         RigidTransform, \n",
    "                         RotationMatrix,\n",
    "                         VisibilityGraph)\n",
    "from iris_environments.environments import plant_builder_2dof_triangle_with_hole\n",
    "import ipywidgets as widgets\n",
    "from functools import partial\n",
    "import numpy as np\n",
    "\n",
    "plant, scene_graph, diagram, diagram_context, plant_context,meshcat = plant_builder_2dof_triangle_with_hole(True)\n",
    "# meshcat.SetProperty('/drake/proximity','visible', True)\n",
    "scene_graph_context = scene_graph.GetMyMutableContextFromRoot(\n",
    "    diagram_context)\n",
    "robot_instances = ['cspace_robot']\n",
    "checker = SceneGraphCollisionChecker(model = diagram, \n",
    "                                     robot_model_instances = [plant.GetModelInstanceByName(r) for r in robot_instances], \n",
    "                                     edge_step_size = 0.1)"
   ]
  },
  {
   "cell_type": "code",
   "execution_count": 2,
   "metadata": {},
   "outputs": [
    {
     "data": {
      "application/vnd.jupyter.widget-view+json": {
       "model_id": "ee8f209361104aa9ad96d5ce02188941",
       "version_major": 2,
       "version_minor": 0
      },
      "text/plain": [
       "FloatSlider(value=0.0, description='q0', max=5.9399999999999995, min=-5.9399999999999995, step=0.001)"
      ]
     },
     "metadata": {},
     "output_type": "display_data"
    },
    {
     "data": {
      "application/vnd.jupyter.widget-view+json": {
       "model_id": "6dfa2c0bb77543c585927ffba1a52040",
       "version_major": 2,
       "version_minor": 0
      },
      "text/plain": [
       "FloatSlider(value=0.0, description='q1', max=5.9399999999999995, min=-5.9399999999999995, step=0.001)"
      ]
     },
     "metadata": {},
     "output_type": "display_data"
    }
   ],
   "source": [
    "q = np.zeros(plant.num_positions()) \n",
    "sliders = []\n",
    "for i in range(plant.num_positions()):\n",
    "    q_low = plant.GetPositionLowerLimits()[i]*0.99\n",
    "    q_high = plant.GetPositionUpperLimits()[i]*0.99\n",
    "    sliders.append(widgets.FloatSlider(min=q_low, max=q_high, value=0, step=0.001, description=f\"q{i}\"))\n",
    "\n",
    "col_col =  Rgba(0.8, 0.0, 0, 0.5)    \n",
    "col_free =  Rgba(0.0, 0.8, 0.5, 0.5) \n",
    "def showres(qvis):\n",
    "    plant.SetPositions(plant_context, qvis)\n",
    "    diagram.ForcedPublish(diagram_context)\n",
    "    query = plant.get_geometry_query_input_port().Eval(plant_context)\n",
    "    col = query.HasCollisions()\n",
    "    if col:\n",
    "        meshcat.SetObject(f\"/drake/visualizer/shunk\",\n",
    "                                   Sphere(0.2),\n",
    "                                   col_col)\n",
    "    else:\n",
    "        meshcat.SetObject(f\"/drake/visualizer/shunk\",\n",
    "                                   Sphere(0.2),\n",
    "                                   col_free)\n",
    "    meshcat.SetTransform(f\"/drake/visualizer/shunk\",\n",
    "                                   RigidTransform(RotationMatrix(),\n",
    "                                                  np.array([0,0,2])))\n",
    "    return col\n",
    "\n",
    "def handle_slider_change(change, idx):\n",
    "    q[idx] = change['new']\n",
    "    showres(q)\n",
    "idx = 0\n",
    "for slider in sliders:\n",
    "    slider.observe(partial(handle_slider_change, idx = idx), names='value')\n",
    "    idx+=1\n",
    "\n",
    "for slider in sliders:\n",
    "    display(slider)"
   ]
  },
  {
   "cell_type": "code",
   "execution_count": 3,
   "metadata": {},
   "outputs": [],
   "source": [
    "from cspace_utils.environment_helpers import get_sample_cfree_handle\n",
    "def col_free(q):\n",
    "    return not checker.CheckConfigCollisionFree(q)\n",
    "\n",
    "cfree_sampler = get_sample_cfree_handle(plant.GetPositionLowerLimits(), \n",
    "                                plant.GetPositionUpperLimits(),\n",
    "                                col_free)"
   ]
  },
  {
   "cell_type": "code",
   "execution_count": 4,
   "metadata": {},
   "outputs": [],
   "source": [
    "N = 200\n",
    "samps,_ = cfree_sampler(N, 1000,[])\n",
    "adj = VisibilityGraph(checker, samps.T, parallelize = True)\n"
   ]
  },
  {
   "cell_type": "code",
   "execution_count": 5,
   "metadata": {},
   "outputs": [
    {
     "name": "stdout",
     "output_type": "stream",
     "text": [
      "[CCDGDRAKE] remaining nodes 200\n",
      "[CCDGDRAKE] remaining nodes 77\n",
      "[CCDGDRAKE] remaining nodes 40\n",
      "[CCDGDRAKE] remaining nodes 16\n",
      "[CCDGDRAKE] remaining nodes 2\n"
     ]
    }
   ],
   "source": [
    "from cspace_utils.graphs import double_greedy_clique_cover\n",
    "\n",
    "clique_cover = double_greedy_clique_cover(adj, min_clique_size=1)"
   ]
  },
  {
   "cell_type": "code",
   "execution_count": 6,
   "metadata": {},
   "outputs": [],
   "source": [
    "from cspace_utils.plotting import (plot_points, \n",
    "                                   plot_vpoly_2d_meshcat, \n",
    "                                   plot_edges_clique,\n",
    "                                   plot_visibility_graph)\n",
    "from cspace_utils.colors import generate_maximally_different_colors\n",
    "\n",
    "nodes_for_plot = np.concatenate((samps, np.zeros((samps.shape[0],1))), axis = 1)\n",
    "nodes_for_plot = nodes_for_plot[:, [0,2,1]] \n",
    "\n",
    "colors = generate_maximally_different_colors(len(clique_cover))\n",
    "colors =[Rgba(c[0], c[1],c[2],1) for c in colors]\n",
    "for idx, clique in enumerate(clique_cover):\n",
    "    col = colors[idx]\n",
    "    plot_edges_clique(meshcat, clique, nodes_for_plot, f'cl_{idx}', col)\n",
    "\n",
    "# plot_points(meshcat, nodes_for_plot, 'nodes', size=0.05, color = Rgba(0,0,0,1))\n",
    "# plot_visibility_graph(meshcat, nodes_for_plot, adj, 'vg')"
   ]
  },
  {
   "cell_type": "code",
   "execution_count": 25,
   "metadata": {},
   "outputs": [
    {
     "data": {
      "text/plain": [
       "[(0.8, 0.07999999999999999, 0.07999999999999999),\n",
       " (0.07999999999999999, 0.8, 0.07999999999999999),\n",
       " (0.07999999999999999, 0.07999999999999999, 0.8)]"
      ]
     },
     "execution_count": 25,
     "metadata": {},
     "output_type": "execute_result"
    }
   ],
   "source": [
    "colors"
   ]
  }
 ],
 "metadata": {
  "kernelspec": {
   "display_name": "Python 3",
   "language": "python",
   "name": "python3"
  },
  "language_info": {
   "codemirror_mode": {
    "name": "ipython",
    "version": 3
   },
   "file_extension": ".py",
   "mimetype": "text/x-python",
   "name": "python",
   "nbconvert_exporter": "python",
   "pygments_lexer": "ipython3",
   "version": "3.10.12"
  }
 },
 "nbformat": 4,
 "nbformat_minor": 2
}
