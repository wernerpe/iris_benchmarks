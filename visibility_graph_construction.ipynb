{
 "cells": [
  {
   "cell_type": "code",
   "execution_count": 1,
   "metadata": {},
   "outputs": [],
   "source": [
    "%load_ext autoreload\n",
    "# Enable autoreload for all modules\n",
    "%autoreload 2"
   ]
  },
  {
   "cell_type": "code",
   "execution_count": 2,
   "metadata": {},
   "outputs": [],
   "source": [
    "from iris_environments.environments import get_environment_builder\n",
    "import numpy as np\n",
    "import ipywidgets as widgets\n",
    "from functools import partial\n",
    "from pydrake.all import (RigidTransform, Rgba, Sphere, RotationMatrix)"
   ]
  },
  {
   "cell_type": "code",
   "execution_count": 3,
   "metadata": {},
   "outputs": [],
   "source": [
    "from functools import partial\n",
    "from pydrake.all import (StartMeshcat,\n",
    "                         RobotDiagramBuilder,\n",
    "                         MeshcatVisualizer,\n",
    "                         LoadModelDirectives,\n",
    "                         ProcessModelDirectives,\n",
    "                         RigidTransform,\n",
    "                         RotationMatrix,\n",
    "                         MeshcatVisualizerParams,\n",
    "                         Role,\n",
    "                         RollPitchYaw,\n",
    "                         Meldis,\n",
    "                         AddDefaultVisualization,\n",
    "                         Box\n",
    "                         )\n",
    "import numpy as np\n",
    "import os\n",
    "\n",
    "def plant_builder_7dof_bins(usemeshcat = False):\n",
    "    if usemeshcat:\n",
    "        #meshcat = StartMeshcat()\n",
    "        meldis = Meldis()\n",
    "        meshcat = meldis.meshcat\n",
    "    builder = RobotDiagramBuilder()\n",
    "    plant = builder.plant()\n",
    "    scene_graph = builder.scene_graph()\n",
    "    parser = builder.parser()\n",
    "    #parser.package_map().Add(\"cvisirisexamples\", missing directory)\n",
    "    file_p = \"/home/peter/gitcspace/iris_benchmarks/iris_environments\"\n",
    "    directives_file = file_p+\"/directives/7dof_bins_example_urdf.yaml\"#FindResourceOrThrow() \n",
    "    path_repo = file_p#os.path.dirname(os.path.abspath(__file__))\n",
    "    parser.package_map().Add(\"iris_environments\", path_repo+\"/assets\")\n",
    "    directives = LoadModelDirectives(directives_file)\n",
    "    models = ProcessModelDirectives(directives, plant, parser)\n",
    "    plant.Finalize()\n",
    "    if usemeshcat:\n",
    "        #par = MeshcatVisualizerParams()\n",
    "        #par.role = Role.kIllustration\n",
    "        #visualizer = MeshcatVisualizer.AddToBuilder(builder.builder(), scene_graph, meshcat, par)\n",
    "        visualizer = AddDefaultVisualization(builder.builder(), meshcat)\n",
    "    diagram = builder.Build()\n",
    "    diagram_context = diagram.CreateDefaultContext()\n",
    "    plant_context = plant.GetMyContextFromRoot(diagram_context)\n",
    "    diagram.ForcedPublish(diagram_context)\n",
    "    return plant, scene_graph, diagram, diagram_context, plant_context, meshcat if usemeshcat else None\n",
    "\n"
   ]
  },
  {
   "cell_type": "code",
   "execution_count": 4,
   "metadata": {},
   "outputs": [],
   "source": [
    "# import sys\n",
    "# sys.path.append('../cuciv0/bazel-bin/cuci/src/pybind')\n",
    "# import pycuci\n",
    "# cuci_parser = pycuci.URDFParser()\n",
    "# cuci_parser.register_package(\"iris_environments\", \"./iris_environments\")\n",
    "# cuci_parser.parse_directives(\"iris_environments/directives/7dof_bins_example_urdf.yaml\")"
   ]
  },
  {
   "cell_type": "code",
   "execution_count": 5,
   "metadata": {},
   "outputs": [
    {
     "name": "stderr",
     "output_type": "stream",
     "text": [
      "INFO:drake:Meshcat listening for connections at http://localhost:7000\n"
     ]
    }
   ],
   "source": [
    "from iris_environments.environments import env_names\n",
    "currname = env_names[6]\n",
    "plant_builder = get_environment_builder(currname)\n",
    "plant, scene_graph, diagram, diagram_context, plant_context, meshcat = plant_builder_7dof_bins(usemeshcat=True)\n",
    "\n",
    "scene_graph_context = scene_graph.GetMyMutableContextFromRoot(\n",
    "    diagram_context)"
   ]
  },
  {
   "cell_type": "code",
   "execution_count": 6,
   "metadata": {},
   "outputs": [],
   "source": [
    "#make configuration file \n",
    "# import os\n",
    "# seed_point_file = 'benchmarks/seedpoints/'+currname+'.yml'\n",
    "# if seed_point_file.split('/')[2] in os.listdir('benchmarks/seedpoints'):\n",
    "#     file = open(seed_point_file, 'a') \n",
    "# else:\n",
    "#     file = open(seed_point_file, 'w')\n",
    "#     file.write('seedpoints:\\n')"
   ]
  },
  {
   "cell_type": "markdown",
   "metadata": {},
   "source": [
    "# Run this cell and then use the sliders and the button to save the seed points"
   ]
  },
  {
   "cell_type": "code",
   "execution_count": 7,
   "metadata": {},
   "outputs": [
    {
     "data": {
      "application/vnd.jupyter.widget-view+json": {
       "model_id": "78e0876969184c78939387908799aab5",
       "version_major": 2,
       "version_minor": 0
      },
      "text/plain": [
       "FloatSlider(value=0.0, description='q0', max=2.9373894, min=-2.9373894, step=0.001)"
      ]
     },
     "metadata": {},
     "output_type": "display_data"
    },
    {
     "data": {
      "application/vnd.jupyter.widget-view+json": {
       "model_id": "c4014e3a852e4de3850db9e9c1e4a7e2",
       "version_major": 2,
       "version_minor": 0
      },
      "text/plain": [
       "FloatSlider(value=0.0, description='q1', max=2.0734559999999997, min=-2.0734559999999997, step=0.001)"
      ]
     },
     "metadata": {},
     "output_type": "display_data"
    },
    {
     "data": {
      "application/vnd.jupyter.widget-view+json": {
       "model_id": "cb976ee0f37047298255bdb0f64a9986",
       "version_major": 2,
       "version_minor": 0
      },
      "text/plain": [
       "FloatSlider(value=0.0, description='q2', max=2.9373894, min=-2.9373894, step=0.001)"
      ]
     },
     "metadata": {},
     "output_type": "display_data"
    },
    {
     "data": {
      "application/vnd.jupyter.widget-view+json": {
       "model_id": "1f793f36ba0d4396ad041c0216232eff",
       "version_major": 2,
       "version_minor": 0
      },
      "text/plain": [
       "FloatSlider(value=0.0, description='q3', max=2.0734559999999997, min=-2.0734559999999997, step=0.001)"
      ]
     },
     "metadata": {},
     "output_type": "display_data"
    },
    {
     "data": {
      "application/vnd.jupyter.widget-view+json": {
       "model_id": "c1d24141540c47928bd915c39d9b6379",
       "version_major": 2,
       "version_minor": 0
      },
      "text/plain": [
       "FloatSlider(value=0.0, description='q4', max=2.9373894, min=-2.9373894, step=0.001)"
      ]
     },
     "metadata": {},
     "output_type": "display_data"
    },
    {
     "data": {
      "application/vnd.jupyter.widget-view+json": {
       "model_id": "efb985d25ba24a988c62842c26d46e78",
       "version_major": 2,
       "version_minor": 0
      },
      "text/plain": [
       "FloatSlider(value=0.0, description='q5', max=2.0734559999999997, min=-2.0734559999999997, step=0.001)"
      ]
     },
     "metadata": {},
     "output_type": "display_data"
    },
    {
     "data": {
      "application/vnd.jupyter.widget-view+json": {
       "model_id": "e74770a45a7342ceac6252bb7d0784a9",
       "version_major": 2,
       "version_minor": 0
      },
      "text/plain": [
       "FloatSlider(value=0.0, description='q6', max=3.0237867, min=-3.0237867, step=0.001)"
      ]
     },
     "metadata": {},
     "output_type": "display_data"
    },
    {
     "data": {
      "application/vnd.jupyter.widget-view+json": {
       "model_id": "1812c69a492e4d3fa6723971195d21fc",
       "version_major": 2,
       "version_minor": 0
      },
      "text/plain": [
       "Button(description='Save', style=ButtonStyle())"
      ]
     },
     "metadata": {},
     "output_type": "display_data"
    }
   ],
   "source": [
    "\n",
    "\n",
    "q = np.zeros(plant.num_positions()) \n",
    "sliders = []\n",
    "for i in range(plant.num_positions()):\n",
    "    q_low = plant.GetPositionLowerLimits()[i]*0.99\n",
    "    q_high = plant.GetPositionUpperLimits()[i]*0.99\n",
    "    sliders.append(widgets.FloatSlider(min=q_low, max=q_high, value=0, step=0.001, description=f\"q{i}\"))\n",
    "\n",
    "col_col =  Rgba(0.8, 0.0, 0, 0.5)    \n",
    "col_free =  Rgba(0.0, 0.8, 0.5, 0.5) \n",
    "def showres(qvis):\n",
    "    plant.SetPositions(plant_context, qvis)\n",
    "    diagram.ForcedPublish(diagram_context)\n",
    "    query = plant.get_geometry_query_input_port().Eval(plant_context)\n",
    "    col = query.HasCollisions()\n",
    "    if col:\n",
    "        meshcat.SetObject(f\"/drake/visualizer/shunk\",\n",
    "                                   Sphere(0.2),\n",
    "                                   col_col)\n",
    "    else:\n",
    "        meshcat.SetObject(f\"/drake/visualizer/shunk\",\n",
    "                                   Sphere(0.2),\n",
    "                                   col_free)\n",
    "    meshcat.SetTransform(f\"/drake/visualizer/shunk\",\n",
    "                                   RigidTransform(RotationMatrix(),\n",
    "                                                  np.array([0,0,2])))\n",
    "    return col\n",
    "\n",
    "def handle_slider_change(change, idx):\n",
    "    q[idx] = change['new']\n",
    "    showres(q)\n",
    "idx = 0\n",
    "for slider in sliders:\n",
    "    slider.observe(partial(handle_slider_change, idx = idx), names='value')\n",
    "    idx+=1\n",
    "\n",
    "for slider in sliders:\n",
    "    display(slider)\n",
    "\n",
    "# def write_seed_point_to_file(button):\n",
    "#     col = showres(q)\n",
    "#     if not col:\n",
    "#         line  = '- ['\n",
    "#         for a in q[:-1]:\n",
    "#             line+= str(a)+', '\n",
    "#         line+= str(q[-1])+']\\n'\n",
    "#         file.write(line)\n",
    "#         file.flush()\n",
    "#         #write seedpoint to file\n",
    "#     else:\n",
    "#         raise ValueError(\"That point is in collision\")\n",
    "\n",
    "button = widgets.Button(description=\"Save\")\n",
    "\n",
    "# Attach the function to the button's click event\n",
    "# button.on_click(write_seed_point_to_file)\n",
    "\n",
    "# Display the button\n",
    "display(button)"
   ]
  },
  {
   "cell_type": "code",
   "execution_count": 6,
   "metadata": {},
   "outputs": [],
   "source": [
    "q = np.array([-8.30000e-03,  1.16796e+00,  9.16740e-01,  8.10270e-01,\n",
    "        8.84370e-01,  1.15137e+00,  6.28890e-01,  6.30620e-01,\n",
    "       -3.00000e-04,  3.74960e-01,  1.42774e+00,  5.89270e-01,\n",
    "       -1.43300e-01,  5.32960e-01,  9.91740e-01,  6.33270e-01])"
   ]
  },
  {
   "cell_type": "code",
   "execution_count": 7,
   "metadata": {},
   "outputs": [],
   "source": [
    "file.close()"
   ]
  },
  {
   "cell_type": "markdown",
   "metadata": {},
   "source": [
    "# Inspect seed points"
   ]
  },
  {
   "cell_type": "code",
   "execution_count": 8,
   "metadata": {},
   "outputs": [
    {
     "name": "stdout",
     "output_type": "stream",
     "text": [
      " point 1 / 10\n",
      " point 2 / 10\n",
      " point 3 / 10\n",
      " point 4 / 10\n",
      " point 5 / 10\n",
      " point 6 / 10\n",
      " point 7 / 10\n",
      " point 8 / 10\n",
      " point 9 / 10\n",
      " point 10 / 10\n"
     ]
    }
   ],
   "source": [
    "import yaml\n",
    "import time\n",
    "\n",
    "with open(seed_point_file, 'r') as f:\n",
    "    seed_points = yaml.safe_load(f)\n",
    "seed_points = np.array(seed_points['seedpoints'])\n",
    "\n",
    "for i, s in enumerate(seed_points):\n",
    "    showres(s)\n",
    "    print(f\" point {i+1} / {len(seed_points)}\")\n",
    "    time.sleep(2)\n"
   ]
  },
  {
   "cell_type": "code",
   "execution_count": 11,
   "metadata": {},
   "outputs": [
    {
     "ename": "RuntimeError",
     "evalue": "GetRigidBodyByName(): There is no RigidBody named '' anywhere in the model (valid names in model instance 'WorldModelInstance' are: world; valid names in model instance 'allegro_hand' are: hand_root, link_0, link_1, link_10, link_11, link_12, link_13, link_14, link_15, link_2, link_3, link_4, link_5, link_6, link_7, link_8, link_9; valid names in model instance 'block' are: block_body)",
     "output_type": "error",
     "traceback": [
      "\u001b[0;31m---------------------------------------------------------------------------\u001b[0m",
      "\u001b[0;31mRuntimeError\u001b[0m                              Traceback (most recent call last)",
      "\u001b[0;32m/tmp/ipykernel_192605/1507517883.py\u001b[0m in \u001b[0;36m<module>\u001b[0;34m\u001b[0m\n\u001b[0;32m----> 1\u001b[0;31m \u001b[0mplant\u001b[0m\u001b[0;34m.\u001b[0m\u001b[0mGetBodyByName\u001b[0m\u001b[0;34m(\u001b[0m\u001b[0;34m\"\"\u001b[0m\u001b[0;34m)\u001b[0m\u001b[0;34m\u001b[0m\u001b[0;34m\u001b[0m\u001b[0m\n\u001b[0m",
      "\u001b[0;31mRuntimeError\u001b[0m: GetRigidBodyByName(): There is no RigidBody named '' anywhere in the model (valid names in model instance 'WorldModelInstance' are: world; valid names in model instance 'allegro_hand' are: hand_root, link_0, link_1, link_10, link_11, link_12, link_13, link_14, link_15, link_2, link_3, link_4, link_5, link_6, link_7, link_8, link_9; valid names in model instance 'block' are: block_body)"
     ]
    },
    {
     "name": "stderr",
     "output_type": "stream",
     "text": [
      "WARNING:drake:Meshcat: Failed http request for unknown URL /cmd.cgi\n"
     ]
    }
   ],
   "source": [
    "plant.GetBodyByName(\"\")"
   ]
  },
  {
   "cell_type": "code",
   "execution_count": 20,
   "metadata": {},
   "outputs": [
    {
     "data": {
      "text/plain": [
       "False"
      ]
     },
     "execution_count": 20,
     "metadata": {},
     "output_type": "execute_result"
    }
   ],
   "source": [
    "showres(seed_points[-3])"
   ]
  },
  {
   "cell_type": "code",
   "execution_count": 10,
   "metadata": {},
   "outputs": [
    {
     "data": {
      "text/plain": [
       "array([ 0.434544, -0.6944  ])"
      ]
     },
     "execution_count": 10,
     "metadata": {},
     "output_type": "execute_result"
    }
   ],
   "source": [
    "q"
   ]
  },
  {
   "cell_type": "markdown",
   "metadata": {},
   "source": []
  }
 ],
 "metadata": {
  "kernelspec": {
   "display_name": "Python 3",
   "language": "python",
   "name": "python3"
  },
  "language_info": {
   "codemirror_mode": {
    "name": "ipython",
    "version": 3
   },
   "file_extension": ".py",
   "mimetype": "text/x-python",
   "name": "python",
   "nbconvert_exporter": "python",
   "pygments_lexer": "ipython3",
   "version": "3.10.12"
  }
 },
 "nbformat": 4,
 "nbformat_minor": 2
}
