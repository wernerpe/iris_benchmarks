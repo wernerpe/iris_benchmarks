{
 "cells": [
  {
   "cell_type": "code",
   "execution_count": 1,
   "metadata": {},
   "outputs": [],
   "source": [
    "from iris_environments.environments import get_environment_builder\n",
    "import numpy as np\n",
    "import ipywidgets as widgets\n",
    "from functools import partial\n",
    "from pydrake.all import (RigidTransform, Rgba, Sphere, RotationMatrix)"
   ]
  },
  {
   "cell_type": "code",
   "execution_count": 3,
   "metadata": {},
   "outputs": [
    {
     "name": "stderr",
     "output_type": "stream",
     "text": [
      "INFO:drake:Allocating contexts to support implicit context parallelism 20\n",
      "INFO:drake:Meshcat listening for connections at http://localhost:7000\n",
      "INFO:drake:Allocating contexts to support implicit context parallelism 20\n"
     ]
    },
    {
     "name": "stdout",
     "output_type": "stream",
     "text": [
      " dim 2 \n",
      " col free frac 0.3966831 \n",
      " col free vol 10.6802\n",
      "/home/peter/git/iris_benchmarks/iris_environments/assets/box_small.urdf\n",
      "http://localhost:7000\n"
     ]
    },
    {
     "name": "stderr",
     "output_type": "stream",
     "text": [
      "WARNING:drake:/home/peter/git/iris_benchmarks/iris_environments/assets/models/ur3e/ur3e_cylinder_weld_wrist.urdf:287: warning: Skipping transmission since it's attached to a fixed joint \"ur_wrist_3_joint\".\n",
      "INFO:drake:Allocating contexts to support implicit context parallelism 20\n"
     ]
    },
    {
     "name": "stdout",
     "output_type": "stream",
     "text": [
      " dim 3 \n",
      " col free frac 0.1487643 \n",
      " col free vol 16.7773\n"
     ]
    },
    {
     "name": "stderr",
     "output_type": "stream",
     "text": [
      "INFO:drake:Allocating contexts to support implicit context parallelism 20\n"
     ]
    },
    {
     "name": "stdout",
     "output_type": "stream",
     "text": [
      " dim 5 \n",
      " col free frac 0.2680161 \n",
      " col free vol 1549.7897\n"
     ]
    },
    {
     "name": "stderr",
     "output_type": "stream",
     "text": [
      "INFO:drake:Allocating contexts to support implicit context parallelism 20\n"
     ]
    },
    {
     "name": "stdout",
     "output_type": "stream",
     "text": [
      " dim 6 \n",
      " col free frac 0.254163 \n",
      " col free vol 8310.8720\n"
     ]
    },
    {
     "name": "stderr",
     "output_type": "stream",
     "text": [
      "INFO:drake:Allocating contexts to support implicit context parallelism 20\n"
     ]
    },
    {
     "name": "stdout",
     "output_type": "stream",
     "text": [
      " dim 7 \n",
      " col free frac 0.4803712 \n",
      " col free vol 45067.2194\n"
     ]
    },
    {
     "name": "stderr",
     "output_type": "stream",
     "text": [
      "INFO:drake:Allocating contexts to support implicit context parallelism 20\n"
     ]
    },
    {
     "name": "stdout",
     "output_type": "stream",
     "text": [
      " dim 7 \n",
      " col free frac 0.1169281 \n",
      " col free vol 10969.9006\n"
     ]
    },
    {
     "name": "stderr",
     "output_type": "stream",
     "text": [
      "INFO:drake:Allocating contexts to support implicit context parallelism 20\n"
     ]
    },
    {
     "name": "stdout",
     "output_type": "stream",
     "text": [
      " dim 7 \n",
      " col free frac 0.576715 \n",
      " col free vol 54105.9527\n"
     ]
    },
    {
     "name": "stderr",
     "output_type": "stream",
     "text": [
      "INFO:drake:Allocating contexts to support implicit context parallelism 20\n"
     ]
    },
    {
     "name": "stdout",
     "output_type": "stream",
     "text": [
      " dim 14 \n",
      " col free frac 0.535837 \n",
      " col free vol 4716207300.2937\n",
      " dim 16 \n",
      " col free frac 0.260929 \n",
      " col free vol 265.1549\n"
     ]
    }
   ],
   "source": [
    "from iris_environments.environments import env_names, get_robot_instance_names\n",
    "from pydrake.all import SceneGraphCollisionChecker\n",
    "\n",
    "with open('env_statistics.txt', 'w') as f:\n",
    "    f.write(f\"dimension,  col_free_frac, col_free_volume\\n\")\n",
    "    for currname in env_names:\n",
    "        plant_builder = get_environment_builder(currname)\n",
    "        plant, scene_graph, diagram, diagram_context, plant_context, meshcat = plant_builder(usemeshcat=False)\n",
    "\n",
    "        scene_graph_context = scene_graph.GetMyMutableContextFromRoot(\n",
    "            diagram_context)\n",
    "        rob_names = get_robot_instance_names(currname)\n",
    "        robot_instances = [plant.GetModelInstanceByName(n) for n in rob_names]\n",
    "        checker = SceneGraphCollisionChecker(model = diagram, \n",
    "                            robot_model_instances = robot_instances,\n",
    "                            #configuration_distance_function = _configuration_distance,\n",
    "                            edge_step_size = 0.125)\n",
    "        N = int(1e7)\n",
    "        qmin = plant.GetPositionLowerLimits()\n",
    "        qmax = plant.GetPositionUpperLimits()\n",
    "        dim = len(qmin)\n",
    "        samples = (qmax-qmin).reshape(1, dim)*np.random.rand(N,dim) + qmin.reshape(1,dim)\n",
    "\n",
    "        col_free = checker.CheckConfigsCollisionFree(samples, parallelize=True)\n",
    "\n",
    "        vol_cfree = np.sum(col_free)/N*np.prod((qmax-qmin))\n",
    "        vol_obs = (N-np.sum(col_free))/N*np.prod((qmax-qmin))\n",
    "        col_free_frac = np.sum(col_free)/N\n",
    "\n",
    "        print(f\" dim {dim} \\n col free frac {col_free_frac} \\n col free vol {vol_cfree:.4f}\")\n",
    "        f.write(f\"{dim}, {col_free_frac:.4f}, {vol_cfree:4f}, {currname}\\n\")\n"
   ]
  },
  {
   "cell_type": "code",
   "execution_count": 9,
   "metadata": {},
   "outputs": [
    {
     "name": "stdout",
     "output_type": "stream",
     "text": [
      " dim 2 \n",
      " col free frac 0.389 \n",
      " col free vol 10.473298076159999\n"
     ]
    }
   ],
   "source": []
  },
  {
   "cell_type": "code",
   "execution_count": 7,
   "metadata": {},
   "outputs": [
    {
     "data": {
      "text/plain": [
       "32.0"
      ]
     },
     "execution_count": 7,
     "metadata": {},
     "output_type": "execute_result"
    }
   ],
   "source": [
    "np.prod(2*np.ones(5))"
   ]
  }
 ],
 "metadata": {
  "kernelspec": {
   "display_name": "Python 3",
   "language": "python",
   "name": "python3"
  },
  "language_info": {
   "codemirror_mode": {
    "name": "ipython",
    "version": 3
   },
   "file_extension": ".py",
   "mimetype": "text/x-python",
   "name": "python",
   "nbconvert_exporter": "python",
   "pygments_lexer": "ipython3",
   "version": "3.10.12"
  }
 },
 "nbformat": 4,
 "nbformat_minor": 2
}
