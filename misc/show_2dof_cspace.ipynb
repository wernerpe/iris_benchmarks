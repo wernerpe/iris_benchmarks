{
 "cells": [
  {
   "cell_type": "code",
   "execution_count": 1,
   "metadata": {},
   "outputs": [],
   "source": [
    "%load_ext autoreload\n",
    "# Enable autoreload for all modules\n",
    "%autoreload 2"
   ]
  },
  {
   "cell_type": "code",
   "execution_count": 2,
   "metadata": {},
   "outputs": [],
   "source": [
    "from iris_environments.environments import get_environment_builder\n",
    "import numpy as np\n",
    "import ipywidgets as widgets\n",
    "from functools import partial\n",
    "from pydrake.all import (RigidTransform, \n",
    "                         Rgba, \n",
    "                         Sphere, \n",
    "                         RotationMatrix, \n",
    "                         TriangleSurfaceMesh, \n",
    "                         SurfaceTriangle)"
   ]
  },
  {
   "cell_type": "code",
   "execution_count": 3,
   "metadata": {},
   "outputs": [
    {
     "name": "stderr",
     "output_type": "stream",
     "text": [
      "INFO:drake:Meshcat listening for connections at http://localhost:7000\n"
     ]
    },
    {
     "name": "stdout",
     "output_type": "stream",
     "text": [
      "http://localhost:7000\n"
     ]
    }
   ],
   "source": [
    "from iris_environments.environments import env_names\n",
    "currname = '2DOFFLIPPER'\n",
    "plant_builder = get_environment_builder(currname)\n",
    "plant, scene_graph, diagram, diagram_context, plant_context, meshcat = plant_builder(usemeshcat=True)\n",
    "\n",
    "scene_graph_context = scene_graph.GetMyMutableContextFromRoot(\n",
    "    diagram_context)"
   ]
  },
  {
   "cell_type": "code",
   "execution_count": 4,
   "metadata": {},
   "outputs": [],
   "source": [
    "from cspace_utils.environment_helpers import get_col_func\n",
    "_offset_meshcat_2 = np.array([-1,-3.8, 0.75])\n",
    "q_min = np.concatenate((plant.GetPositionLowerLimits(), np.array([-0])))\n",
    "q_max =  np.concatenate((plant.GetPositionUpperLimits(),np.array([-0])))\n",
    "\n",
    "def col_func(q):\n",
    "        plant.SetPositions(plant_context, q)\n",
    "        #diagram.ForcedPublish(diagram_context)\n",
    "        query = plant.get_geometry_query_input_port().Eval(plant_context)\n",
    "        return query.HasCollisions()\n",
    "\n",
    "def check_collision_by_ik(q0,q1,q2, min_dist=1e-5):\n",
    "    q = np.array([q0,q1])\n",
    "    # if np.any(q[1:]>q_max[1:]) and np.any(np.max(q[1:])*np.ones(2)<1.1*q_max[1:]):\n",
    "    #     return 0\n",
    "    if np.any(q[:-1]>q_max[:-1]) :\n",
    "        return 0\n",
    "    # if np.any(q<q_min[1:]) and np.any(np.min(q[1:])*np.ones(2)>1.1*q_min[1:]):\n",
    "    #     return 0\n",
    "    if np.any(q[:-1]<q_min[:-1]) :\n",
    "        return 0\n",
    "    if np.any(q2!=0):\n",
    "        return 1\n",
    "    return 1-1.*col_func(q) "
   ]
  },
  {
   "cell_type": "code",
   "execution_count": 5,
   "metadata": {},
   "outputs": [],
   "source": [
    "import pickle, os, mcubes\n",
    "scale = 1\n",
    "def plot_collision_constraint(N = 50, q_min = q_min, q_max= q_max, scale = 0.33):\n",
    "    if f\"col_cons2d{N}.pkl\" in os.listdir('../tmp'):\n",
    "        with open(f\"../tmp/col_cons2d{N}.pkl\", 'rb') as f:\n",
    "            d = pickle.load(f)\n",
    "            vertices = d['vertices']\n",
    "            triangles = d['triangles']\n",
    "    else:  \n",
    "        lim_min = q_min-np.array([0.5,0.1,0])\n",
    "        lim_min[2] = -0.1 \n",
    "        lim_max = q_max+np.array([0.5,0.1,0])\n",
    "        lim_max[2] = 0.1 \n",
    "       \n",
    "        print(f\"min {tuple(q_min-0.6)} max {tuple(q_max+0.8)}\")\n",
    "        vertices, triangles = mcubes.marching_cubes_func(\n",
    "        tuple(lim_min), tuple(lim_max), N, N, 3, check_collision_by_ik, 0.5)\n",
    "        with open(f\"../tmp/col_cons2d{N}.pkl\", 'wb') as f:\n",
    "                d = {'vertices': vertices, 'triangles': triangles}\n",
    "                pickle.dump(d, f)\n",
    "\n",
    "    tri_drake = [SurfaceTriangle(*t) for t in triangles]\n",
    "    vertices *=scale\n",
    "    vertices += _offset_meshcat_2.reshape(-1,3)\n",
    "    meshcat.SetObject(\"/collision_constraint/c1\",\n",
    "                                    TriangleSurfaceMesh(tri_drake, vertices),\n",
    "                                    Rgba(0, 0, 0, 1))\n",
    "    # meshcat.SetObject(\"/collision_constraint/c2\",\n",
    "    #                                 TriangleSurfaceMesh(tri_drake, vertices),\n",
    "    #                                 Rgba(0.6, 0.0, 0, 1), wireframe = True)\n",
    "    \n",
    "plot_collision_constraint(650, scale=scale)"
   ]
  },
  {
   "cell_type": "code",
   "execution_count": 17,
   "metadata": {},
   "outputs": [],
   "source": [
    "meshcat.Set2dRenderMode(RigidTransform(RotationMatrix.MakeYRotation(-np.pi/2), np.array([0,0,1])), xmin=-20, xmax=10, ymin=-10, ymax=2)\n",
    "        "
   ]
  },
  {
   "cell_type": "code",
   "execution_count": 7,
   "metadata": {},
   "outputs": [],
   "source": [
    "from pydrake.all import VisualizationConfig\n",
    "config = VisualizationConfig()\n",
    "config.enable_alpha_sliders = True"
   ]
  },
  {
   "cell_type": "code",
   "execution_count": 8,
   "metadata": {},
   "outputs": [
    {
     "data": {
      "application/vnd.jupyter.widget-view+json": {
       "model_id": "e1ecd643895a4ddd8ebc5049dd90c02e",
       "version_major": 2,
       "version_minor": 0
      },
      "text/plain": [
       "FloatSlider(value=0.0, description='q0', max=2.568456, min=-2.568456, step=0.001)"
      ]
     },
     "metadata": {},
     "output_type": "display_data"
    },
    {
     "data": {
      "application/vnd.jupyter.widget-view+json": {
       "model_id": "4f686a337f1741029b3dad485514b3ea",
       "version_major": 2,
       "version_minor": 0
      },
      "text/plain": [
       "FloatSlider(value=0.0, description='q1', max=2.568456, min=-2.568456, step=0.001)"
      ]
     },
     "metadata": {},
     "output_type": "display_data"
    }
   ],
   "source": [
    "\n",
    "\n",
    "q = np.zeros(plant.num_positions()) \n",
    "sliders = []\n",
    "for i in range(plant.num_positions()):\n",
    "    q_low = plant.GetPositionLowerLimits()[i]*0.99\n",
    "    q_high = plant.GetPositionUpperLimits()[i]*0.99\n",
    "    sliders.append(widgets.FloatSlider(min=q_low, max=q_high, value=0, step=0.001, description=f\"q{i}\"))\n",
    "\n",
    "col_col =  Rgba(0.8, 0.0, 0, 1)    \n",
    "col_free =  Rgba(0.0, 0.8, 0.5, 1) \n",
    "def showres(qvis):\n",
    "    q = qvis.copy()\n",
    "    plant.SetPositions(plant_context, qvis)\n",
    "    diagram.ForcedPublish(diagram_context)\n",
    "    query = plant.get_geometry_query_input_port().Eval(plant_context)\n",
    "    col = query.HasCollisions()\n",
    "    if col:\n",
    "        meshcat.SetObject(f\"/drake/visualizer/conf\",\n",
    "                                    Sphere(0.04),\n",
    "                                    col_col)\n",
    "        meshcat.SetTransform(f\"/drake/visualizer/conf\",\n",
    "                                    RigidTransform(RotationMatrix(),\n",
    "                                                    scale*np.array([q[0],q[1],0])+_offset_meshcat_2+np.array([0,0,0.3])))\n",
    "    else:\n",
    "        # meshcat.SetObject(f\"/drake/visualizer/shunk\",\n",
    "        #                            Sphere(0.2),\n",
    "        #                            col_free)\n",
    "        meshcat.SetObject(f\"/drake/visualizer/conf\",\n",
    "                                    Sphere(0.04),\n",
    "                                    col_free)\n",
    "        meshcat.SetTransform(f\"/drake/visualizer/conf\",\n",
    "                                    RigidTransform(RotationMatrix(),\n",
    "                                                    scale*np.array([q[0],q[1],0])+_offset_meshcat_2+np.array([0,0,0.3])))\n",
    "    # meshcat.SetTransform(f\"/drake/visualizer/shunk\",\n",
    "    #                                RigidTransform(RotationMatrix(),\n",
    "    #                                               np.array([0,0,2])))\n",
    "   \n",
    "    return col\n",
    "\n",
    "def handle_slider_change(change, idx):\n",
    "    q[idx] = change['new']\n",
    "    showres(q)\n",
    "idx = 0\n",
    "for slider in sliders:\n",
    "    slider.observe(partial(handle_slider_change, idx = idx), names='value')\n",
    "    idx+=1\n",
    "\n",
    "for slider in sliders:\n",
    "    display(slider)\n"
   ]
  },
  {
   "cell_type": "code",
   "execution_count": 9,
   "metadata": {},
   "outputs": [],
   "source": [
    "query = plant.get_geometry_query_input_port().Eval(plant_context)\n",
    "pairs = query.ComputeSignedDistancePairwiseClosestPoints()\n",
    "\n",
    "id_pairs = []\n",
    "for p in pairs:\n",
    "    ida = p.id_A.get_value()\n",
    "    idb = p.id_B.get_value()\n",
    "    coll_set = set([ida, idb])\n",
    "    if coll_set not in id_pairs:\n",
    "        id_pairs.append(coll_set)"
   ]
  },
  {
   "cell_type": "code",
   "execution_count": 10,
   "metadata": {},
   "outputs": [
    {
     "data": {
      "text/plain": [
       "24"
      ]
     },
     "execution_count": 10,
     "metadata": {},
     "output_type": "execute_result"
    }
   ],
   "source": [
    "len(id_pairs)"
   ]
  },
  {
   "cell_type": "code",
   "execution_count": 45,
   "metadata": {},
   "outputs": [
    {
     "name": "stdout",
     "output_type": "stream",
     "text": [
      "mesh found 39392\n",
      "mesh found 44272\n",
      "mesh found 45584\n",
      "mesh found 4444\n",
      "mesh found 11345\n"
     ]
    }
   ],
   "source": [
    "# def col_func(q):\n",
    "#         plant.SetPositions(plant_context, q)\n",
    "#         #diagram.ForcedPublish(diagram_context)\n",
    "#         query = plant.get_geometry_query_input_port().Eval(plant_context)\n",
    "#         return query.HasCollisions()\n",
    "\n",
    "def check_collision_id_pair(q0,q1,q2, id_pair, min_dist=1e-5):\n",
    "    q = np.array([q0, q1])\n",
    "    # if np.any(q[1:]>q_max[1:]) and np.any(np.max(q[1:])*np.ones(2)<1.1*q_max[1:]):\n",
    "    #     return 0\n",
    "    if np.any(q[:-1]>q_max[:-1]) :\n",
    "        return 1\n",
    "    # if np.any(q<q_min[1:]) and np.any(np.min(q[1:])*np.ones(2)>1.1*q_min[1:]):\n",
    "    #     return 0\n",
    "    if np.any(q[:-1]<q_min[:-1]) :\n",
    "        return 1\n",
    "    if np.any(q2!=0):\n",
    "        return 1\n",
    "    return 1-1.*coll_check_by_id_pair(q, id_pair) \n",
    "\n",
    "def coll_check_by_id_pair(q, id_pair):\n",
    "    plant.SetPositions(plant_context, q)\n",
    "    query = plant.get_geometry_query_input_port().Eval(plant_context)\n",
    "    pairs = query.ComputeSignedDistancePairwiseClosestPoints()\n",
    "    for i, p in enumerate(pairs):\n",
    "        ida = p.id_A.get_value()\n",
    "        idb = p.id_B.get_value()\n",
    "        coll_set = set([ida, idb])\n",
    "        if id_pair == coll_set:\n",
    "            return p.distance<=0\n",
    "    return False\n",
    "\n",
    "\n",
    "def plot_collision_constraint_id_pair(id_pair, color = Rgba(0,0,0,1), N = 50,  q_min = q_min, q_max= q_max,scale = 0.33, h = 0):\n",
    "    id_string = str(sorted(id_pair))\n",
    "    if f\"col_cons2d{N}_{id_string}.pkl\" in os.listdir('../tmp'):\n",
    "        with open(f\"../tmp/col_cons2d{N}_{id_string}.pkl\", 'rb') as f:\n",
    "            d = pickle.load(f)\n",
    "            vertices = d['vertices']\n",
    "            triangles = d['triangles']\n",
    "    else:  \n",
    "        lim_min = q_min-np.array([0.5,0.1,0])\n",
    "        lim_min[2] = -0.05 \n",
    "        lim_max = q_max+np.array([0.5,0.1,0])\n",
    "        lim_max[2] = 0.05 \n",
    "        col_hand = partial(check_collision_id_pair, id_pair = id_pair)\n",
    "        print(f\"min {tuple(q_min-0.6)} max {tuple(q_max+0.8)}\")\n",
    "        vertices, triangles = mcubes.marching_cubes_func(\n",
    "        tuple(lim_min), tuple(lim_max), N, N, 3, col_hand, 0.5)\n",
    "        with open(f\"../tmp/col_cons2d{N}_{id_string}.pkl\", 'wb') as f:\n",
    "                d = {'vertices': vertices, 'triangles': triangles}\n",
    "                pickle.dump(d, f)\n",
    "    if len(vertices):\n",
    "        print(f\"mesh found {len(vertices)}\")\n",
    "        tri_drake = [SurfaceTriangle(*t) for t in triangles]\n",
    "        vertices *=scale\n",
    "        vertices += _offset_meshcat_2.reshape(-1,3) + np.array([0,0,1+h*0.1])\n",
    "        meshcat.SetObject(f\"/collision_constraint/c1{id_string}\",\n",
    "                                        TriangleSurfaceMesh(tri_drake, vertices),\n",
    "                                        color)\n",
    "    # meshcat.SetObject(\"/collision_constraint/c2\",\n",
    "    #                                 TriangleSurfaceMesh(tri_drake, vertices),\n",
    "    #                                 Rgba(0.6, 0.0, 0, 1), wireframe = True)\n",
    "    \n",
    "# plot_collision_constraint(650, scale=scale)\n",
    "\n",
    "from cspace_utils.colors import generate_distinct_colors, generate_maximally_different_colors\n",
    "\n",
    "col_id_ref = [set([63, 67]), \n",
    "              set([51, 67]), \n",
    "              set([45, 67]), \n",
    "              set([27, 57]), \n",
    "              set([21, 51])]\n",
    "colors = [Rgba(c[0], c[1], c[2], 0.7) for c in generate_maximally_different_colors(len(col_id_ref))]\n",
    "\n",
    "for i, pair in enumerate(col_id_ref):\n",
    "     plot_collision_constraint_id_pair(pair, color=colors[i], N = 300, scale =1, h = i)"
   ]
  },
  {
   "cell_type": "code",
   "execution_count": 12,
   "metadata": {},
   "outputs": [
    {
     "data": {
      "text/plain": [
       "False"
      ]
     },
     "execution_count": 12,
     "metadata": {},
     "output_type": "execute_result"
    }
   ],
   "source": [
    "showres(np.array([-1.04,  0.08]))"
   ]
  },
  {
   "cell_type": "code",
   "execution_count": 46,
   "metadata": {},
   "outputs": [
    {
     "name": "stderr",
     "output_type": "stream",
     "text": [
      "INFO:drake:IrisInConfigurationSpace iteration 0\n",
      "INFO:drake:IrisInConfigurationSpace iteration 1\n",
      "INFO:drake:IrisInConfigurationSpace iteration 2\n",
      "INFO:drake:IrisInConfigurationSpace: Terminating because the hyperellipsoid volume change -0.06004968142108069 is below the threshold 0.02.\n"
     ]
    },
    {
     "name": "stdout",
     "output_type": "stream",
     "text": [
      "(12, 2)\n"
     ]
    }
   ],
   "source": [
    "from pydrake.all import IrisInConfigurationSpace, IrisOptions\n",
    "qseed = np.array([-1.04,  0.08])\n",
    "showres(qseed)\n",
    "plant.SetPositions(plant_context,qseed )\n",
    "io = IrisOptions()\n",
    "io.configuration_space_margin = 0.1\n",
    "#io.configuration_space_margin = 0.000015\n",
    "io.num_collision_infeasible_samples = 200\n",
    "io.iteration_limit =4\n",
    "region = IrisInConfigurationSpace(plant, plant_context, io)\n",
    "print(region.A().shape)"
   ]
  },
  {
   "cell_type": "code",
   "execution_count": 51,
   "metadata": {},
   "outputs": [
    {
     "name": "stdout",
     "output_type": "stream",
     "text": [
      "Warning for adding constraints: zero or small (< 1e-13) coefficients, ignored\n",
      "Warning for adding constraints: zero or small (< 1e-13) coefficients, ignored\n",
      "Warning for adding constraints: zero or small (< 1e-13) coefficients, ignored\n",
      "Warning for adding constraints: zero or small (< 1e-13) coefficients, ignored\n",
      "Warning for adding constraints: zero or small (< 1e-13) coefficients, ignored\n",
      "Warning for adding constraints: zero or small (< 1e-13) coefficients, ignored\n",
      "Warning for adding constraints: zero or small (< 1e-13) coefficients, ignored\n",
      "Warning for adding constraints: zero or small (< 1e-13) coefficients, ignored\n",
      "Warning for adding constraints: zero or small (< 1e-13) coefficients, ignored\n",
      "Warning for adding constraints: zero or small (< 1e-13) coefficients, ignored\n",
      "Warning for adding constraints: zero or small (< 1e-13) coefficients, ignored\n",
      "Warning for adding constraints: zero or small (< 1e-13) coefficients, ignored\n"
     ]
    }
   ],
   "source": [
    "#extend edges\n",
    "meshcat.Delete('hplanes')\n",
    "meshcat.Delete('reg')\n",
    "meshcat.SetProperty('/Lights/PointLightNegativeX', 'visible', False)\n",
    "meshcat.SetProperty('/Lights/PointLightPositiveX', 'visible', False)\n",
    "meshcat.SetProperty('/Lights/AmbientLight/<object>', 'intensity', 5.0)\n",
    "from cspace_utils.plotting import plot_vpoly_2d_meshcat, plot_point, stretch_array_to_3d\n",
    "from pydrake.all import Rgba, VPolytope, HPolyhedron\n",
    "dom = VPolytope(HPolyhedron.MakeBox(plant.GetPositionLowerLimits(), plant.GetPositionUpperLimits()))\n",
    "Hdom = HPolyhedron.MakeBox(plant.GetPositionLowerLimits(), plant.GetPositionUpperLimits())\n",
    "#plot_vpoly_2d_meshcat(meshcat, vpoly=dom, name = 'dom', translation=_offset_meshcat_2+np.array([0,0,0.3]), color=Rgba(0,0,0,1),size = 0.02, axes=0)\n",
    "plot_vpoly_2d_meshcat(meshcat, \n",
    "                      vpoly=VPolytope(region), \n",
    "                      name = 'reg', \n",
    "                      translation=_offset_meshcat_2+np.array([0,0,0.5]), \n",
    "                      size = 0.02, \n",
    "                      color=Rgba(0.7,0.0,0,1), \n",
    "                      axes=0)\n",
    "from cspace_utils.plotting import sorted_vertices, plot_edges\n",
    "v = sorted_vertices(VPolytope(region)).T#s\n",
    "v = np.concatenate((v, v[0,:].reshape(1,-1)), axis=0)\n",
    "edges = [ [v[i, :], v[i+1, :]]for i in range(len(v)-1)]\n",
    "\n",
    "edges_extended = []\n",
    "sidelen = np.max(plant.GetPositionUpperLimits()-plant.GetPositionLowerLimits())*np.sqrt(2)\n",
    "\n",
    "for e in edges:\n",
    "    pt1 = e[0]\n",
    "    pt2 = e[1]\n",
    "    dir = (pt2-pt1)/(1e-6 + np.linalg.norm(pt2-pt1))\n",
    "    N = 100\n",
    "    pt1_ext = pt1\n",
    "    pt2_ext = pt2\n",
    "    tvals = np.linspace(0, 1, 100)[::-1]\n",
    "    for t in tvals:\n",
    "        if Hdom.PointInSet(pt1 + dir*sidelen*t):\n",
    "            pt2_ext = pt1 + dir*sidelen*t\n",
    "            break\n",
    "    for t in tvals:\n",
    "        if Hdom.PointInSet(pt1 - dir*sidelen*t):\n",
    "            pt1_ext = pt1 - dir*sidelen*t\n",
    "            break\n",
    "    edges_extended.append([pt1_ext, pt2_ext])\n",
    "\n",
    "plot_edges(meshcat, edges_extended, 'hplanes/', Rgba(0,0.5,1,1),size = 0.01, translation=_offset_meshcat_2+np.array([0,0,0.3]))\n",
    "plot_point(stretch_array_to_3d(qseed)+_offset_meshcat_2, meshcat, 'seed', Rgba(0.1, 0 ,0,1), 0.05)"
   ]
  },
  {
   "cell_type": "code",
   "execution_count": null,
   "metadata": {},
   "outputs": [],
   "source": [
    "\n"
   ]
  },
  {
   "cell_type": "code",
   "execution_count": 21,
   "metadata": {},
   "outputs": [
    {
     "data": {
      "text/plain": [
       "True"
      ]
     },
     "execution_count": 21,
     "metadata": {},
     "output_type": "execute_result"
    }
   ],
   "source": [
    "showres(np.zeros(2))"
   ]
  },
  {
   "cell_type": "code",
   "execution_count": null,
   "metadata": {},
   "outputs": [],
   "source": [
    "#make configuration file \n",
    "import os\n",
    "seed_point_file = 'benchmarks/seedpoints/'+currname+'.yml'\n",
    "if seed_point_file.split('/')[2] in os.listdir('benchmarks/seedpoints'):\n",
    "    file = open(seed_point_file, 'a') \n",
    "else:\n",
    "    file = open(seed_point_file, 'w')\n",
    "    file.write('seedpoints:\\n')"
   ]
  },
  {
   "cell_type": "markdown",
   "metadata": {},
   "source": [
    "# Run this cell and then use the sliders and the button to save the seed points"
   ]
  },
  {
   "cell_type": "code",
   "execution_count": null,
   "metadata": {},
   "outputs": [],
   "source": [
    "\n",
    "\n",
    "q = np.zeros(plant.num_positions()) \n",
    "sliders = []\n",
    "for i in range(plant.num_positions()):\n",
    "    q_low = plant.GetPositionLowerLimits()[i]*0.99\n",
    "    q_high = plant.GetPositionUpperLimits()[i]*0.99\n",
    "    sliders.append(widgets.FloatSlider(min=q_low, max=q_high, value=0, step=0.001, description=f\"q{i}\"))\n",
    "\n",
    "col_col =  Rgba(0.8, 0.0, 0, 0.5)    \n",
    "col_free =  Rgba(0.0, 0.8, 0.5, 0.5) \n",
    "def showres(qvis):\n",
    "    plant.SetPositions(plant_context, qvis)\n",
    "    diagram.ForcedPublish(diagram_context)\n",
    "    query = plant.get_geometry_query_input_port().Eval(plant_context)\n",
    "    col = query.HasCollisions()\n",
    "    if col:\n",
    "        meshcat.SetObject(f\"/drake/visualizer/shunk\",\n",
    "                                   Sphere(0.2),\n",
    "                                   col_col)\n",
    "    else:\n",
    "        meshcat.SetObject(f\"/drake/visualizer/shunk\",\n",
    "                                   Sphere(0.2),\n",
    "                                   col_free)\n",
    "    meshcat.SetTransform(f\"/drake/visualizer/shunk\",\n",
    "                                   RigidTransform(RotationMatrix(),\n",
    "                                                  np.array([0,0,2])))\n",
    "    return col\n",
    "\n",
    "def handle_slider_change(change, idx):\n",
    "    q[idx] = change['new']\n",
    "    showres(q)\n",
    "idx = 0\n",
    "for slider in sliders:\n",
    "    slider.observe(partial(handle_slider_change, idx = idx), names='value')\n",
    "    idx+=1\n",
    "\n",
    "for slider in sliders:\n",
    "    display(slider)\n",
    "\n",
    "def write_seed_point_to_file(button):\n",
    "    col = showres(q)\n",
    "    if not col:\n",
    "        line  = '- ['\n",
    "        for a in q[:-1]:\n",
    "            line+= str(a)+', '\n",
    "        line+= str(q[-1])+']\\n'\n",
    "        file.write(line)\n",
    "        file.flush()\n",
    "        #write seedpoint to file\n",
    "    else:\n",
    "        raise ValueError(\"That point is in collision\")\n",
    "\n",
    "button = widgets.Button(description=\"Save\")\n",
    "\n",
    "# Attach the function to the button's click event\n",
    "button.on_click(write_seed_point_to_file)\n",
    "\n",
    "# Display the button\n",
    "display(button)"
   ]
  },
  {
   "cell_type": "code",
   "execution_count": null,
   "metadata": {},
   "outputs": [],
   "source": [
    "q = np.array([-8.30000e-03,  1.16796e+00,  9.16740e-01,  8.10270e-01,\n",
    "        8.84370e-01,  1.15137e+00,  6.28890e-01,  6.30620e-01,\n",
    "       -3.00000e-04,  3.74960e-01,  1.42774e+00,  5.89270e-01,\n",
    "       -1.43300e-01,  5.32960e-01,  9.91740e-01,  6.33270e-01])"
   ]
  },
  {
   "cell_type": "code",
   "execution_count": null,
   "metadata": {},
   "outputs": [],
   "source": [
    "file.close()"
   ]
  },
  {
   "cell_type": "markdown",
   "metadata": {},
   "source": [
    "# Inspect seed points"
   ]
  },
  {
   "cell_type": "code",
   "execution_count": null,
   "metadata": {},
   "outputs": [],
   "source": [
    "import yaml\n",
    "import time\n",
    "\n",
    "with open(seed_point_file, 'r') as f:\n",
    "    seed_points = yaml.safe_load(f)\n",
    "seed_points = np.array(seed_points['seedpoints'])\n",
    "\n",
    "for i, s in enumerate(seed_points):\n",
    "    showres(s)\n",
    "    print(f\" point {i+1} / {len(seed_points)}\")\n",
    "    time.sleep(2)\n"
   ]
  },
  {
   "cell_type": "code",
   "execution_count": null,
   "metadata": {},
   "outputs": [],
   "source": [
    "plant.GetBodyByName(\"\")"
   ]
  },
  {
   "cell_type": "code",
   "execution_count": null,
   "metadata": {},
   "outputs": [],
   "source": [
    "showres(seed_points[-3])"
   ]
  },
  {
   "cell_type": "code",
   "execution_count": null,
   "metadata": {},
   "outputs": [],
   "source": [
    "q"
   ]
  },
  {
   "cell_type": "markdown",
   "metadata": {},
   "source": []
  }
 ],
 "metadata": {
  "kernelspec": {
   "display_name": "Python 3",
   "language": "python",
   "name": "python3"
  },
  "language_info": {
   "codemirror_mode": {
    "name": "ipython",
    "version": 3
   },
   "file_extension": ".py",
   "mimetype": "text/x-python",
   "name": "python",
   "nbconvert_exporter": "python",
   "pygments_lexer": "ipython3",
   "version": "3.10.12"
  }
 },
 "nbformat": 4,
 "nbformat_minor": 2
}
