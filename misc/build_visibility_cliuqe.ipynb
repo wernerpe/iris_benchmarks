{
 "cells": [
  {
   "cell_type": "code",
   "execution_count": 1,
   "metadata": {},
   "outputs": [],
   "source": [
    "%load_ext autoreload\n",
    "# Enable autoreload for all modules\n",
    "%autoreload 2"
   ]
  },
  {
   "cell_type": "code",
   "execution_count": 2,
   "metadata": {},
   "outputs": [],
   "source": [
    "from iris_environments.environments import get_environment_builder, get_robot_instance_names\n",
    "from cspace_utils.graphs import compute_greedy_clique_partition\n",
    "from cspace_utils.plotting import (plot_cliques, \n",
    "                                   plot_visibility_graph, \n",
    "                                   plot_edges, \n",
    "                                   plot_points,\n",
    "                                   plot_2d_ellipse_meshcat,\n",
    "                                   plot_vpoly_2d_meshcat,\n",
    "                                   plot_regions)\n",
    "from cspace_utils.geometry import get_AABB_cvxhull\n",
    "from cspace_utils.sampling import sample_in_union_of_polytopes\n",
    "from misc.task_space_seeding_utils import task_space_sampler_mp, get_cvx_hulls_of_bodies\n",
    "from cspace_utils.environment_helpers import get_col_func, get_coverage_estimator, get_sample_cfree_handle, vgraph\n",
    "import numpy as np\n",
    "import ipywidgets as widgets\n",
    "from functools import partial\n",
    "from pydrake.all import (RigidTransform, \n",
    "                         Rgba, \n",
    "                         Sphere, \n",
    "                         RotationMatrix, \n",
    "                         SceneGraphCollisionChecker,\n",
    "                         HPolyhedron,\n",
    "                         VPolytope)"
   ]
  },
  {
   "cell_type": "code",
   "execution_count": 3,
   "metadata": {},
   "outputs": [
    {
     "name": "stderr",
     "output_type": "stream",
     "text": [
      "INFO:drake:Meshcat listening for connections at http://localhost:7000\n"
     ]
    },
    {
     "name": "stderr",
     "output_type": "stream",
     "text": [
      "INFO:drake:Allocating contexts to support implicit context parallelism 20\n"
     ]
    }
   ],
   "source": [
    "from iris_environments.environments import env_names\n",
    "currname = '7DOFBINS'\n",
    "plant_builder = get_environment_builder(currname)\n",
    "plant, scene_graph, diagram, diagram_context, plant_context, meshcat = plant_builder(usemeshcat=True)\n",
    "\n",
    "scene_graph_context = scene_graph.GetMyMutableContextFromRoot(\n",
    "    diagram_context)\n",
    "\n",
    "rob_names = get_robot_instance_names(currname)\n",
    "robot_instances = [plant.GetModelInstanceByName(n) for n in rob_names]\n",
    "checker = SceneGraphCollisionChecker(model = diagram, \n",
    "                    robot_model_instances = robot_instances,\n",
    "                    #configuration_distance_function = _configuration_distance,\n",
    "                    edge_step_size = 0.125)\n",
    "\n",
    "col_col =  Rgba(0.8, 0.0, 0, 0.5)    \n",
    "col_free =  Rgba(0.0, 0.8, 0.5, 0.5) \n",
    "\n",
    "def showres(qvis):\n",
    "    plant.SetPositions(plant_context, qvis)\n",
    "    diagram.ForcedPublish(diagram_context)\n",
    "    query = plant.get_geometry_query_input_port().Eval(plant_context)\n",
    "    col = query.HasCollisions()\n",
    "    if col:\n",
    "        meshcat.SetObject(f\"/drake/visualizer/shunk\",\n",
    "                                   Sphere(0.2),\n",
    "                                   col_col)\n",
    "    else:\n",
    "        meshcat.SetObject(f\"/drake/visualizer/shunk\",\n",
    "                                   Sphere(0.2),\n",
    "                                   col_free)\n",
    "    meshcat.SetTransform(f\"/drake/visualizer/shunk\",\n",
    "                                   RigidTransform(RotationMatrix(),\n",
    "                                                  np.array([0,0,2])))\n",
    "    return col"
   ]
  },
  {
   "cell_type": "code",
   "execution_count": 4,
   "metadata": {},
   "outputs": [],
   "source": [
    "col_hand=get_col_func(plant, plant_context, use_ik=False)\n",
    "sample_cfree = get_sample_cfree_handle(plant.GetPositionLowerLimits(), \n",
    "                        plant.GetPositionUpperLimits(),\n",
    "                        col_hand)"
   ]
  },
  {
   "cell_type": "code",
   "execution_count": 5,
   "metadata": {},
   "outputs": [
    {
     "name": "stdout",
     "output_type": "stream",
     "text": [
      "Set parameter Username\n",
      "Academic license - for non-commercial use only - expires 2024-06-11\n",
      "0.5637216567993164\n"
     ]
    }
   ],
   "source": [
    "from pydrake.all import RandomGenerator\n",
    "domain = HPolyhedron.MakeBox(plant.GetPositionLowerLimits(),\n",
    "                             plant.GetPositionUpperLimits())\n",
    "\n",
    "generator = RandomGenerator(0)\n",
    "pt = domain.UniformSample(generator)\n",
    "N = 100000\n",
    "pts = []\n",
    "for i in range(N):\n",
    "    pt = domain.UniformSample(generator, pt)\n",
    "    pts.append(pt)\n",
    "\n",
    "import time\n",
    "t1 = time.time()\n",
    "checker.CheckConfigsCollisionFree(np.array(pts), parallelize=True)\n",
    "t2 = time.time()\n",
    "print(t2-t1)"
   ]
  },
  {
   "cell_type": "code",
   "execution_count": 6,
   "metadata": {},
   "outputs": [
    {
     "name": "stdout",
     "output_type": "stream",
     "text": [
      "Warning for adding constraints: zero or small (< 1e-13) coefficients, ignored\n",
      "Warning for adding constraints: zero or small (< 1e-13) coefficients, ignored\n",
      "Warning for adding constraints: zero or small (< 1e-13) coefficients, ignored\n",
      "Warning for adding constraints: zero or small (< 1e-13) coefficients, ignored\n",
      "Warning for adding constraints: zero or small (< 1e-13) coefficients, ignored\n",
      "Warning for adding constraints: zero or small (< 1e-13) coefficients, ignored\n",
      "Warning for adding constraints: zero or small (< 1e-13) coefficients, ignored\n",
      "Warning for adding constraints: zero or small (< 1e-13) coefficients, ignored\n",
      "Warning for adding constraints: zero or small (< 1e-13) coefficients, ignored\n",
      "Warning for adding constraints: zero or small (< 1e-13) coefficients, ignored\n",
      "Warning for adding constraints: zero or small (< 1e-13) coefficients, ignored\n",
      "Warning for adding constraints: zero or small (< 1e-13) coefficients, ignored\n",
      "Warning for adding constraints: zero or small (< 1e-13) coefficients, ignored\n",
      "Warning for adding constraints: zero or small (< 1e-13) coefficients, ignored\n",
      "Warning for adding constraints: zero or small (< 1e-13) coefficients, ignored\n",
      "Warning for adding constraints: zero or small (< 1e-13) coefficients, ignored\n",
      "Warning for adding constraints: zero or small (< 1e-13) coefficients, ignored\n",
      "Warning for adding constraints: zero or small (< 1e-13) coefficients, ignored\n",
      "Warning for adding constraints: zero or small (< 1e-13) coefficients, ignored\n",
      "Warning for adding constraints: zero or small (< 1e-13) coefficients, ignored\n",
      "Warning for adding constraints: zero or small (< 1e-13) coefficients, ignored\n",
      "Warning for adding constraints: zero or small (< 1e-13) coefficients, ignored\n",
      "Warning for adding constraints: zero or small (< 1e-13) coefficients, ignored\n",
      "Warning for adding constraints: zero or small (< 1e-13) coefficients, ignored\n",
      "Warning for adding constraints: zero or small (< 1e-13) coefficients, ignored\n",
      "Warning for adding constraints: zero or small (< 1e-13) coefficients, ignored\n",
      "Warning for adding constraints: zero or small (< 1e-13) coefficients, ignored\n",
      "Warning for adding constraints: zero or small (< 1e-13) coefficients, ignored\n",
      "Warning for adding constraints: zero or small (< 1e-13) coefficients, ignored\n",
      "Warning for adding constraints: zero or small (< 1e-13) coefficients, ignored\n",
      "Warning for adding constraints: zero or small (< 1e-13) coefficients, ignored\n",
      "Warning for adding constraints: zero or small (< 1e-13) coefficients, ignored\n",
      "Warning for adding constraints: zero or small (< 1e-13) coefficients, ignored\n",
      "Warning for adding constraints: zero or small (< 1e-13) coefficients, ignored\n",
      "Warning for adding constraints: zero or small (< 1e-13) coefficients, ignored\n",
      "Warning for adding constraints: zero or small (< 1e-13) coefficients, ignored\n",
      "Warning for adding constraints: zero or small (< 1e-13) coefficients, ignored\n",
      "Warning for adding constraints: zero or small (< 1e-13) coefficients, ignored\n",
      "Warning for adding constraints: zero or small (< 1e-13) coefficients, ignored\n",
      "Warning for adding constraints: zero or small (< 1e-13) coefficients, ignored\n",
      "Warning for adding constraints: zero or small (< 1e-13) coefficients, ignored\n",
      "Warning for adding constraints: zero or small (< 1e-13) coefficients, ignored\n",
      "Warning for adding constraints: zero or small (< 1e-13) coefficients, ignored\n",
      "Warning for adding constraints: zero or small (< 1e-13) coefficients, ignored\n",
      "Warning for adding constraints: zero or small (< 1e-13) coefficients, ignored\n",
      "Warning for adding constraints: zero or small (< 1e-13) coefficients, ignored\n",
      "Warning for adding constraints: zero or small (< 1e-13) coefficients, ignored\n",
      "Warning for adding constraints: zero or small (< 1e-13) coefficients, ignored\n",
      "Warning for adding constraints: zero or small (< 1e-13) coefficients, ignored\n",
      "Warning for adding constraints: zero or small (< 1e-13) coefficients, ignored\n",
      "Warning for adding constraints: zero or small (< 1e-13) coefficients, ignored\n",
      "Warning for adding constraints: zero or small (< 1e-13) coefficients, ignored\n",
      "Warning for adding constraints: zero or small (< 1e-13) coefficients, ignored\n",
      "Warning for adding constraints: zero or small (< 1e-13) coefficients, ignored\n",
      "Warning for adding constraints: zero or small (< 1e-13) coefficients, ignored\n",
      "Warning for adding constraints: zero or small (< 1e-13) coefficients, ignored\n",
      "Warning for adding constraints: zero or small (< 1e-13) coefficients, ignored\n",
      "Warning for adding constraints: zero or small (< 1e-13) coefficients, ignored\n",
      "Warning for adding constraints: zero or small (< 1e-13) coefficients, ignored\n",
      "Warning for adding constraints: zero or small (< 1e-13) coefficients, ignored\n"
     ]
    }
   ],
   "source": [
    "from cspace_utils.colors import generate_distinct_colors\n",
    "offset_size = 0.01\n",
    "geom_names = ['bin_base', \n",
    "              'bin_base', \n",
    "              'shelves_body'\n",
    "              ]\n",
    "model_names = ['binL', \n",
    "               'binR', \n",
    "               'shelves'\n",
    "               ]\n",
    "default_pos = [np.array([ 1.53294,  0.4056 ,  0.23294, -0.5944 ,0.,0.9056 ,0.]),\n",
    "               np.array([-1.53294,  0.4056 ,  0.23294, -0.5944 ,0.,  0.9056 ,0. ]),\n",
    "               np.array([ 0., -0.08940423,  0., -1.7087849,  0., 1.32867852,  0.])\n",
    "               ]\n",
    "approach_dir = [2, \n",
    "                2, \n",
    "                0\n",
    "                ] \n",
    "approach_sign = [1,1,-1]\n",
    "ts_samplers = []\n",
    "cols = generate_distinct_colors(2*len(model_names), rgb = True)[1:]\n",
    "AABB_sampling_regions = []\n",
    "for i, (g, m) in enumerate(zip(geom_names, model_names)):\n",
    "    cvx_hulls_of_ROI_unsc, bodies = get_cvx_hulls_of_bodies([g], [m], plant, scene_graph, scene_graph_context, scaling = 1.0)\n",
    "    verts = [VPolytope(c).vertices().T for c in cvx_hulls_of_ROI_unsc]\n",
    "    cvx_hulls_of_ROI = cvx_hulls_of_ROI_unsc\n",
    "    cvx_hulls_of_ROI = []\n",
    "    for v in verts:\n",
    "        offset = approach_sign[i]*(np.sign(v[:,approach_dir[i]] - np.mean(v[:,approach_dir[i]]))==approach_sign[i])*offset_size\n",
    "        v[:,approach_dir[i]] += offset #scale*(v[:,approach_dir[i]] - np.mean(v[:,approach_dir[i]])) +  np.mean(v[:,approach_dir[i]])\n",
    "        cvx_hulls_of_ROI.append(HPolyhedron(VPolytope(v.T)))\n",
    "    ts_min, ts_max, cvxh_hpoly = get_AABB_cvxhull(cvx_hulls_of_ROI)\n",
    "    AABB_sampling_regions.append([ts_min, ts_max])\n",
    "    plot_regions(meshcat, cvx_hulls_of_ROI, region_suffix=m,opacity=0.2, colors=[cols[i]])\n",
    "    q0  = default_pos[i] #np.zeros(7)\n",
    "    plant.SetPositions(plant_context, q0)\n",
    "    plant.ForcedPublish(plant_context)\n",
    "    showres(q0)\n",
    "    t0 = plant.EvalBodyPoseInWorld(plant_context,  plant.GetBodyByName(\"body\")).translation()       \n",
    "    sample_handle_ts = partial(task_space_sampler_mp,\n",
    "                            q0 = q0,\n",
    "                            t0 = t0,\n",
    "                            plant_builder = plant_builder,\n",
    "                            frame_names = ['body'],\n",
    "                            offsets = [np.array([0,0.1,0])],\n",
    "                            cvx_hulls_of_ROI =cvx_hulls_of_ROI,\n",
    "                            ts_min = ts_min,\n",
    "                            ts_max = ts_max,\n",
    "                            collision_free = True,\n",
    "                            track_orientation = True,\n",
    "                            axis_alignment = None#approach_dir[i]\n",
    "                            )\n",
    "    ts_samplers.append(sample_handle_ts)"
   ]
  },
  {
   "cell_type": "code",
   "execution_count": 7,
   "metadata": {},
   "outputs": [],
   "source": [
    "from pydrake.all import SceneGraphCollisionChecker\n",
    "from cspace_utils.graphs import vgraph, compute_greedy_clique_partition\n",
    "\n",
    "robot_instances = [plant.GetModelInstanceByName(\"iiwa\"), plant.GetModelInstanceByName(\"wsg\")]\n",
    "vgraph_handle = partial(vgraph, checker = checker, parallelize = True) "
   ]
  },
  {
   "cell_type": "code",
   "execution_count": 8,
   "metadata": {},
   "outputs": [],
   "source": [
    "import os \n",
    "import pickle\n",
    "from cspace_utils.graphs import compute_double_greedy_clique_partition\n",
    "\n",
    "Npts = 1000\n",
    "seed = 5\n",
    "if f\"7DOFBINS_{Npts}_{offset_size}_{seed}.pkl\" in os.listdir('../tmp'):\n",
    "    with open(f\"../tmp/7DOFBINS_{Npts}_{offset_size}_{seed}.pkl\", 'rb') as f:\n",
    "        d = pickle.load(f)\n",
    "        q_obj = d['q_obj']\n",
    "        t_obj = d['t_obj']\n",
    "        q_tot = d['q_tot']\n",
    "        t_tot = d['t_tot']        \n",
    "        ad_mat = d['ad_obj']\n",
    "        ad_tot = d['ad_tot']\n",
    "        cliques_obj = d['cliques_obj']\n",
    "        cliques_tot = d['cliques_tot']\n",
    "else:\n",
    "    q_obj = []\n",
    "    t_obj = []\n",
    "    ad_obj = []\n",
    "    cliques_obj = []\n",
    "    for sh in ts_samplers:\n",
    "        q, t, _, res = sh(Npts,[])\n",
    "        ad_mat = vgraph_handle(q)\n",
    "        q_obj +=[q]\n",
    "        t_obj +=[t]\n",
    "        ad_obj +=[ad_mat]\n",
    "        cliques_obj += [compute_double_greedy_clique_partition(adj_mat=ad_mat.toarray(), min_cliuqe_size=10)]\n",
    "    t_tot = np.concatenate(tuple(t_obj))\n",
    "    q_tot = np.concatenate(tuple(q_obj))\n",
    "    ad_tot = vgraph_handle(np.concatenate(tuple(q_obj), axis= 0))\n",
    "    #cliques_tot = compute_greedy_clique_partition(ad_tot.toarray(), min_cliuqe_size=10)\n",
    "    cliques_tot = compute_double_greedy_clique_partition(ad_tot.toarray(), min_cliuqe_size=10)\n",
    "    with open(f\"../tmp/7DOFBINS_{Npts}_{offset_size}_{seed}.pkl\", 'wb') as f:\n",
    "        pickle.dump({'q_obj':q_obj, \n",
    "                     't_obj':t_obj, \n",
    "                     't_tot': t_tot, \n",
    "                     'q_tot': q_tot, \n",
    "                     'ad_obj': ad_obj, \n",
    "                     'ad_tot' : ad_tot,\n",
    "                     'cliques_obj': cliques_obj, \n",
    "                     'cliques_tot': cliques_tot}, f)"
   ]
  },
  {
   "cell_type": "code",
   "execution_count": 9,
   "metadata": {},
   "outputs": [
    {
     "name": "stdout",
     "output_type": "stream",
     "text": [
      "Object: 0 Clique: 0 CliqueSize: 234 Geometric clique True #violators 0\n",
      "Object: 0 Clique: 1 CliqueSize: 67 Geometric clique True #violators 0\n",
      "Object: 0 Clique: 2 CliqueSize: 53 Geometric clique True #violators 0\n",
      "Object: 0 Clique: 3 CliqueSize: 46 Geometric clique False #violators 1\n",
      "Object: 0 Clique: 4 CliqueSize: 33 Geometric clique True #violators 0\n",
      "Object: 0 Clique: 5 CliqueSize: 39 Geometric clique True #violators 0\n",
      "Object: 0 Clique: 6 CliqueSize: 43 Geometric clique True #violators 0\n",
      "Object: 0 Clique: 7 CliqueSize: 34 Geometric clique True #violators 0\n",
      "Object: 0 Clique: 8 CliqueSize: 35 Geometric clique True #violators 0\n",
      "Object: 0 Clique: 9 CliqueSize: 18 Geometric clique True #violators 0\n",
      "Object: 0 Clique: 10 CliqueSize: 19 Geometric clique True #violators 0\n",
      "Object: 0 Clique: 15 CliqueSize: 15 Geometric clique True #violators 0\n",
      "Object: 0 Clique: 16 CliqueSize: 15 Geometric clique True #violators 0\n",
      "Object: 0 Clique: 18 CliqueSize: 18 Geometric clique True #violators 0\n",
      "Object: 1 Clique: 0 CliqueSize: 236 Geometric clique True #violators 0\n",
      "Object: 1 Clique: 1 CliqueSize: 66 Geometric clique True #violators 0\n",
      "Object: 1 Clique: 2 CliqueSize: 55 Geometric clique True #violators 0\n",
      "Object: 1 Clique: 3 CliqueSize: 46 Geometric clique True #violators 0\n",
      "Object: 1 Clique: 4 CliqueSize: 28 Geometric clique True #violators 0\n",
      "Object: 1 Clique: 5 CliqueSize: 31 Geometric clique True #violators 0\n",
      "Object: 1 Clique: 6 CliqueSize: 16 Geometric clique True #violators 0\n",
      "Object: 1 Clique: 7 CliqueSize: 31 Geometric clique True #violators 0\n",
      "Object: 1 Clique: 8 CliqueSize: 23 Geometric clique True #violators 0\n",
      "Object: 1 Clique: 9 CliqueSize: 17 Geometric clique True #violators 0\n",
      "Object: 1 Clique: 10 CliqueSize: 15 Geometric clique True #violators 0\n",
      "Object: 1 Clique: 12 CliqueSize: 22 Geometric clique True #violators 0\n",
      "Object: 1 Clique: 15 CliqueSize: 15 Geometric clique True #violators 0\n",
      "Object: 2 Clique: 0 CliqueSize: 25 Geometric clique True #violators 0\n",
      "Object: 2 Clique: 1 CliqueSize: 18 Geometric clique True #violators 0\n",
      "Object: 2 Clique: 3 CliqueSize: 20 Geometric clique True #violators 0\n",
      "Object: 2 Clique: 4 CliqueSize: 19 Geometric clique True #violators 0\n",
      "Object: 2 Clique: 5 CliqueSize: 16 Geometric clique True #violators 0\n",
      "Object: 2 Clique: 7 CliqueSize: 22 Geometric clique True #violators 0\n"
     ]
    }
   ],
   "source": [
    "#check if cliques are geometric cliques\n",
    "from cspace_utils.graphs import is_geometric_clique\n",
    "\n",
    "for obj in range(len(cliques_obj)):\n",
    "    pts_ =q_obj[obj]\n",
    "    vgraph_ = ad_mat[obj]\n",
    "    for clique_idx, clique_ in enumerate(cliques_obj[obj]):\n",
    "        if len(clique_)>14:\n",
    "            res, num_violators, violators = is_geometric_clique(clique_, pts_, vgraph=vgraph_, return_violators=True)\n",
    "            print(f\"Object: {obj} Clique: {clique_idx} CliqueSize: { len(clique_)} Geometric clique {res} #violators {num_violators}\")"
   ]
  },
  {
   "cell_type": "code",
   "execution_count": 10,
   "metadata": {},
   "outputs": [],
   "source": [
    "from pydrake.all import FastIris, FastIrisOptions, Hyperellipsoid, RandomGenerator\n",
    "\n",
    "generator = RandomGenerator(seed)\n",
    "fio = FastIrisOptions()\n",
    "fio.admissible_proportion_in_collision = 0.01\n",
    "fio.target_uncertainty = 0.01\n",
    "fio.max_iterations = 1\n",
    "fio.num_particles = 1000\n",
    "fio.configuration_space_margin = 0.01\n",
    "fio.verbose = True\n",
    "fio.random_seed = seed\n",
    "domain = HPolyhedron.MakeBox(plant.GetPositionLowerLimits(),\n",
    "                             plant.GetPositionUpperLimits())"
   ]
  },
  {
   "cell_type": "code",
   "execution_count": 11,
   "metadata": {},
   "outputs": [
    {
     "name": "stderr",
     "output_type": "stream",
     "text": [
      "INFO:drake:FastIris requires 997/1000 particles to be collision free \n",
      "INFO:drake:FastIris iteration 0\n"
     ]
    },
    {
     "name": "stdout",
     "output_type": "stream",
     "text": [
      "Ellipsoid center collision free True\n"
     ]
    },
    {
     "name": "stderr",
     "output_type": "stream",
     "text": [
      "INFO:drake:SeparatingPlanes iteration: 1 faces: 24\n",
      "INFO:drake:FastIris iter 1, iter limit 1\n",
      "INFO:drake:Fast Iris execution time : 1661 ms\n",
      "INFO:drake:FastIris requires 997/1000 particles to be collision free \n",
      "INFO:drake:FastIris iteration 0\n",
      "INFO:drake:FastIris Warning relaxing cspace margin by 0.007481234538335713 to ensure point containment\n",
      "INFO:drake:SeparatingPlanes iteration: 1 faces: 24\n",
      "INFO:drake:FastIris Warning relaxing cspace margin by 0.007481234538335713 to ensure point containment\n",
      "INFO:drake:FastIris Warning relaxing cspace margin by 0.007481234538335713 to ensure point containment\n",
      "INFO:drake:FastIris Warning relaxing cspace margin by 0.007481234538335713 to ensure point containment\n",
      "INFO:drake:FastIris Warning relaxing cspace margin by 0.007481234538335713 to ensure point containment\n",
      "INFO:drake:FastIris Warning relaxing cspace margin by 0.007481234538335713 to ensure point containment\n",
      "INFO:drake:FastIris Warning relaxing cspace margin by 0.007481234538335713 to ensure point containment\n",
      "INFO:drake:FastIris Warning relaxing cspace margin by 0.007481234538335713 to ensure point containment\n",
      "INFO:drake:FastIris Warning relaxing cspace margin by 0.01984080604892502 to ensure point containment\n",
      "INFO:drake:FastIris Warning relaxing cspace margin by 0.01984080604892502 to ensure point containment\n",
      "INFO:drake:FastIris Warning relaxing cspace margin by 0.01984080604892502 to ensure point containment\n",
      "INFO:drake:FastIris iter 1, iter limit 1\n",
      "INFO:drake:Fast Iris execution time : 1936 ms\n",
      "INFO:drake:FastIris requires 997/1000 particles to be collision free \n",
      "INFO:drake:FastIris iteration 0\n",
      "INFO:drake:SeparatingPlanes iteration: 1 faces: 23\n"
     ]
    },
    {
     "name": "stdout",
     "output_type": "stream",
     "text": [
      "Ellipsoid center collision free True\n"
     ]
    },
    {
     "name": "stderr",
     "output_type": "stream",
     "text": [
      "INFO:drake:FastIris iter 1, iter limit 1\n",
      "INFO:drake:Fast Iris execution time : 508 ms\n",
      "INFO:drake:FastIris requires 997/1000 particles to be collision free \n",
      "INFO:drake:FastIris iteration 0\n",
      "INFO:drake:SeparatingPlanes iteration: 1 faces: 22\n",
      "INFO:drake:FastIris Warning relaxing cspace margin by 1.8279957017193116 to ensure point containment\n",
      "INFO:drake:FastIris Warning relaxing cspace margin by 1.8279957017193116 to ensure point containment\n",
      "INFO:drake:FastIris Warning relaxing cspace margin by 1.8279957017193116 to ensure point containment\n",
      "INFO:drake:FastIris Warning relaxing cspace margin by 1.8279957017193116 to ensure point containment\n",
      "INFO:drake:FastIris Warning relaxing cspace margin by 1.8279957017193116 to ensure point containment\n",
      "INFO:drake:FastIris Warning relaxing cspace margin by 1.8279957017193116 to ensure point containment\n",
      "INFO:drake:FastIris iter 1, iter limit 1\n",
      "INFO:drake:Fast Iris execution time : 719 ms\n",
      "INFO:drake:FastIris requires 997/1000 particles to be collision free \n",
      "INFO:drake:FastIris iteration 0\n",
      "INFO:drake:SeparatingPlanes iteration: 1 faces: 25\n"
     ]
    },
    {
     "name": "stdout",
     "output_type": "stream",
     "text": [
      "Ellipsoid center collision free True\n"
     ]
    },
    {
     "name": "stderr",
     "output_type": "stream",
     "text": [
      "INFO:drake:FastIris iter 1, iter limit 1\n",
      "INFO:drake:Fast Iris execution time : 510 ms\n",
      "INFO:drake:FastIris requires 997/1000 particles to be collision free \n",
      "INFO:drake:FastIris iteration 0\n",
      "INFO:drake:SeparatingPlanes iteration: 1 faces: 25\n",
      "INFO:drake:FastIris Warning relaxing cspace margin by 0.004865206111004161 to ensure point containment\n",
      "INFO:drake:FastIris Warning relaxing cspace margin by 0.004865206111004161 to ensure point containment\n",
      "INFO:drake:FastIris Warning relaxing cspace margin by 0.004865206111004161 to ensure point containment\n",
      "INFO:drake:FastIris Warning relaxing cspace margin by 0.004865206111004161 to ensure point containment\n",
      "INFO:drake:FastIris Warning relaxing cspace margin by 0.004865206111004161 to ensure point containment\n",
      "INFO:drake:FastIris Warning relaxing cspace margin by 0.004865206111004161 to ensure point containment\n",
      "INFO:drake:FastIris Warning relaxing cspace margin by 0.004865206111004161 to ensure point containment\n",
      "INFO:drake:FastIris iter 1, iter limit 1\n",
      "INFO:drake:Fast Iris execution time : 945 ms\n",
      "INFO:drake:FastIris requires 997/1000 particles to be collision free \n",
      "INFO:drake:FastIris iteration 0\n",
      "INFO:drake:SeparatingPlanes iteration: 1 faces: 21\n"
     ]
    },
    {
     "name": "stdout",
     "output_type": "stream",
     "text": [
      "Ellipsoid center collision free True\n"
     ]
    },
    {
     "name": "stderr",
     "output_type": "stream",
     "text": [
      "INFO:drake:FastIris iter 1, iter limit 1\n",
      "INFO:drake:Fast Iris execution time : 220 ms\n",
      "INFO:drake:FastIris requires 997/1000 particles to be collision free \n",
      "INFO:drake:FastIris iteration 0\n",
      "INFO:drake:FastIris Warning relaxing cspace margin by 0.010103366429594196 to ensure point containment\n",
      "INFO:drake:SeparatingPlanes iteration: 1 faces: 20\n",
      "INFO:drake:FastIris Warning relaxing cspace margin by 0.010103366429594196 to ensure point containment\n",
      "INFO:drake:FastIris Warning relaxing cspace margin by 0.010103366429594196 to ensure point containment\n",
      "INFO:drake:FastIris Warning relaxing cspace margin by 0.010103366429594196 to ensure point containment\n",
      "INFO:drake:FastIris Warning relaxing cspace margin by 0.010103366429594196 to ensure point containment\n",
      "INFO:drake:FastIris Warning relaxing cspace margin by 0.010103366429594196 to ensure point containment\n",
      "INFO:drake:FastIris Warning relaxing cspace margin by 0.010103366429594196 to ensure point containment\n",
      "INFO:drake:FastIris Warning relaxing cspace margin by 0.010103366429594196 to ensure point containment\n",
      "INFO:drake:FastIris iter 1, iter limit 1\n",
      "INFO:drake:Fast Iris execution time : 601 ms\n",
      "INFO:drake:FastIris requires 997/1000 particles to be collision free \n",
      "INFO:drake:FastIris iteration 0\n",
      "INFO:drake:SeparatingPlanes iteration: 1 faces: 20\n",
      "INFO:drake:FastIris iter 1, iter limit 1\n"
     ]
    },
    {
     "name": "stdout",
     "output_type": "stream",
     "text": [
      "Ellipsoid center collision free True\n"
     ]
    },
    {
     "name": "stderr",
     "output_type": "stream",
     "text": [
      "INFO:drake:Fast Iris execution time : 449 ms\n",
      "INFO:drake:FastIris requires 997/1000 particles to be collision free \n",
      "INFO:drake:FastIris iteration 0\n",
      "INFO:drake:FastIris Warning relaxing cspace margin by 0.006185579386481566 to ensure point containment\n",
      "INFO:drake:SeparatingPlanes iteration: 1 faces: 20\n",
      "INFO:drake:FastIris Warning relaxing cspace margin by 0.008419518754900324 to ensure point containment\n",
      "INFO:drake:FastIris Warning relaxing cspace margin by 0.008419518754900324 to ensure point containment\n",
      "INFO:drake:FastIris Warning relaxing cspace margin by 0.008419518754900324 to ensure point containment\n",
      "INFO:drake:FastIris Warning relaxing cspace margin by 0.008419518754900324 to ensure point containment\n",
      "INFO:drake:FastIris Warning relaxing cspace margin by 0.008419518754900324 to ensure point containment\n",
      "INFO:drake:FastIris Warning relaxing cspace margin by 0.008419518754900324 to ensure point containment\n",
      "INFO:drake:FastIris Warning relaxing cspace margin by 0.008419518754900324 to ensure point containment\n",
      "INFO:drake:FastIris Warning relaxing cspace margin by 0.00886036341207097 to ensure point containment\n",
      "INFO:drake:FastIris Warning relaxing cspace margin by 0.00886036341207097 to ensure point containment\n",
      "INFO:drake:FastIris delta vol 0.004421145189958148, threshold 0.02\n",
      "INFO:drake:Fast Iris execution time : 868 ms\n",
      "INFO:drake:FastIris requires 997/1000 particles to be collision free \n",
      "INFO:drake:FastIris iteration 0\n",
      "INFO:drake:SeparatingPlanes iteration: 1 faces: 23\n",
      "INFO:drake:FastIris delta vol 0.009606930707210031, threshold 0.02\n"
     ]
    },
    {
     "name": "stdout",
     "output_type": "stream",
     "text": [
      "Ellipsoid center collision free True\n"
     ]
    },
    {
     "name": "stderr",
     "output_type": "stream",
     "text": [
      "INFO:drake:Fast Iris execution time : 344 ms\n",
      "INFO:drake:FastIris requires 997/1000 particles to be collision free \n",
      "INFO:drake:FastIris iteration 0\n",
      "INFO:drake:FastIris Warning relaxing cspace margin by 0.005799856062659314 to ensure point containment\n",
      "INFO:drake:SeparatingPlanes iteration: 1 faces: 24\n",
      "INFO:drake:FastIris Warning relaxing cspace margin by 0.005799856062659314 to ensure point containment\n",
      "INFO:drake:FastIris Warning relaxing cspace margin by 0.009701717581430541 to ensure point containment\n",
      "INFO:drake:FastIris Warning relaxing cspace margin by 0.009701717581430541 to ensure point containment\n",
      "INFO:drake:FastIris Warning relaxing cspace margin by 0.009701717581430541 to ensure point containment\n",
      "INFO:drake:FastIris Warning relaxing cspace margin by 0.009701717581430541 to ensure point containment\n",
      "INFO:drake:FastIris Warning relaxing cspace margin by 0.009701717581430541 to ensure point containment\n",
      "INFO:drake:FastIris Warning relaxing cspace margin by 0.009701717581430541 to ensure point containment\n",
      "INFO:drake:FastIris Warning relaxing cspace margin by 0.009701717581430541 to ensure point containment\n",
      "INFO:drake:FastIris Warning relaxing cspace margin by 0.009701717581430541 to ensure point containment\n",
      "INFO:drake:FastIris delta vol 0.002413944972251507, threshold 0.02\n",
      "INFO:drake:Fast Iris execution time : 797 ms\n",
      "INFO:drake:FastIris requires 997/1000 particles to be collision free \n",
      "INFO:drake:FastIris iteration 0\n",
      "INFO:drake:SeparatingPlanes iteration: 1 faces: 24\n"
     ]
    },
    {
     "name": "stdout",
     "output_type": "stream",
     "text": [
      "Ellipsoid center collision free True\n"
     ]
    },
    {
     "name": "stderr",
     "output_type": "stream",
     "text": [
      "INFO:drake:FastIris delta vol 0.014009771545346134, threshold 0.02\n",
      "INFO:drake:Fast Iris execution time : 476 ms\n",
      "INFO:drake:FastIris requires 997/1000 particles to be collision free \n",
      "INFO:drake:FastIris iteration 0\n",
      "INFO:drake:FastIris Warning relaxing cspace margin by 0.006904404174891798 to ensure point containment\n",
      "INFO:drake:SeparatingPlanes iteration: 1 faces: 26\n",
      "INFO:drake:FastIris Warning relaxing cspace margin by 0.006904404174891798 to ensure point containment\n",
      "INFO:drake:FastIris Warning relaxing cspace margin by 0.006904404174891798 to ensure point containment\n",
      "INFO:drake:FastIris Warning relaxing cspace margin by 0.006904404174891798 to ensure point containment\n",
      "INFO:drake:FastIris Warning relaxing cspace margin by 0.006904404174891798 to ensure point containment\n",
      "INFO:drake:FastIris Warning relaxing cspace margin by 0.006904404174891798 to ensure point containment\n",
      "INFO:drake:FastIris Warning relaxing cspace margin by 0.006904404174891798 to ensure point containment\n",
      "INFO:drake:FastIris Warning relaxing cspace margin by 0.006904404174891798 to ensure point containment\n",
      "INFO:drake:FastIris Warning relaxing cspace margin by 0.009547173211660542 to ensure point containment\n",
      "INFO:drake:FastIris delta vol 0.007989785714345419, threshold 0.02\n",
      "INFO:drake:Fast Iris execution time : 767 ms\n",
      "INFO:drake:FastIris requires 997/1000 particles to be collision free \n",
      "INFO:drake:FastIris iteration 0\n",
      "INFO:drake:SeparatingPlanes iteration: 1 faces: 20\n"
     ]
    },
    {
     "name": "stdout",
     "output_type": "stream",
     "text": [
      "Ellipsoid center collision free True\n"
     ]
    },
    {
     "name": "stderr",
     "output_type": "stream",
     "text": [
      "INFO:drake:FastIris delta vol 0.013753612666601363, threshold 0.02\n",
      "INFO:drake:Fast Iris execution time : 275 ms\n",
      "INFO:drake:FastIris requires 997/1000 particles to be collision free \n",
      "INFO:drake:FastIris iteration 0\n",
      "INFO:drake:FastIris Warning relaxing cspace margin by 0.0016480367103759441 to ensure point containment\n",
      "INFO:drake:SeparatingPlanes iteration: 1 faces: 22\n",
      "INFO:drake:FastIris Warning relaxing cspace margin by 0.008619181470821191 to ensure point containment\n",
      "INFO:drake:FastIris Warning relaxing cspace margin by 0.008619181470821191 to ensure point containment\n",
      "INFO:drake:FastIris Warning relaxing cspace margin by 0.008619181470821191 to ensure point containment\n",
      "INFO:drake:FastIris Warning relaxing cspace margin by 0.008619181470821191 to ensure point containment\n",
      "INFO:drake:FastIris Warning relaxing cspace margin by 0.008619181470821191 to ensure point containment\n",
      "INFO:drake:FastIris Warning relaxing cspace margin by 0.008619181470821191 to ensure point containment\n",
      "INFO:drake:FastIris Warning relaxing cspace margin by 0.008619181470821191 to ensure point containment\n",
      "INFO:drake:FastIris Warning relaxing cspace margin by 0.008619181470821191 to ensure point containment\n",
      "INFO:drake:FastIris Warning relaxing cspace margin by 0.008619181470821191 to ensure point containment\n",
      "INFO:drake:FastIris Warning relaxing cspace margin by 0.008619181470821191 to ensure point containment\n",
      "INFO:drake:FastIris delta vol 0.001968778232359907, threshold 0.02\n",
      "INFO:drake:Fast Iris execution time : 847 ms\n",
      "INFO:drake:FastIris requires 997/1000 particles to be collision free \n",
      "INFO:drake:FastIris iteration 0\n",
      "INFO:drake:SeparatingPlanes iteration: 1 faces: 22\n"
     ]
    },
    {
     "name": "stdout",
     "output_type": "stream",
     "text": [
      "Ellipsoid center collision free True\n"
     ]
    },
    {
     "name": "stderr",
     "output_type": "stream",
     "text": [
      "INFO:drake:FastIris delta vol 0.01212270974723403, threshold 0.02\n",
      "INFO:drake:Fast Iris execution time : 288 ms\n",
      "INFO:drake:FastIris requires 997/1000 particles to be collision free \n",
      "INFO:drake:FastIris iteration 0\n",
      "INFO:drake:SeparatingPlanes iteration: 1 faces: 22\n",
      "INFO:drake:FastIris Warning relaxing cspace margin by 0.008095222466324437 to ensure point containment\n",
      "INFO:drake:FastIris Warning relaxing cspace margin by 0.008095222466324437 to ensure point containment\n",
      "INFO:drake:FastIris Warning relaxing cspace margin by 0.009173124829280566 to ensure point containment\n",
      "INFO:drake:FastIris Warning relaxing cspace margin by 0.009173124829280566 to ensure point containment\n",
      "INFO:drake:FastIris Warning relaxing cspace margin by 0.00959306194904308 to ensure point containment\n",
      "INFO:drake:FastIris Warning relaxing cspace margin by 0.00959306194904308 to ensure point containment\n",
      "INFO:drake:FastIris Warning relaxing cspace margin by 0.00959306194904308 to ensure point containment\n",
      "INFO:drake:FastIris Warning relaxing cspace margin by 0.00959306194904308 to ensure point containment\n",
      "INFO:drake:FastIris Warning relaxing cspace margin by 0.00959306194904308 to ensure point containment\n",
      "INFO:drake:FastIris delta vol 0.003922837316157959, threshold 0.02\n",
      "INFO:drake:Fast Iris execution time : 838 ms\n",
      "INFO:drake:FastIris requires 997/1000 particles to be collision free \n",
      "INFO:drake:FastIris iteration 0\n",
      "INFO:drake:SeparatingPlanes iteration: 1 faces: 22\n"
     ]
    },
    {
     "name": "stdout",
     "output_type": "stream",
     "text": [
      "Ellipsoid center collision free True\n"
     ]
    },
    {
     "name": "stderr",
     "output_type": "stream",
     "text": [
      "INFO:drake:FastIris delta vol 0.015589782347656943, threshold 0.02\n",
      "INFO:drake:Fast Iris execution time : 487 ms\n",
      "INFO:drake:FastIris requires 997/1000 particles to be collision free \n",
      "INFO:drake:FastIris iteration 0\n",
      "INFO:drake:SeparatingPlanes iteration: 1 faces: 22\n",
      "INFO:drake:FastIris Warning relaxing cspace margin by 0.009083891286900236 to ensure point containment\n",
      "INFO:drake:FastIris Warning relaxing cspace margin by 0.009918480014246445 to ensure point containment\n",
      "INFO:drake:FastIris Warning relaxing cspace margin by 0.009918480014246445 to ensure point containment\n",
      "INFO:drake:FastIris Warning relaxing cspace margin by 0.009918480014246445 to ensure point containment\n",
      "INFO:drake:FastIris Warning relaxing cspace margin by 0.009918480014246445 to ensure point containment\n",
      "INFO:drake:FastIris Warning relaxing cspace margin by 0.009918480014246445 to ensure point containment\n",
      "INFO:drake:FastIris Warning relaxing cspace margin by 0.009918480014246445 to ensure point containment\n",
      "INFO:drake:FastIris delta vol 0.0010750499107433358, threshold 0.02\n",
      "INFO:drake:Fast Iris execution time : 870 ms\n",
      "INFO:drake:FastIris requires 997/1000 particles to be collision free \n",
      "INFO:drake:FastIris iteration 0\n",
      "INFO:drake:SeparatingPlanes iteration: 1 faces: 22\n",
      "INFO:drake:FastIris delta vol 0.0035630137761270392, threshold 0.02\n"
     ]
    },
    {
     "name": "stdout",
     "output_type": "stream",
     "text": [
      "Ellipsoid center collision free True\n"
     ]
    },
    {
     "name": "stderr",
     "output_type": "stream",
     "text": [
      "INFO:drake:Fast Iris execution time : 417 ms\n",
      "INFO:drake:FastIris requires 997/1000 particles to be collision free \n",
      "INFO:drake:FastIris iteration 0\n",
      "INFO:drake:FastIris Warning relaxing cspace margin by 0.00933228883155135 to ensure point containment\n",
      "INFO:drake:SeparatingPlanes iteration: 1 faces: 23\n",
      "INFO:drake:FastIris Warning relaxing cspace margin by 0.00933228883155135 to ensure point containment\n",
      "INFO:drake:FastIris Warning relaxing cspace margin by 0.00933228883155135 to ensure point containment\n",
      "INFO:drake:FastIris Warning relaxing cspace margin by 0.00933228883155135 to ensure point containment\n",
      "INFO:drake:FastIris Warning relaxing cspace margin by 0.00933228883155135 to ensure point containment\n",
      "INFO:drake:FastIris Warning relaxing cspace margin by 0.00933228883155135 to ensure point containment\n",
      "INFO:drake:FastIris Warning relaxing cspace margin by 0.00933228883155135 to ensure point containment\n",
      "INFO:drake:FastIris Warning relaxing cspace margin by 0.00933228883155135 to ensure point containment\n",
      "INFO:drake:FastIris delta vol 0.0009753917960064082, threshold 0.02\n",
      "INFO:drake:Fast Iris execution time : 446 ms\n",
      "INFO:drake:FastIris requires 997/1000 particles to be collision free \n",
      "INFO:drake:FastIris iteration 0\n",
      "INFO:drake:SeparatingPlanes iteration: 1 faces: 18\n",
      "INFO:drake:FastIris delta vol 0.0002619027726323532, threshold 0.02\n"
     ]
    },
    {
     "name": "stdout",
     "output_type": "stream",
     "text": [
      "Ellipsoid center collision free True\n"
     ]
    },
    {
     "name": "stderr",
     "output_type": "stream",
     "text": [
      "INFO:drake:Fast Iris execution time : 472 ms\n",
      "INFO:drake:FastIris requires 997/1000 particles to be collision free \n",
      "INFO:drake:FastIris iteration 0\n",
      "INFO:drake:FastIris Warning relaxing cspace margin by 0.008420516454020754 to ensure point containment\n",
      "INFO:drake:SeparatingPlanes iteration: 1 faces: 19\n",
      "INFO:drake:FastIris Warning relaxing cspace margin by 0.008420516454020754 to ensure point containment\n",
      "INFO:drake:FastIris Warning relaxing cspace margin by 0.008420516454020754 to ensure point containment\n",
      "INFO:drake:FastIris Warning relaxing cspace margin by 0.008420516454020754 to ensure point containment\n",
      "INFO:drake:FastIris Warning relaxing cspace margin by 0.008420516454020754 to ensure point containment\n",
      "INFO:drake:FastIris Warning relaxing cspace margin by 0.008420516454020754 to ensure point containment\n",
      "INFO:drake:FastIris Warning relaxing cspace margin by 0.008420516454020754 to ensure point containment\n",
      "INFO:drake:FastIris Warning relaxing cspace margin by 0.008420516454020754 to ensure point containment\n",
      "INFO:drake:FastIris Warning relaxing cspace margin by 0.008420516454020754 to ensure point containment\n",
      "INFO:drake:FastIris Warning relaxing cspace margin by 0.008420516454020754 to ensure point containment\n",
      "INFO:drake:FastIris delta vol 9.346399816436899e-05, threshold 0.02\n",
      "INFO:drake:Fast Iris execution time : 876 ms\n",
      "INFO:drake:FastIris requires 997/1000 particles to be collision free \n",
      "INFO:drake:FastIris iteration 0\n",
      "INFO:drake:SeparatingPlanes iteration: 1 faces: 18\n"
     ]
    },
    {
     "name": "stdout",
     "output_type": "stream",
     "text": [
      "Ellipsoid center collision free True\n"
     ]
    },
    {
     "name": "stderr",
     "output_type": "stream",
     "text": [
      "INFO:drake:FastIris delta vol 0.0008229021105964322, threshold 0.02\n",
      "INFO:drake:Fast Iris execution time : 260 ms\n",
      "INFO:drake:FastIris requires 997/1000 particles to be collision free \n",
      "INFO:drake:FastIris iteration 0\n",
      "INFO:drake:FastIris Warning relaxing cspace margin by 0.007615036787488608 to ensure point containment\n",
      "INFO:drake:SeparatingPlanes iteration: 1 faces: 19\n",
      "INFO:drake:FastIris Warning relaxing cspace margin by 0.007615036787488608 to ensure point containment\n",
      "INFO:drake:FastIris Warning relaxing cspace margin by 0.007615036787488608 to ensure point containment\n",
      "INFO:drake:FastIris iter 1, iter limit 1\n",
      "INFO:drake:Fast Iris execution time : 150 ms\n",
      "INFO:drake:FastIris requires 997/1000 particles to be collision free \n",
      "INFO:drake:FastIris iteration 0\n",
      "INFO:drake:SeparatingPlanes iteration: 1 faces: 21\n",
      "INFO:drake:FastIris delta vol 0.0009073852891691926, threshold 0.02\n"
     ]
    },
    {
     "name": "stdout",
     "output_type": "stream",
     "text": [
      "Ellipsoid center collision free True\n"
     ]
    },
    {
     "name": "stderr",
     "output_type": "stream",
     "text": [
      "INFO:drake:Fast Iris execution time : 346 ms\n",
      "INFO:drake:FastIris requires 997/1000 particles to be collision free \n",
      "INFO:drake:FastIris iteration 0\n",
      "INFO:drake:FastIris Warning relaxing cspace margin by 0.006900681587289181 to ensure point containment\n",
      "INFO:drake:SeparatingPlanes iteration: 1 faces: 22\n",
      "INFO:drake:FastIris Warning relaxing cspace margin by 0.006900681587289181 to ensure point containment\n",
      "INFO:drake:FastIris Warning relaxing cspace margin by 0.006900681587289181 to ensure point containment\n",
      "INFO:drake:FastIris Warning relaxing cspace margin by 0.008962331678164404 to ensure point containment\n",
      "INFO:drake:FastIris Warning relaxing cspace margin by 0.008962331678164404 to ensure point containment\n",
      "INFO:drake:FastIris Warning relaxing cspace margin by 0.008962331678164404 to ensure point containment\n",
      "INFO:drake:FastIris Warning relaxing cspace margin by 0.008962331678164404 to ensure point containment\n",
      "INFO:drake:FastIris Warning relaxing cspace margin by 0.008962331678164404 to ensure point containment\n",
      "INFO:drake:FastIris Warning relaxing cspace margin by 0.008962331678164404 to ensure point containment\n",
      "INFO:drake:FastIris Warning relaxing cspace margin by 0.008962331678164404 to ensure point containment\n",
      "INFO:drake:FastIris delta vol 6.317491268866091e-05, threshold 0.02\n",
      "INFO:drake:Fast Iris execution time : 870 ms\n",
      "INFO:drake:FastIris requires 997/1000 particles to be collision free \n",
      "INFO:drake:FastIris iteration 0\n",
      "INFO:drake:SeparatingPlanes iteration: 1 faces: 20\n",
      "INFO:drake:FastIris delta vol 0.005019053410556492, threshold 0.02\n"
     ]
    },
    {
     "name": "stdout",
     "output_type": "stream",
     "text": [
      "Ellipsoid center collision free True\n"
     ]
    },
    {
     "name": "stderr",
     "output_type": "stream",
     "text": [
      "INFO:drake:Fast Iris execution time : 386 ms\n",
      "INFO:drake:FastIris requires 997/1000 particles to be collision free \n",
      "INFO:drake:FastIris iteration 0\n",
      "INFO:drake:SeparatingPlanes iteration: 1 faces: 18\n",
      "INFO:drake:FastIris Warning relaxing cspace margin by 0.009150250569394558 to ensure point containment\n",
      "INFO:drake:FastIris Warning relaxing cspace margin by 0.009150250569394558 to ensure point containment\n",
      "INFO:drake:FastIris Warning relaxing cspace margin by 0.009150250569394558 to ensure point containment\n",
      "INFO:drake:FastIris Warning relaxing cspace margin by 0.009150250569394558 to ensure point containment\n",
      "INFO:drake:FastIris delta vol 0.0022427099274527633, threshold 0.02\n",
      "INFO:drake:Fast Iris execution time : 519 ms\n",
      "INFO:drake:FastIris requires 997/1000 particles to be collision free \n",
      "INFO:drake:FastIris iteration 0\n",
      "INFO:drake:SeparatingPlanes iteration: 1 faces: 23\n"
     ]
    },
    {
     "name": "stdout",
     "output_type": "stream",
     "text": [
      "Ellipsoid center collision free True\n"
     ]
    },
    {
     "name": "stderr",
     "output_type": "stream",
     "text": [
      "INFO:drake:FastIris iter 1, iter limit 1\n",
      "INFO:drake:Fast Iris execution time : 425 ms\n",
      "INFO:drake:FastIris requires 997/1000 particles to be collision free \n",
      "INFO:drake:FastIris iteration 0\n",
      "INFO:drake:FastIris Warning relaxing cspace margin by 0.0003394738353696969 to ensure point containment\n",
      "INFO:drake:SeparatingPlanes iteration: 1 faces: 26\n",
      "INFO:drake:FastIris Warning relaxing cspace margin by 0.0003394738353696969 to ensure point containment\n",
      "INFO:drake:FastIris Warning relaxing cspace margin by 0.006762751869036965 to ensure point containment\n",
      "INFO:drake:FastIris Warning relaxing cspace margin by 0.006762751869036965 to ensure point containment\n",
      "INFO:drake:FastIris Warning relaxing cspace margin by 0.006762751869036965 to ensure point containment\n",
      "INFO:drake:FastIris Warning relaxing cspace margin by 0.006762751869036965 to ensure point containment\n",
      "INFO:drake:FastIris Warning relaxing cspace margin by 0.006762751869036965 to ensure point containment\n",
      "INFO:drake:FastIris Warning relaxing cspace margin by 0.006762751869036965 to ensure point containment\n",
      "INFO:drake:FastIris Warning relaxing cspace margin by 0.006762751869036965 to ensure point containment\n",
      "INFO:drake:FastIris Warning relaxing cspace margin by 0.009968309139553488 to ensure point containment\n",
      "INFO:drake:FastIris Warning relaxing cspace margin by 0.009968309139553488 to ensure point containment\n",
      "INFO:drake:FastIris Warning relaxing cspace margin by 0.009968309139553488 to ensure point containment\n",
      "INFO:drake:FastIris Warning relaxing cspace margin by 0.009968309139553488 to ensure point containment\n",
      "INFO:drake:FastIris iter 1, iter limit 1\n",
      "INFO:drake:Fast Iris execution time : 1416 ms\n",
      "INFO:drake:FastIris requires 997/1000 particles to be collision free \n",
      "INFO:drake:FastIris iteration 0\n",
      "INFO:drake:SeparatingPlanes iteration: 1 faces: 32\n"
     ]
    },
    {
     "name": "stdout",
     "output_type": "stream",
     "text": [
      "Ellipsoid center collision free True\n"
     ]
    },
    {
     "name": "stderr",
     "output_type": "stream",
     "text": [
      "INFO:drake:FastIris iter 1, iter limit 1\n",
      "INFO:drake:Fast Iris execution time : 465 ms\n",
      "INFO:drake:FastIris requires 997/1000 particles to be collision free \n",
      "INFO:drake:FastIris iteration 0\n",
      "INFO:drake:SeparatingPlanes iteration: 1 faces: 32\n",
      "INFO:drake:FastIris Warning relaxing cspace margin by 0.0099245987061648 to ensure point containment\n",
      "INFO:drake:FastIris Warning relaxing cspace margin by 0.0099245987061648 to ensure point containment\n",
      "INFO:drake:FastIris Warning relaxing cspace margin by 0.015317527806480769 to ensure point containment\n",
      "INFO:drake:FastIris Warning relaxing cspace margin by 0.015317527806480769 to ensure point containment\n",
      "INFO:drake:FastIris Warning relaxing cspace margin by 0.015317527806480769 to ensure point containment\n",
      "INFO:drake:FastIris Warning relaxing cspace margin by 0.015317527806480769 to ensure point containment\n",
      "INFO:drake:FastIris Warning relaxing cspace margin by 0.015317527806480769 to ensure point containment\n",
      "INFO:drake:FastIris Warning relaxing cspace margin by 0.015317527806480769 to ensure point containment\n",
      "INFO:drake:FastIris iter 1, iter limit 1\n",
      "INFO:drake:Fast Iris execution time : 920 ms\n",
      "INFO:drake:FastIris requires 997/1000 particles to be collision free \n",
      "INFO:drake:FastIris iteration 0\n",
      "INFO:drake:SeparatingPlanes iteration: 1 faces: 22\n",
      "INFO:drake:FastIris iter 1, iter limit 1\n"
     ]
    },
    {
     "name": "stdout",
     "output_type": "stream",
     "text": [
      "Ellipsoid center collision free True\n"
     ]
    },
    {
     "name": "stderr",
     "output_type": "stream",
     "text": [
      "INFO:drake:Fast Iris execution time : 252 ms\n",
      "INFO:drake:FastIris requires 997/1000 particles to be collision free \n",
      "INFO:drake:FastIris iteration 0\n",
      "INFO:drake:SeparatingPlanes iteration: 1 faces: 27\n",
      "INFO:drake:FastIris Warning relaxing cspace margin by 0.004170718624921965 to ensure point containment\n",
      "INFO:drake:FastIris Warning relaxing cspace margin by 0.004170718624921965 to ensure point containment\n",
      "INFO:drake:FastIris Warning relaxing cspace margin by 0.004170718624921965 to ensure point containment\n",
      "INFO:drake:FastIris Warning relaxing cspace margin by 0.008975625123918918 to ensure point containment\n",
      "INFO:drake:FastIris Warning relaxing cspace margin by 0.008990479230875925 to ensure point containment\n",
      "INFO:drake:FastIris Warning relaxing cspace margin by 0.0099889057379281 to ensure point containment\n",
      "INFO:drake:FastIris Warning relaxing cspace margin by 0.0099889057379281 to ensure point containment\n",
      "INFO:drake:FastIris Warning relaxing cspace margin by 0.0099889057379281 to ensure point containment\n",
      "INFO:drake:FastIris iter 1, iter limit 1\n",
      "INFO:drake:Fast Iris execution time : 851 ms\n",
      "INFO:drake:FastIris requires 997/1000 particles to be collision free \n",
      "INFO:drake:FastIris iteration 0\n",
      "INFO:drake:SeparatingPlanes iteration: 1 faces: 22\n",
      "INFO:drake:FastIris iter 1, iter limit 1\n"
     ]
    },
    {
     "name": "stdout",
     "output_type": "stream",
     "text": [
      "Ellipsoid center collision free True\n"
     ]
    },
    {
     "name": "stderr",
     "output_type": "stream",
     "text": [
      "INFO:drake:Fast Iris execution time : 319 ms\n",
      "INFO:drake:FastIris requires 997/1000 particles to be collision free \n",
      "INFO:drake:FastIris iteration 0\n",
      "INFO:drake:FastIris Warning relaxing cspace margin by 0.03304744844353913 to ensure point containment\n",
      "INFO:drake:SeparatingPlanes iteration: 1 faces: 24\n",
      "INFO:drake:FastIris Warning relaxing cspace margin by 0.03304744844353913 to ensure point containment\n",
      "INFO:drake:FastIris Warning relaxing cspace margin by 0.03304744844353913 to ensure point containment\n",
      "INFO:drake:FastIris Warning relaxing cspace margin by 0.03304744844353913 to ensure point containment\n",
      "INFO:drake:FastIris Warning relaxing cspace margin by 0.03304744844353913 to ensure point containment\n",
      "INFO:drake:FastIris Warning relaxing cspace margin by 0.03304744844353913 to ensure point containment\n",
      "INFO:drake:FastIris Warning relaxing cspace margin by 0.03304744844353913 to ensure point containment\n",
      "INFO:drake:FastIris Warning relaxing cspace margin by 0.03304744844353913 to ensure point containment\n",
      "INFO:drake:FastIris Warning relaxing cspace margin by 0.03304744844353913 to ensure point containment\n",
      "INFO:drake:FastIris delta vol 0.01731907489764649, threshold 0.02\n",
      "INFO:drake:Fast Iris execution time : 875 ms\n",
      "INFO:drake:FastIris requires 997/1000 particles to be collision free \n",
      "INFO:drake:FastIris iteration 0\n",
      "INFO:drake:SeparatingPlanes iteration: 1 faces: 31\n",
      "INFO:drake:FastIris iter 1, iter limit 1\n"
     ]
    },
    {
     "name": "stdout",
     "output_type": "stream",
     "text": [
      "Ellipsoid center collision free True\n"
     ]
    },
    {
     "name": "stderr",
     "output_type": "stream",
     "text": [
      "INFO:drake:Fast Iris execution time : 284 ms\n",
      "INFO:drake:FastIris requires 997/1000 particles to be collision free \n",
      "INFO:drake:FastIris iteration 0\n",
      "INFO:drake:SeparatingPlanes iteration: 1 faces: 31\n",
      "INFO:drake:FastIris Warning relaxing cspace margin by 0.004606617426803794 to ensure point containment\n",
      "INFO:drake:FastIris Warning relaxing cspace margin by 0.009733953217835212 to ensure point containment\n",
      "INFO:drake:FastIris iter 1, iter limit 1\n",
      "INFO:drake:Fast Iris execution time : 577 ms\n",
      "INFO:drake:FastIris requires 997/1000 particles to be collision free \n",
      "INFO:drake:FastIris iteration 0\n",
      "INFO:drake:SeparatingPlanes iteration: 1 faces: 25\n",
      "INFO:drake:FastIris iter 1, iter limit 1\n"
     ]
    },
    {
     "name": "stdout",
     "output_type": "stream",
     "text": [
      "Ellipsoid center collision free True\n"
     ]
    },
    {
     "name": "stderr",
     "output_type": "stream",
     "text": [
      "INFO:drake:Fast Iris execution time : 461 ms\n",
      "INFO:drake:FastIris requires 997/1000 particles to be collision free \n",
      "INFO:drake:FastIris iteration 0\n",
      "INFO:drake:FastIris Warning relaxing cspace margin by 0.7353613004403086 to ensure point containment\n",
      "INFO:drake:SeparatingPlanes iteration: 1 faces: 23\n",
      "INFO:drake:FastIris Warning relaxing cspace margin by 0.7353613004403086 to ensure point containment\n",
      "INFO:drake:FastIris Warning relaxing cspace margin by 0.7353613004403086 to ensure point containment\n",
      "INFO:drake:FastIris Warning relaxing cspace margin by 0.7353613004403086 to ensure point containment\n",
      "INFO:drake:FastIris Warning relaxing cspace margin by 0.7353613004403086 to ensure point containment\n",
      "INFO:drake:FastIris Warning relaxing cspace margin by 0.7353613004403086 to ensure point containment\n",
      "INFO:drake:FastIris Warning relaxing cspace margin by 0.7353613004403086 to ensure point containment\n",
      "INFO:drake:FastIris Warning relaxing cspace margin by 0.7353613004403086 to ensure point containment\n",
      "INFO:drake:FastIris iter 1, iter limit 1\n",
      "INFO:drake:Fast Iris execution time : 620 ms\n",
      "INFO:drake:FastIris requires 997/1000 particles to be collision free \n",
      "INFO:drake:FastIris iteration 0\n",
      "INFO:drake:SeparatingPlanes iteration: 1 faces: 26\n"
     ]
    },
    {
     "name": "stdout",
     "output_type": "stream",
     "text": [
      "Ellipsoid center collision free True\n"
     ]
    },
    {
     "name": "stderr",
     "output_type": "stream",
     "text": [
      "INFO:drake:FastIris iter 1, iter limit 1\n",
      "INFO:drake:Fast Iris execution time : 476 ms\n",
      "INFO:drake:FastIris requires 997/1000 particles to be collision free \n",
      "INFO:drake:FastIris iteration 0\n",
      "INFO:drake:SeparatingPlanes iteration: 1 faces: 28\n",
      "INFO:drake:FastIris Warning relaxing cspace margin by 0.0018184146903716947 to ensure point containment\n",
      "INFO:drake:FastIris Warning relaxing cspace margin by 0.0018184146903716947 to ensure point containment\n",
      "INFO:drake:FastIris Warning relaxing cspace margin by 0.0018184146903716947 to ensure point containment\n",
      "INFO:drake:FastIris Warning relaxing cspace margin by 0.0018184146903716947 to ensure point containment\n",
      "INFO:drake:FastIris Warning relaxing cspace margin by 0.0018184146903716947 to ensure point containment\n",
      "INFO:drake:FastIris Warning relaxing cspace margin by 0.0018184146903716947 to ensure point containment\n",
      "INFO:drake:FastIris Warning relaxing cspace margin by 0.0018184146903716947 to ensure point containment\n",
      "INFO:drake:FastIris delta vol 0.010438214617213603, threshold 0.02\n",
      "INFO:drake:Fast Iris execution time : 577 ms\n",
      "INFO:drake:FastIris requires 997/1000 particles to be collision free \n",
      "INFO:drake:FastIris iteration 0\n",
      "INFO:drake:SeparatingPlanes iteration: 1 faces: 25\n"
     ]
    },
    {
     "name": "stdout",
     "output_type": "stream",
     "text": [
      "Ellipsoid center collision free True\n"
     ]
    },
    {
     "name": "stderr",
     "output_type": "stream",
     "text": [
      "INFO:drake:FastIris delta vol 0.008355310981038772, threshold 0.02\n",
      "INFO:drake:Fast Iris execution time : 789 ms\n",
      "INFO:drake:FastIris requires 997/1000 particles to be collision free \n",
      "INFO:drake:FastIris iteration 0\n",
      "INFO:drake:FastIris Warning relaxing cspace margin by 0.005615684643398122 to ensure point containment\n",
      "INFO:drake:SeparatingPlanes iteration: 1 faces: 24\n",
      "INFO:drake:FastIris Warning relaxing cspace margin by 0.005615684643398122 to ensure point containment\n",
      "INFO:drake:FastIris Warning relaxing cspace margin by 0.005615684643398122 to ensure point containment\n",
      "INFO:drake:FastIris Warning relaxing cspace margin by 0.009989692800570937 to ensure point containment\n",
      "INFO:drake:FastIris Warning relaxing cspace margin by 0.009989692800570937 to ensure point containment\n",
      "INFO:drake:FastIris Warning relaxing cspace margin by 0.009989692800570937 to ensure point containment\n",
      "INFO:drake:FastIris Warning relaxing cspace margin by 0.009989692800570937 to ensure point containment\n",
      "INFO:drake:FastIris Warning relaxing cspace margin by 0.009989692800570937 to ensure point containment\n",
      "INFO:drake:FastIris Warning relaxing cspace margin by 0.009989692800570937 to ensure point containment\n",
      "INFO:drake:FastIris Warning relaxing cspace margin by 0.009989692800570937 to ensure point containment\n",
      "INFO:drake:FastIris delta vol 0.002778245689351356, threshold 0.02\n",
      "INFO:drake:Fast Iris execution time : 916 ms\n",
      "INFO:drake:FastIris requires 997/1000 particles to be collision free \n",
      "INFO:drake:FastIris iteration 0\n",
      "INFO:drake:SeparatingPlanes iteration: 1 faces: 18\n"
     ]
    },
    {
     "name": "stdout",
     "output_type": "stream",
     "text": [
      "Ellipsoid center collision free True\n"
     ]
    },
    {
     "name": "stderr",
     "output_type": "stream",
     "text": [
      "INFO:drake:FastIris delta vol 0.01645599985314906, threshold 0.02\n",
      "INFO:drake:Fast Iris execution time : 381 ms\n",
      "INFO:drake:FastIris requires 997/1000 particles to be collision free \n",
      "INFO:drake:FastIris iteration 0\n",
      "INFO:drake:FastIris Warning relaxing cspace margin by 0.009327618163500473 to ensure point containment\n",
      "INFO:drake:SeparatingPlanes iteration: 1 faces: 20\n",
      "INFO:drake:FastIris Warning relaxing cspace margin by 0.009327618163500473 to ensure point containment\n",
      "INFO:drake:FastIris Warning relaxing cspace margin by 0.009327618163500473 to ensure point containment\n",
      "INFO:drake:FastIris Warning relaxing cspace margin by 0.009327618163500473 to ensure point containment\n",
      "INFO:drake:FastIris Warning relaxing cspace margin by 0.009327618163500473 to ensure point containment\n",
      "INFO:drake:FastIris Warning relaxing cspace margin by 0.009327618163500473 to ensure point containment\n",
      "INFO:drake:FastIris Warning relaxing cspace margin by 0.009327618163500473 to ensure point containment\n",
      "INFO:drake:FastIris Warning relaxing cspace margin by 0.009327618163500473 to ensure point containment\n",
      "INFO:drake:FastIris Warning relaxing cspace margin by 0.009327618163500473 to ensure point containment\n",
      "INFO:drake:FastIris Warning relaxing cspace margin by 0.009327618163500473 to ensure point containment\n",
      "INFO:drake:FastIris Warning relaxing cspace margin by 0.009327618163500473 to ensure point containment\n",
      "INFO:drake:FastIris Warning relaxing cspace margin by 0.009327618163500473 to ensure point containment\n",
      "INFO:drake:FastIris Warning relaxing cspace margin by 0.009327618163500473 to ensure point containment\n",
      "INFO:drake:FastIris delta vol 0.0024544243994900857, threshold 0.02\n",
      "INFO:drake:Fast Iris execution time : 932 ms\n",
      "INFO:drake:FastIris requires 997/1000 particles to be collision free \n",
      "INFO:drake:FastIris iteration 0\n",
      "INFO:drake:SeparatingPlanes iteration: 1 faces: 19\n"
     ]
    },
    {
     "name": "stdout",
     "output_type": "stream",
     "text": [
      "Ellipsoid center collision free True\n"
     ]
    },
    {
     "name": "stderr",
     "output_type": "stream",
     "text": [
      "INFO:drake:FastIris delta vol 0.003603271683255496, threshold 0.02\n",
      "INFO:drake:Fast Iris execution time : 560 ms\n",
      "INFO:drake:FastIris requires 997/1000 particles to be collision free \n",
      "INFO:drake:FastIris iteration 0\n",
      "INFO:drake:SeparatingPlanes iteration: 1 faces: 20\n",
      "INFO:drake:FastIris Warning relaxing cspace margin by 0.0003496566970793147 to ensure point containment\n",
      "INFO:drake:FastIris Warning relaxing cspace margin by 0.0003496566970793147 to ensure point containment\n",
      "INFO:drake:FastIris Warning relaxing cspace margin by 0.009839840130845046 to ensure point containment\n",
      "INFO:drake:FastIris Warning relaxing cspace margin by 0.009839840130845046 to ensure point containment\n",
      "INFO:drake:FastIris Warning relaxing cspace margin by 0.009839840130845046 to ensure point containment\n",
      "INFO:drake:FastIris Warning relaxing cspace margin by 0.009839840130845046 to ensure point containment\n",
      "INFO:drake:FastIris Warning relaxing cspace margin by 0.009839840130845046 to ensure point containment\n",
      "INFO:drake:FastIris Warning relaxing cspace margin by 0.009839840130845046 to ensure point containment\n",
      "INFO:drake:FastIris Warning relaxing cspace margin by 0.009839840130845046 to ensure point containment\n",
      "INFO:drake:FastIris delta vol 0.0010075782278738557, threshold 0.02\n",
      "INFO:drake:Fast Iris execution time : 730 ms\n",
      "INFO:drake:FastIris requires 997/1000 particles to be collision free \n",
      "INFO:drake:FastIris iteration 0\n",
      "INFO:drake:SeparatingPlanes iteration: 1 faces: 28\n",
      "INFO:drake:FastIris delta vol 0.0035532194291275397, threshold 0.02\n"
     ]
    },
    {
     "name": "stdout",
     "output_type": "stream",
     "text": [
      "Ellipsoid center collision free True\n"
     ]
    },
    {
     "name": "stderr",
     "output_type": "stream",
     "text": [
      "INFO:drake:Fast Iris execution time : 567 ms\n",
      "INFO:drake:FastIris requires 997/1000 particles to be collision free \n",
      "INFO:drake:FastIris iteration 0\n",
      "INFO:drake:FastIris Warning relaxing cspace margin by 0.004317361291655608 to ensure point containment\n",
      "INFO:drake:SeparatingPlanes iteration: 1 faces: 26\n",
      "INFO:drake:FastIris Warning relaxing cspace margin by 0.004317361291655608 to ensure point containment\n",
      "INFO:drake:FastIris Warning relaxing cspace margin by 0.004317361291655608 to ensure point containment\n",
      "INFO:drake:FastIris Warning relaxing cspace margin by 0.005860150967898825 to ensure point containment\n",
      "INFO:drake:FastIris Warning relaxing cspace margin by 0.005860150967898825 to ensure point containment\n",
      "INFO:drake:FastIris Warning relaxing cspace margin by 0.005860150967898825 to ensure point containment\n",
      "INFO:drake:FastIris Warning relaxing cspace margin by 0.008776320391253853 to ensure point containment\n",
      "INFO:drake:FastIris delta vol 0.00031979380848059087, threshold 0.02\n",
      "INFO:drake:Fast Iris execution time : 673 ms\n",
      "INFO:drake:FastIris requires 997/1000 particles to be collision free \n",
      "INFO:drake:FastIris iteration 0\n",
      "INFO:drake:SeparatingPlanes iteration: 1 faces: 21\n",
      "INFO:drake:FastIris delta vol 0.0020649700647083023, threshold 0.02\n"
     ]
    },
    {
     "name": "stdout",
     "output_type": "stream",
     "text": [
      "Ellipsoid center collision free True\n"
     ]
    },
    {
     "name": "stderr",
     "output_type": "stream",
     "text": [
      "INFO:drake:Fast Iris execution time : 583 ms\n",
      "INFO:drake:FastIris requires 997/1000 particles to be collision free \n",
      "INFO:drake:FastIris iteration 0\n",
      "INFO:drake:SeparatingPlanes iteration: 1 faces: 18\n",
      "INFO:drake:FastIris Warning relaxing cspace margin by 0.0031203762460223494 to ensure point containment\n",
      "INFO:drake:FastIris Warning relaxing cspace margin by 0.009347061855083494 to ensure point containment\n",
      "INFO:drake:FastIris Warning relaxing cspace margin by 0.009347061855083494 to ensure point containment\n",
      "INFO:drake:FastIris Warning relaxing cspace margin by 0.009347061855083494 to ensure point containment\n",
      "INFO:drake:FastIris Warning relaxing cspace margin by 0.009347061855083494 to ensure point containment\n",
      "INFO:drake:FastIris Warning relaxing cspace margin by 0.009347061855083494 to ensure point containment\n",
      "INFO:drake:FastIris Warning relaxing cspace margin by 0.009347061855083494 to ensure point containment\n",
      "INFO:drake:FastIris Warning relaxing cspace margin by 0.009347061855083494 to ensure point containment\n",
      "INFO:drake:FastIris delta vol 0.00034036478221129287, threshold 0.02\n",
      "INFO:drake:Fast Iris execution time : 654 ms\n",
      "INFO:drake:FastIris requires 997/1000 particles to be collision free \n",
      "INFO:drake:FastIris iteration 0\n",
      "INFO:drake:SeparatingPlanes iteration: 1 faces: 20\n",
      "INFO:drake:FastIris delta vol 0.0018562689444979626, threshold 0.02\n"
     ]
    },
    {
     "name": "stdout",
     "output_type": "stream",
     "text": [
      "Ellipsoid center collision free True\n"
     ]
    },
    {
     "name": "stderr",
     "output_type": "stream",
     "text": [
      "INFO:drake:Fast Iris execution time : 611 ms\n",
      "INFO:drake:FastIris requires 997/1000 particles to be collision free \n",
      "INFO:drake:FastIris iteration 0\n",
      "INFO:drake:SeparatingPlanes iteration: 1 faces: 18\n",
      "INFO:drake:FastIris Warning relaxing cspace margin by 0.007835176563620927 to ensure point containment\n",
      "INFO:drake:FastIris Warning relaxing cspace margin by 0.007835176563620927 to ensure point containment\n",
      "INFO:drake:FastIris Warning relaxing cspace margin by 0.007835176563620927 to ensure point containment\n",
      "INFO:drake:FastIris Warning relaxing cspace margin by 0.00931294815602629 to ensure point containment\n",
      "INFO:drake:FastIris Warning relaxing cspace margin by 0.00931294815602629 to ensure point containment\n",
      "INFO:drake:FastIris Warning relaxing cspace margin by 0.00931294815602629 to ensure point containment\n",
      "INFO:drake:FastIris Warning relaxing cspace margin by 0.00931294815602629 to ensure point containment\n",
      "INFO:drake:FastIris Warning relaxing cspace margin by 0.00931294815602629 to ensure point containment\n",
      "INFO:drake:FastIris Warning relaxing cspace margin by 0.00931294815602629 to ensure point containment\n",
      "INFO:drake:FastIris delta vol 0.0009629675704354196, threshold 0.02\n",
      "INFO:drake:Fast Iris execution time : 631 ms\n",
      "INFO:drake:FastIris requires 997/1000 particles to be collision free \n",
      "INFO:drake:FastIris iteration 0\n",
      "INFO:drake:SeparatingPlanes iteration: 1 faces: 18\n"
     ]
    },
    {
     "name": "stdout",
     "output_type": "stream",
     "text": [
      "Ellipsoid center collision free True\n"
     ]
    },
    {
     "name": "stderr",
     "output_type": "stream",
     "text": [
      "INFO:drake:FastIris delta vol 3.149516903190469e-05, threshold 0.02\n",
      "INFO:drake:Fast Iris execution time : 373 ms\n",
      "INFO:drake:FastIris requires 997/1000 particles to be collision free \n",
      "INFO:drake:FastIris iteration 0\n",
      "INFO:drake:FastIris Warning relaxing cspace margin by 0.002886479692005506 to ensure point containment\n",
      "INFO:drake:SeparatingPlanes iteration: 1 faces: 19\n",
      "INFO:drake:FastIris Warning relaxing cspace margin by 0.007645656443077131 to ensure point containment\n",
      "INFO:drake:FastIris Warning relaxing cspace margin by 0.009025840376342575 to ensure point containment\n",
      "INFO:drake:FastIris Warning relaxing cspace margin by 0.009025840376342575 to ensure point containment\n",
      "INFO:drake:FastIris Warning relaxing cspace margin by 0.009025840376342575 to ensure point containment\n",
      "INFO:drake:FastIris Warning relaxing cspace margin by 0.009025840376342575 to ensure point containment\n",
      "INFO:drake:FastIris Warning relaxing cspace margin by 0.009025840376342575 to ensure point containment\n",
      "INFO:drake:FastIris Warning relaxing cspace margin by 0.009025840376342575 to ensure point containment\n",
      "INFO:drake:FastIris delta vol 1.960340572385701e-05, threshold 0.02\n",
      "INFO:drake:Fast Iris execution time : 514 ms\n",
      "INFO:drake:FastIris requires 997/1000 particles to be collision free \n",
      "INFO:drake:FastIris iteration 0\n",
      "INFO:drake:SeparatingPlanes iteration: 1 faces: 21\n"
     ]
    },
    {
     "name": "stdout",
     "output_type": "stream",
     "text": [
      "Ellipsoid center collision free True\n"
     ]
    },
    {
     "name": "stderr",
     "output_type": "stream",
     "text": [
      "INFO:drake:FastIris delta vol 0.0026463673427513123, threshold 0.02\n",
      "INFO:drake:Fast Iris execution time : 438 ms\n",
      "INFO:drake:FastIris requires 997/1000 particles to be collision free \n",
      "INFO:drake:FastIris iteration 0\n",
      "INFO:drake:SeparatingPlanes iteration: 1 faces: 20\n",
      "INFO:drake:FastIris Warning relaxing cspace margin by 0.008862278027801596 to ensure point containment\n",
      "INFO:drake:FastIris Warning relaxing cspace margin by 0.008862278027801596 to ensure point containment\n",
      "INFO:drake:FastIris Warning relaxing cspace margin by 0.009858134669118446 to ensure point containment\n",
      "INFO:drake:FastIris Warning relaxing cspace margin by 0.009858134669118446 to ensure point containment\n",
      "INFO:drake:FastIris Warning relaxing cspace margin by 0.009858134669118446 to ensure point containment\n",
      "INFO:drake:FastIris Warning relaxing cspace margin by 0.009858134669118446 to ensure point containment\n",
      "INFO:drake:FastIris delta vol 0.00026233283323861677, threshold 0.02\n",
      "INFO:drake:Fast Iris execution time : 629 ms\n",
      "INFO:drake:FastIris requires 997/1000 particles to be collision free \n",
      "INFO:drake:FastIris iteration 0\n",
      "INFO:drake:SeparatingPlanes iteration: 1 faces: 21\n",
      "INFO:drake:FastIris delta vol 0.013165914878052649, threshold 0.02\n"
     ]
    },
    {
     "name": "stdout",
     "output_type": "stream",
     "text": [
      "Ellipsoid center collision free True\n"
     ]
    },
    {
     "name": "stderr",
     "output_type": "stream",
     "text": [
      "INFO:drake:Fast Iris execution time : 549 ms\n",
      "INFO:drake:FastIris requires 997/1000 particles to be collision free \n",
      "INFO:drake:FastIris iteration 0\n",
      "INFO:drake:SeparatingPlanes iteration: 1 faces: 20\n",
      "INFO:drake:FastIris Warning relaxing cspace margin by 0.0020767808897133033 to ensure point containment\n",
      "INFO:drake:FastIris Warning relaxing cspace margin by 0.004172036411286273 to ensure point containment\n",
      "INFO:drake:FastIris Warning relaxing cspace margin by 0.009190164947809887 to ensure point containment\n",
      "INFO:drake:FastIris Warning relaxing cspace margin by 0.009190164947809887 to ensure point containment\n",
      "INFO:drake:FastIris Warning relaxing cspace margin by 0.009190164947809887 to ensure point containment\n",
      "INFO:drake:FastIris Warning relaxing cspace margin by 0.009190164947809887 to ensure point containment\n",
      "INFO:drake:FastIris delta vol 0.0076533897602200545, threshold 0.02\n",
      "INFO:drake:Fast Iris execution time : 482 ms\n",
      "INFO:drake:FastIris requires 997/1000 particles to be collision free \n",
      "INFO:drake:FastIris iteration 0\n",
      "INFO:drake:SeparatingPlanes iteration: 1 faces: 22\n",
      "INFO:drake:FastIris delta vol 0.002343086474803246, threshold 0.02\n"
     ]
    },
    {
     "name": "stdout",
     "output_type": "stream",
     "text": [
      "Ellipsoid center collision free True\n"
     ]
    },
    {
     "name": "stderr",
     "output_type": "stream",
     "text": [
      "INFO:drake:Fast Iris execution time : 337 ms\n",
      "INFO:drake:FastIris requires 997/1000 particles to be collision free \n",
      "INFO:drake:FastIris iteration 0\n",
      "INFO:drake:SeparatingPlanes iteration: 1 faces: 27\n",
      "INFO:drake:FastIris Warning relaxing cspace margin by 0.003021125745834796 to ensure point containment\n",
      "INFO:drake:FastIris Warning relaxing cspace margin by 0.007903098802434116 to ensure point containment\n",
      "INFO:drake:FastIris Warning relaxing cspace margin by 0.007903098802434116 to ensure point containment\n",
      "INFO:drake:FastIris Warning relaxing cspace margin by 0.007903098802434116 to ensure point containment\n",
      "INFO:drake:FastIris Warning relaxing cspace margin by 0.009454831280356624 to ensure point containment\n",
      "INFO:drake:FastIris delta vol 0.00013931752178461407, threshold 0.02\n",
      "INFO:drake:Fast Iris execution time : 668 ms\n",
      "INFO:drake:FastIris requires 997/1000 particles to be collision free \n",
      "INFO:drake:FastIris iteration 0\n",
      "INFO:drake:SeparatingPlanes iteration: 1 faces: 23\n"
     ]
    },
    {
     "name": "stdout",
     "output_type": "stream",
     "text": [
      "Ellipsoid center collision free True\n"
     ]
    },
    {
     "name": "stderr",
     "output_type": "stream",
     "text": [
      "INFO:drake:FastIris iter 1, iter limit 1\n",
      "INFO:drake:Fast Iris execution time : 537 ms\n",
      "INFO:drake:FastIris requires 997/1000 particles to be collision free \n",
      "INFO:drake:FastIris iteration 0\n",
      "INFO:drake:SeparatingPlanes iteration: 1 faces: 23\n",
      "INFO:drake:FastIris Warning relaxing cspace margin by 0.002763047562826859 to ensure point containment\n",
      "INFO:drake:FastIris Warning relaxing cspace margin by 0.002763047562826859 to ensure point containment\n",
      "INFO:drake:FastIris Warning relaxing cspace margin by 0.002763047562826859 to ensure point containment\n",
      "INFO:drake:FastIris Warning relaxing cspace margin by 0.002763047562826859 to ensure point containment\n",
      "INFO:drake:FastIris Warning relaxing cspace margin by 0.00301318486252522 to ensure point containment\n",
      "INFO:drake:FastIris Warning relaxing cspace margin by 0.009404654196995432 to ensure point containment\n",
      "INFO:drake:FastIris Warning relaxing cspace margin by 0.009404654196995432 to ensure point containment\n",
      "INFO:drake:FastIris iter 1, iter limit 1\n",
      "INFO:drake:Fast Iris execution time : 804 ms\n",
      "INFO:drake:FastIris requires 997/1000 particles to be collision free \n",
      "INFO:drake:FastIris iteration 0\n",
      "INFO:drake:SeparatingPlanes iteration: 1 faces: 24\n",
      "INFO:drake:FastIris iter 1, iter limit 1\n"
     ]
    },
    {
     "name": "stdout",
     "output_type": "stream",
     "text": [
      "Ellipsoid center collision free True\n"
     ]
    },
    {
     "name": "stderr",
     "output_type": "stream",
     "text": [
      "INFO:drake:Fast Iris execution time : 301 ms\n",
      "INFO:drake:FastIris requires 997/1000 particles to be collision free \n",
      "INFO:drake:FastIris iteration 0\n",
      "INFO:drake:SeparatingPlanes iteration: 1 faces: 24\n",
      "INFO:drake:FastIris Warning relaxing cspace margin by 0.006883951129466492 to ensure point containment\n",
      "INFO:drake:FastIris Warning relaxing cspace margin by 0.006883951129466492 to ensure point containment\n",
      "INFO:drake:FastIris Warning relaxing cspace margin by 0.006883951129466492 to ensure point containment\n",
      "INFO:drake:FastIris iter 1, iter limit 1\n",
      "INFO:drake:Fast Iris execution time : 330 ms\n",
      "INFO:drake:FastIris requires 997/1000 particles to be collision free \n",
      "INFO:drake:FastIris iteration 0\n",
      "INFO:drake:SeparatingPlanes iteration: 1 faces: 22\n",
      "INFO:drake:FastIris iter 1, iter limit 1\n"
     ]
    },
    {
     "name": "stdout",
     "output_type": "stream",
     "text": [
      "Ellipsoid center collision free True\n"
     ]
    },
    {
     "name": "stderr",
     "output_type": "stream",
     "text": [
      "INFO:drake:Fast Iris execution time : 261 ms\n",
      "INFO:drake:FastIris requires 997/1000 particles to be collision free \n",
      "INFO:drake:FastIris iteration 0\n",
      "INFO:drake:SeparatingPlanes iteration: 1 faces: 21\n",
      "INFO:drake:FastIris Warning relaxing cspace margin by 0.0038940326088949817 to ensure point containment\n",
      "INFO:drake:FastIris Warning relaxing cspace margin by 0.0038940326088949817 to ensure point containment\n",
      "INFO:drake:FastIris Warning relaxing cspace margin by 0.0038940326088949817 to ensure point containment\n",
      "INFO:drake:FastIris Warning relaxing cspace margin by 0.0038940326088949817 to ensure point containment\n",
      "INFO:drake:FastIris Warning relaxing cspace margin by 0.0038940326088949817 to ensure point containment\n",
      "INFO:drake:FastIris Warning relaxing cspace margin by 0.0038940326088949817 to ensure point containment\n",
      "INFO:drake:FastIris Warning relaxing cspace margin by 0.0038940326088949817 to ensure point containment\n",
      "INFO:drake:FastIris Warning relaxing cspace margin by 0.0038940326088949817 to ensure point containment\n",
      "INFO:drake:FastIris iter 1, iter limit 1\n",
      "INFO:drake:Fast Iris execution time : 599 ms\n",
      "INFO:drake:FastIris requires 997/1000 particles to be collision free \n",
      "INFO:drake:FastIris iteration 0\n",
      "INFO:drake:SeparatingPlanes iteration: 1 faces: 20\n"
     ]
    },
    {
     "name": "stdout",
     "output_type": "stream",
     "text": [
      "Ellipsoid center collision free True\n"
     ]
    },
    {
     "name": "stderr",
     "output_type": "stream",
     "text": [
      "INFO:drake:FastIris iter 1, iter limit 1\n",
      "INFO:drake:Fast Iris execution time : 313 ms\n",
      "INFO:drake:FastIris requires 997/1000 particles to be collision free \n",
      "INFO:drake:FastIris iteration 0\n",
      "INFO:drake:SeparatingPlanes iteration: 1 faces: 20\n",
      "INFO:drake:FastIris Warning relaxing cspace margin by 0.004221882250158071 to ensure point containment\n",
      "INFO:drake:FastIris Warning relaxing cspace margin by 0.005094879758619442 to ensure point containment\n",
      "INFO:drake:FastIris iter 1, iter limit 1\n",
      "INFO:drake:Fast Iris execution time : 232 ms\n",
      "INFO:drake:FastIris requires 997/1000 particles to be collision free \n",
      "INFO:drake:FastIris iteration 0\n",
      "INFO:drake:SeparatingPlanes iteration: 1 faces: 22\n",
      "INFO:drake:FastIris iter 1, iter limit 1\n"
     ]
    },
    {
     "name": "stdout",
     "output_type": "stream",
     "text": [
      "Ellipsoid center collision free True\n"
     ]
    },
    {
     "name": "stderr",
     "output_type": "stream",
     "text": [
      "INFO:drake:Fast Iris execution time : 575 ms\n",
      "INFO:drake:FastIris requires 997/1000 particles to be collision free \n",
      "INFO:drake:FastIris iteration 0\n",
      "INFO:drake:SeparatingPlanes iteration: 1 faces: 22\n",
      "INFO:drake:FastIris Warning relaxing cspace margin by 0.009411936180454106 to ensure point containment\n",
      "INFO:drake:FastIris Warning relaxing cspace margin by 0.009411936180454106 to ensure point containment\n",
      "INFO:drake:FastIris Warning relaxing cspace margin by 0.009411936180454106 to ensure point containment\n",
      "INFO:drake:FastIris Warning relaxing cspace margin by 0.009411936180454106 to ensure point containment\n",
      "INFO:drake:FastIris Warning relaxing cspace margin by 0.009411936180454106 to ensure point containment\n",
      "INFO:drake:FastIris Warning relaxing cspace margin by 0.009411936180454106 to ensure point containment\n",
      "INFO:drake:FastIris Warning relaxing cspace margin by 0.009411936180454106 to ensure point containment\n",
      "INFO:drake:FastIris Warning relaxing cspace margin by 0.009411936180454106 to ensure point containment\n",
      "INFO:drake:FastIris iter 1, iter limit 1\n",
      "INFO:drake:Fast Iris execution time : 708 ms\n",
      "INFO:drake:FastIris requires 997/1000 particles to be collision free \n",
      "INFO:drake:FastIris iteration 0\n",
      "INFO:drake:SeparatingPlanes iteration: 1 faces: 24\n"
     ]
    },
    {
     "name": "stdout",
     "output_type": "stream",
     "text": [
      "Ellipsoid center collision free True\n"
     ]
    },
    {
     "name": "stderr",
     "output_type": "stream",
     "text": [
      "INFO:drake:FastIris delta vol 0.010206739270311762, threshold 0.02\n",
      "INFO:drake:Fast Iris execution time : 517 ms\n",
      "INFO:drake:FastIris requires 997/1000 particles to be collision free \n",
      "INFO:drake:FastIris iteration 0\n",
      "INFO:drake:SeparatingPlanes iteration: 1 faces: 24\n",
      "INFO:drake:FastIris Warning relaxing cspace margin by 0.013459063078958278 to ensure point containment\n",
      "INFO:drake:FastIris Warning relaxing cspace margin by 0.013459063078958278 to ensure point containment\n",
      "INFO:drake:FastIris delta vol 0.00950988713013504, threshold 0.02\n",
      "INFO:drake:Fast Iris execution time : 552 ms\n",
      "INFO:drake:FastIris requires 997/1000 particles to be collision free \n",
      "INFO:drake:FastIris iteration 0\n",
      "INFO:drake:SeparatingPlanes iteration: 1 faces: 18\n"
     ]
    },
    {
     "name": "stdout",
     "output_type": "stream",
     "text": [
      "region generation failed\n",
      "Ellipsoid center collision free True\n"
     ]
    },
    {
     "name": "stderr",
     "output_type": "stream",
     "text": [
      "INFO:drake:FastIris delta vol 0.003274962319595595, threshold 0.02\n",
      "INFO:drake:Fast Iris execution time : 473 ms\n",
      "INFO:drake:FastIris requires 997/1000 particles to be collision free \n",
      "INFO:drake:FastIris iteration 0\n",
      "INFO:drake:SeparatingPlanes iteration: 1 faces: 18\n",
      "INFO:drake:FastIris Warning relaxing cspace margin by 0.0006091618343331828 to ensure point containment\n",
      "INFO:drake:FastIris Warning relaxing cspace margin by 0.008408849386176698 to ensure point containment\n",
      "INFO:drake:FastIris Warning relaxing cspace margin by 0.008408849386176698 to ensure point containment\n",
      "INFO:drake:FastIris Warning relaxing cspace margin by 0.008408849386176698 to ensure point containment\n",
      "INFO:drake:FastIris Warning relaxing cspace margin by 0.009149900221559482 to ensure point containment\n",
      "INFO:drake:FastIris Warning relaxing cspace margin by 0.009149900221559482 to ensure point containment\n",
      "INFO:drake:FastIris Warning relaxing cspace margin by 0.009149900221559482 to ensure point containment\n",
      "INFO:drake:FastIris Warning relaxing cspace margin by 0.009149900221559482 to ensure point containment\n",
      "INFO:drake:FastIris Warning relaxing cspace margin by 0.009878549861237929 to ensure point containment\n",
      "INFO:drake:FastIris Warning relaxing cspace margin by 0.009878549861237929 to ensure point containment\n",
      "INFO:drake:FastIris Warning relaxing cspace margin by 0.009878549861237929 to ensure point containment\n",
      "INFO:drake:FastIris Warning relaxing cspace margin by 0.009878549861237929 to ensure point containment\n",
      "INFO:drake:FastIris Warning relaxing cspace margin by 0.009878549861237929 to ensure point containment\n",
      "INFO:drake:FastIris delta vol 0.004442016600848792, threshold 0.02\n",
      "INFO:drake:Fast Iris execution time : 860 ms\n"
     ]
    }
   ],
   "source": [
    "regions_obj_no_containment = []\n",
    "regions_obj_containment = []\n",
    "for obj in range(len(ts_samplers)):\n",
    "    regs_no_containment = []\n",
    "    regs_containment = []\n",
    "    clique_pts_t_obj = [np.array([t_obj[obj][i, :] for i in cl]) for cl in cliques_obj[obj]]\n",
    "    clique_pts_loc = [np.array([q_obj[obj][i, :] for i in cl]) for cl in cliques_obj[obj]]\n",
    "    for clique_pts in clique_pts_loc:\n",
    "        fio.containment_points = clique_pts.T\n",
    "        try:\n",
    "            if len(clique_pts) > 10:\n",
    "                seed_ellipse = Hyperellipsoid.MinimumVolumeCircumscribedEllipsoid(clique_pts.T)\n",
    "                print(f\"Ellipsoid center collision free {checker.CheckConfigCollisionFree(seed_ellipse.center())}\")\n",
    "                assert checker.CheckConfigCollisionFree(seed_ellipse.center())\n",
    "                fio.force_containment_points = False\n",
    "                reg_no_cont = FastIris(checker, seed_ellipse, domain, fio)\n",
    "                fio.force_containment_points = True\n",
    "                reg_cont = FastIris(checker, seed_ellipse, domain, fio)\n",
    "                regs_no_containment += [reg_no_cont]\n",
    "                regs_containment += [reg_cont]\n",
    "        except:\n",
    "            print(\"region generation failed\")\n",
    "    regions_obj_no_containment += [regs_no_containment]\n",
    "    regions_obj_containment += [regs_containment]"
   ]
  },
  {
   "cell_type": "code",
   "execution_count": 12,
   "metadata": {},
   "outputs": [
    {
     "data": {
      "text/plain": [
       "Text(0.5, 1.0, 'connectivity')"
      ]
     },
     "execution_count": 12,
     "metadata": {},
     "output_type": "execute_result"
    },
    {
     "data": {
      "image/png": "[encoded data removed]",
      "text/plain": [
       "<Figure size 720x720 with 1 Axes>"
      ]
     },
     "metadata": {},
     "output_type": "display_data"
    }
   ],
   "source": [
    "import networkx as nx\n",
    "import matplotlib.pyplot as plt\n",
    "\n",
    "regionsFPP = []\n",
    "for r in regions_obj_no_containment:\n",
    "    regionsFPP += r \n",
    "\n",
    "\n",
    "connectivity_graph = nx.Graph()\n",
    "for idx in range(len(regionsFPP)):\n",
    "    connectivity_graph.add_node(idx)\n",
    "\n",
    "for idx1 in range(len(regionsFPP)):\n",
    "    for idx2 in range(idx1 +1, len(regionsFPP)):\n",
    "        r1 = regionsFPP[idx1]\n",
    "        r2 = regionsFPP[idx2]\n",
    "        if r1.IntersectsWith(r2):\n",
    "            connectivity_graph.add_edge(idx1,idx2)\n",
    "\n",
    "fig = plt.figure(figsize=(10,10))\n",
    "hues = generate_distinct_colors(2+1)[1:]\n",
    "colors = []\n",
    "for g, h in zip([regionsFPP], hues):\n",
    "    colors += [h]*len(g)\n",
    "nx.draw_spring(connectivity_graph, \n",
    "                with_labels = True, \n",
    "                node_color = colors)\n",
    "plt.title(f\"connectivity\")"
   ]
  },
  {
   "cell_type": "code",
   "execution_count": 13,
   "metadata": {},
   "outputs": [
    {
     "name": "stderr",
     "output_type": "stream",
     "text": [
      "100%|██████████| 5/5 [00:02<00:00,  2.16it/s]\n",
      "100%|██████████| 5/5 [00:02<00:00,  1.88it/s]\n",
      "100%|██████████| 5/5 [00:04<00:00,  1.13it/s]\n",
      "100%|██████████| 5/5 [00:05<00:00,  1.02s/it]\n",
      "100%|██████████| 5/5 [00:05<00:00,  1.14s/it]\n",
      "100%|██████████| 5/5 [00:06<00:00,  1.22s/it]\n",
      "100%|██████████| 5/5 [00:06<00:00,  1.24s/it]\n",
      "100%|██████████| 5/5 [00:06<00:00,  1.29s/it]\n",
      "100%|██████████| 5/5 [00:06<00:00,  1.38s/it]\n",
      "100%|██████████| 5/5 [00:07<00:00,  1.41s/it]\n",
      "100%|██████████| 5/5 [00:07<00:00,  1.45s/it]\n",
      "100%|██████████| 5/5 [00:07<00:00,  1.47s/it]\n",
      "100%|██████████| 5/5 [00:07<00:00,  1.56s/it]\n",
      "100%|██████████| 5/5 [00:09<00:00,  1.84s/it]\n",
      "100%|██████████| 5/5 [00:09<00:00,  1.96s/it]\n",
      "100%|██████████| 5/5 [00:10<00:00,  2.04s/it]\n",
      "100%|██████████| 5/5 [00:11<00:00,  2.21s/it]\n",
      "100%|██████████| 5/5 [00:11<00:00,  2.20s/it]\n",
      "100%|██████████| 5/5 [00:11<00:00,  2.35s/it]\n",
      "100%|██████████| 5/5 [00:11<00:00,  2.38s/it]\n",
      "100%|██████████| 5/5 [00:02<00:00,  1.97it/s]\n",
      "100%|██████████| 5/5 [00:04<00:00,  1.17it/s]\n",
      "100%|██████████| 5/5 [00:04<00:00,  1.14it/s]\n",
      "100%|██████████| 5/5 [00:05<00:00,  1.11s/it]\n",
      "100%|██████████| 5/5 [00:05<00:00,  1.10s/it]\n",
      "100%|██████████| 5/5 [00:05<00:00,  1.18s/it]\n",
      "100%|██████████| 5/5 [00:06<00:00,  1.32s/it]\n",
      "100%|██████████| 5/5 [00:06<00:00,  1.33s/it]\n",
      "100%|██████████| 5/5 [00:07<00:00,  1.44s/it]\n",
      "100%|██████████| 5/5 [00:07<00:00,  1.49s/it]\n",
      "100%|██████████| 5/5 [00:09<00:00,  1.81s/it]\n",
      "100%|██████████| 5/5 [00:09<00:00,  1.81s/it]\n",
      "100%|██████████| 5/5 [00:09<00:00,  1.82s/it]\n",
      "100%|██████████| 5/5 [00:09<00:00,  1.87s/it]\n",
      "100%|██████████| 5/5 [00:09<00:00,  1.88s/it]\n",
      "100%|██████████| 5/5 [00:11<00:00,  2.29s/it]\n",
      "100%|██████████| 5/5 [00:11<00:00,  2.31s/it]\n",
      "100%|██████████| 5/5 [00:12<00:00,  2.50s/it]\n",
      "100%|██████████| 5/5 [00:12<00:00,  2.54s/it]\n",
      "100%|██████████| 5/5 [00:15<00:00,  3.01s/it]\n",
      "100%|██████████| 5/5 [00:05<00:00,  1.09s/it]\n",
      "100%|██████████| 5/5 [00:05<00:00,  1.13s/it]\n",
      "100%|██████████| 5/5 [00:06<00:00,  1.38s/it]\n",
      "100%|██████████| 5/5 [00:06<00:00,  1.40s/it]\n",
      "100%|██████████| 5/5 [00:07<00:00,  1.59s/it]\n",
      "100%|██████████| 5/5 [00:08<00:00,  1.65s/it]\n",
      "100%|██████████| 5/5 [00:08<00:00,  1.79s/it]\n",
      "100%|██████████| 5/5 [00:09<00:00,  1.84s/it]\n",
      "100%|██████████| 5/5 [00:10<00:00,  2.05s/it]\n",
      "100%|██████████| 5/5 [00:10<00:00,  2.19s/it]\n",
      "100%|██████████| 5/5 [00:11<00:00,  2.38s/it]\n",
      "100%|██████████| 5/5 [00:12<00:00,  2.46s/it]\n",
      "100%|██████████| 5/5 [00:12<00:00,  2.56s/it]\n",
      "100%|██████████| 5/5 [00:13<00:00,  2.65s/it]\n",
      "100%|██████████| 5/5 [00:13<00:00,  2.76s/it]\n",
      "100%|██████████| 5/5 [00:13<00:00,  2.80s/it]\n",
      "100%|██████████| 5/5 [00:14<00:00,  2.92s/it]\n",
      "100%|██████████| 5/5 [00:14<00:00,  2.94s/it]\n",
      "100%|██████████| 5/5 [00:16<00:00,  3.33s/it]\n",
      "100%|██████████| 5/5 [00:18<00:00,  3.65s/it]\n"
     ]
    }
   ],
   "source": [
    "Ntest = 100\n",
    "q_test_obj = []\n",
    "t_test_obj = []\n",
    "for sh in ts_samplers:\n",
    "    q, t, _, res = sh(Ntest,[])\n",
    "    q_test_obj += [q]\n",
    "    t_test_obj += [t]"
   ]
  },
  {
   "cell_type": "code",
   "execution_count": 23,
   "metadata": {},
   "outputs": [
    {
     "name": "stdout",
     "output_type": "stream",
     "text": [
      "Containment 247/300\n"
     ]
    }
   ],
   "source": [
    "from cspace_utils.sampling import point_in_regions\n",
    "q_test_tot = np.concatenate(tuple(qs for qs in q_test_obj), axis=0)\n",
    "t_test_tot = np.concatenate(tuple(qs for qs in q_test_obj), axis=0)\n",
    "\n",
    "out_set = 0\n",
    "for q in q_test_tot:\n",
    "    if not point_in_regions(q, regionsFPP):\n",
    "        out_set +=1\n",
    "\n",
    "print(f\"Containment {out_set}/{len(q_test_tot)}\")"
   ]
  },
  {
   "cell_type": "code",
   "execution_count": 19,
   "metadata": {},
   "outputs": [
    {
     "data": {
      "text/plain": [
       "3"
      ]
     },
     "execution_count": 19,
     "metadata": {},
     "output_type": "execute_result"
    }
   ],
   "source": [
    "len(q_test_obj)"
   ]
  },
  {
   "cell_type": "code",
   "execution_count": null,
   "metadata": {},
   "outputs": [
    {
     "name": "stdout",
     "output_type": "stream",
     "text": [
      "[DijkstraSPP] Pre-Building adjacency matrix  0 / 23\n",
      "[DijkstraSPP] Pre-Building adjacency matrix  10 / 23\n",
      "[DijkstraSPP] Pre-Building adjacency matrix  20 / 23\n",
      "[DijkstraSPP] Pre-Building safe-adjacency matrix  0 / 23\n",
      "[DijkstraSPP] Pre-Building safe-adjacency matrix  10 / 23\n",
      "[DijkstraSPP] Pre-Building safe-adjacency matrix  20 / 23\n",
      "[DijkstraSPP] Optimizing 55 point locations in safe sets\n",
      "True\n"
     ]
    }
   ],
   "source": [
    "from cspace_utils.pathplanning import DijkstraSPP\n",
    "\n",
    "dspp = DijkstraSPP(regionsFPP, checker, verbose=True)"
   ]
  },
  {
   "cell_type": "code",
   "execution_count": null,
   "metadata": {},
   "outputs": [],
   "source": []
  },
  {
   "cell_type": "code",
   "execution_count": null,
   "metadata": {},
   "outputs": [],
   "source": []
  },
  {
   "cell_type": "code",
   "execution_count": null,
   "metadata": {},
   "outputs": [],
   "source": []
  },
  {
   "cell_type": "code",
   "execution_count": null,
   "metadata": {},
   "outputs": [],
   "source": []
  },
  {
   "cell_type": "code",
   "execution_count": 15,
   "metadata": {},
   "outputs": [],
   "source": [
    "reg = HPolyhedron(VPolytope(clique_pts.T))"
   ]
  },
  {
   "cell_type": "code",
   "execution_count": 17,
   "metadata": {},
   "outputs": [
    {
     "data": {
      "text/plain": [
       "2.6166841926994497e-09"
      ]
     },
     "execution_count": 17,
     "metadata": {},
     "output_type": "execute_result"
    }
   ],
   "source": [
    "reg.MaximumVolumeInscribedEllipsoid().CalcVolume()"
   ]
  },
  {
   "cell_type": "code",
   "execution_count": 34,
   "metadata": {},
   "outputs": [],
   "source": [
    "#t_tot = np.concatenate(tuple(t_obj))\n",
    "obj = 0\n",
    "clique_pts_t_obj = [np.array([t_obj[obj][i, :] for i in cl]) for cl in cliques_obj[obj]]\n",
    "clique_pts_obj = [np.array([q_obj[obj][i, :] for i in cl]) for cl in cliques_obj[obj]]\n",
    "\n",
    "clique_pts_t = [np.array([t_tot[i, :] for i in cl]) for cl in cliques_tot]\n",
    "clique_pts = [np.array([q_tot[i, :] for i in cl]) for cl in cliques_tot]\n",
    "colors = [Rgba(c[0], c[1], c[2],1) for c in generate_distinct_colors(len(clique_pts), rgb=True)]\n",
    "\n",
    "for i, cl in enumerate(clique_pts_t[:3]):\n",
    "    plot_points(meshcat, cl, f'cliques/cl_{i}', color = colors[i], size =0.01)\n",
    "\n",
    "\n",
    "plot_cliques(meshcat, cliques_obj[obj][:3], t_obj[obj], 'cliques/edges', size = 0.001, colors=colors, downsampling=10)\n"
   ]
  },
  {
   "cell_type": "code",
   "execution_count": 35,
   "metadata": {},
   "outputs": [
    {
     "data": {
      "text/plain": [
       "[[array([  0,   9,  18,  32,  36,  38,  39,  46,  47,  48,  53,  54,  55,\n",
       "          60,  63,  71,  74,  79,  82,  87,  88,  92,  93,  97,  98, 104,\n",
       "         114, 116, 117, 121, 125, 126, 129, 130, 140, 143, 146, 156, 158,\n",
       "         161, 164, 165, 168, 171, 172, 174, 176, 200, 201, 206, 207, 216,\n",
       "         220, 226, 230, 231, 238, 244, 246, 255, 257, 262, 263, 281, 284,\n",
       "         285, 287, 290, 295, 301, 322, 324, 329, 334, 336, 337, 338, 339,\n",
       "         340, 343, 348, 351, 364, 368, 369, 370, 385, 386, 394]),\n",
       "  array([  3,  37,  40,  64,  68,  76,  94, 100, 102, 103, 109, 113, 119,\n",
       "         122, 132, 134, 139, 194, 202, 203, 210, 243, 250, 282, 305, 310,\n",
       "         315, 318, 332, 344, 353, 355, 375, 390, 396, 398]),\n",
       "  array([  1,  26,  44,  49,  58,  78, 105, 110, 115, 141, 150, 169, 173,\n",
       "         179, 186, 187, 191, 221, 224, 227, 240, 272, 274, 297, 299, 304,\n",
       "         330, 331, 366, 389, 391]),\n",
       "  array([  4,  17,  24,  30,  31,  70, 138, 170, 184, 185, 208, 237, 239,\n",
       "         249, 269, 275, 283, 286, 293, 308, 312, 323, 325, 327, 333, 345,\n",
       "         346, 354, 373, 378]),\n",
       "  array([  2,  52,  67,  91, 123, 177, 193, 197, 209, 229, 233, 248, 270,\n",
       "         302, 306, 311, 313, 357, 383]),\n",
       "  array([ 62,  77, 142, 188, 236, 251, 268, 300, 326, 341, 360, 399]),\n",
       "  array([ 73,  84, 149, 159, 228, 242, 252, 259, 277, 303, 377]),\n",
       "  array([  5,  13, 152, 198, 204, 214, 232, 254, 352, 393, 397]),\n",
       "  array([ 27, 101, 107, 213, 219, 292, 307, 380, 381])]]"
      ]
     },
     "execution_count": 35,
     "metadata": {},
     "output_type": "execute_result"
    }
   ],
   "source": [
    "cliques_obj[:3]"
   ]
  },
  {
   "cell_type": "code",
   "execution_count": 36,
   "metadata": {},
   "outputs": [
    {
     "name": "stdout",
     "output_type": "stream",
     "text": [
      "Ellipsoid center collision free True\n"
     ]
    }
   ],
   "source": [
    "from pydrake.all import FastIris, FastIrisOptions, Hyperellipsoid, RandomGenerator\n",
    "\n",
    "generator = RandomGenerator(seed)\n",
    "fio = FastIrisOptions()\n",
    "fio.admissible_proportion_in_collision = 0.01\n",
    "fio.target_uncertainty = 0.01\n",
    "fio.max_iterations = 1\n",
    "fio.num_particles = 1000\n",
    "fio.configuration_space_margin = 0.01\n",
    "fio.verbose = True\n",
    "fio.random_seed = seed\n",
    "domain = HPolyhedron.MakeBox(plant.GetPositionLowerLimits(),\n",
    "                             plant.GetPositionUpperLimits())\n",
    "seed_ellipse = Hyperellipsoid.MinimumVolumeCircumscribedEllipsoid(clique_pts_obj[0].T)\n",
    "print(f\"Ellipsoid center collision free {checker.CheckConfigCollisionFree(seed_ellipse.center())}\")"
   ]
  },
  {
   "cell_type": "code",
   "execution_count": 37,
   "metadata": {},
   "outputs": [],
   "source": [
    "# cliques_obj"
   ]
  },
  {
   "cell_type": "code",
   "execution_count": 38,
   "metadata": {},
   "outputs": [
    {
     "name": "stderr",
     "output_type": "stream",
     "text": [
      "INFO:drake:FastIris requires 997/1000 particles to be collision free \n",
      "INFO:drake:FastIris iteration 0\n",
      "INFO:drake:SeparatingPlanes iteration: 1 faces: 24\n",
      "INFO:drake:FastIris iter 1, iter limit 1\n",
      "INFO:drake:Fast Iris execution time : 422 ms\n",
      "WARNING:drake:Volume calculation did not converge to desired relative accuracy 0.01.The tightest upper bound on relative accuracy achieved: 0.019048482943986485\n"
     ]
    },
    {
     "name": "stdout",
     "output_type": "stream",
     "text": [
      "number points contained 31/89\n",
      "Volume 34.69445793366954\n"
     ]
    }
   ],
   "source": [
    "region_no_containment = FastIris(checker, seed_ellipse, domain, fio)\n",
    "num_clique_points_in_set = 0\n",
    "for pt in clique_pts_obj[0]:\n",
    "    if region_no_containment.PointInSet(pt):\n",
    "        num_clique_points_in_set+=1\n",
    "print(f\"number points contained {num_clique_points_in_set}/{len(clique_pts_obj[0])}\")\n",
    "print(f\"Volume {region_no_containment.CalcVolumeViaSampling(generator, desired_rel_accuracy=0.01, max_num_samples=200000).volume}\")"
   ]
  },
  {
   "cell_type": "code",
   "execution_count": 39,
   "metadata": {},
   "outputs": [
    {
     "name": "stderr",
     "output_type": "stream",
     "text": [
      "INFO:drake:FastIris requires 997/1000 particles to be collision free \n"
     ]
    },
    {
     "name": "stderr",
     "output_type": "stream",
     "text": [
      "INFO:drake:FastIris iteration 0\n",
      "INFO:drake:SeparatingPlanes iteration: 1 faces: 26\n",
      "INFO:drake:FastIris Warning relaxing cspace margin by 0.007725533126216266 to ensure point containment\n",
      "INFO:drake:FastIris Warning relaxing cspace margin by 0.007725533126216266 to ensure point containment\n",
      "INFO:drake:FastIris Warning relaxing cspace margin by 0.007725533126216266 to ensure point containment\n",
      "INFO:drake:FastIris Warning relaxing cspace margin by 0.007725533126216266 to ensure point containment\n",
      "INFO:drake:FastIris Warning relaxing cspace margin by 0.009993433750056124 to ensure point containment\n",
      "INFO:drake:FastIris Warning relaxing cspace margin by 0.009993433750056124 to ensure point containment\n",
      "INFO:drake:FastIris Warning relaxing cspace margin by 0.009993433750056124 to ensure point containment\n",
      "INFO:drake:FastIris Warning relaxing cspace margin by 0.009993433750056124 to ensure point containment\n",
      "INFO:drake:FastIris Warning relaxing cspace margin by 0.009993433750056124 to ensure point containment\n",
      "INFO:drake:FastIris Warning relaxing cspace margin by 0.009993433750056124 to ensure point containment\n",
      "INFO:drake:FastIris Warning relaxing cspace margin by 0.009993433750056124 to ensure point containment\n",
      "INFO:drake:FastIris Warning relaxing cspace margin by 0.0694208309886275 to ensure point containment\n",
      "INFO:drake:FastIris iter 1, iter limit 1\n",
      "INFO:drake:Fast Iris execution time : 1333 ms\n",
      "WARNING:drake:Volume calculation did not converge to desired relative accuracy 0.01.The tightest upper bound on relative accuracy achieved: 0.05270462766947299\n"
     ]
    },
    {
     "name": "stdout",
     "output_type": "stream",
     "text": [
      "number points contained 89/89\n",
      "Volume 2.2341657098431966\n"
     ]
    }
   ],
   "source": [
    "fio.containment_points = clique_pts_obj[0].T\n",
    "fio.force_containment_points = True\n",
    "region_containment = FastIris(checker, seed_ellipse, domain, fio)\n",
    "num_clique_points_in_set = 0\n",
    "for pt in clique_pts_obj[0]:\n",
    "    if region_containment.PointInSet(pt):\n",
    "        num_clique_points_in_set+=1\n",
    "print(f\"number points contained {num_clique_points_in_set}/{len(clique_pts_obj[0])}\")\n",
    "print(f\"Volume {region_containment.CalcVolumeViaSampling(generator, desired_rel_accuracy=0.01, max_num_samples=200000).volume}\")"
   ]
  },
  {
   "cell_type": "code",
   "execution_count": 24,
   "metadata": {},
   "outputs": [],
   "source": [
    "verts = VPolytope(region_containment).vertices().T\n"
   ]
  },
  {
   "cell_type": "code",
   "execution_count": 25,
   "metadata": {},
   "outputs": [
    {
     "ename": "KeyboardInterrupt",
     "evalue": "",
     "output_type": "error",
     "traceback": [
      "\u001b[0;31m---------------------------------------------------------------------------\u001b[0m",
      "\u001b[0;31mKeyboardInterrupt\u001b[0m                         Traceback (most recent call last)",
      "\u001b[0;32m/tmp/ipykernel_2814744/1126037013.py\u001b[0m in \u001b[0;36m<module>\u001b[0;34m\u001b[0m\n\u001b[1;32m      3\u001b[0m \u001b[0;32mfor\u001b[0m \u001b[0mv\u001b[0m \u001b[0;32min\u001b[0m \u001b[0mverts\u001b[0m\u001b[0;34m:\u001b[0m\u001b[0;34m\u001b[0m\u001b[0;34m\u001b[0m\u001b[0m\n\u001b[1;32m      4\u001b[0m     \u001b[0mshowres\u001b[0m\u001b[0;34m(\u001b[0m\u001b[0mv\u001b[0m\u001b[0;34m)\u001b[0m\u001b[0;34m\u001b[0m\u001b[0;34m\u001b[0m\u001b[0m\n\u001b[0;32m----> 5\u001b[0;31m     \u001b[0mtime\u001b[0m\u001b[0;34m.\u001b[0m\u001b[0msleep\u001b[0m\u001b[0;34m(\u001b[0m\u001b[0;36m0.05\u001b[0m\u001b[0;34m)\u001b[0m\u001b[0;34m\u001b[0m\u001b[0;34m\u001b[0m\u001b[0m\n\u001b[0m",
      "\u001b[0;31mKeyboardInterrupt\u001b[0m: "
     ]
    }
   ],
   "source": [
    "import time\n",
    "\n",
    "for v in verts:\n",
    "    showres(v)\n",
    "    time.sleep(0.05)"
   ]
  },
  {
   "cell_type": "code",
   "execution_count": 20,
   "metadata": {},
   "outputs": [
    {
     "data": {
      "text/plain": [
       "array([[-3.15000000e-01,  8.45000000e-01, -2.22044605e-15],\n",
       "       [ 3.15000000e-01,  8.45000000e-01, -2.22044605e-15],\n",
       "       [-3.15000000e-01,  8.45000000e-01,  2.20000000e-01],\n",
       "       [ 3.15000000e-01,  8.45000000e-01,  2.20000000e-01],\n",
       "       [ 3.15000000e-01,  3.55000000e-01, -2.22044605e-15],\n",
       "       [-3.15000000e-01,  3.55000000e-01, -2.22044605e-15],\n",
       "       [ 3.15000000e-01,  3.55000000e-01,  2.20000000e-01],\n",
       "       [-3.15000000e-01,  3.55000000e-01,  2.20000000e-01]])"
      ]
     },
     "execution_count": 20,
     "metadata": {},
     "output_type": "execute_result"
    }
   ],
   "source": [
    "v"
   ]
  },
  {
   "cell_type": "code",
   "execution_count": null,
   "metadata": {},
   "outputs": [],
   "source": [
    "from pydrake.all import SampledIrisOptions, SampledIrisInConfigurationSpace\n",
    "\n",
    "generator = RandomGenerator(seed)\n",
    "sio = SampledIrisOptions()\n",
    "sio.admissible_proportion_in_collision = 0.01\n",
    "sio.target_uncertainty = 0.01\n",
    "sio.max_alternations = 1\n",
    "sio.particle_batch_size = 100\n",
    "sio.configuration_space_margin = 0.01\n",
    "sio.verbose = True\n",
    "sio.random_seed = seed\n",
    "domain = HPolyhedron.MakeBox(plant.GetPositionLowerLimits(),\n",
    "                             plant.GetPositionUpperLimits())\n",
    "seed_ellipse = Hyperellipsoid.MinimumVolumeCircumscribedEllipsoid(clique_pts[0].T)\n",
    "print(f\"Ellipsoid center collision free {checker.CheckConfigCollisionFree(seed_ellipse.center())}\")"
   ]
  },
  {
   "cell_type": "code",
   "execution_count": null,
   "metadata": {},
   "outputs": [],
   "source": [
    "region_no_containment = SampledIrisInConfigurationSpace()\n",
    "num_clique_points_in_set = 0\n",
    "for pt in clique_pts[0]:\n",
    "    if region_no_containment.PointInSet(pt):\n",
    "        num_clique_points_in_set+=1\n",
    "print(f\"number points contained {num_clique_points_in_set}/{len(clique_pts[0])}\")\n",
    "print(f\"Volume {region_no_containment.CalcVolumeViaSampling(generator, desired_rel_accuracy=0.01, max_num_samples=200000).volume}\")"
   ]
  },
  {
   "cell_type": "code",
   "execution_count": null,
   "metadata": {},
   "outputs": [],
   "source": []
  },
  {
   "cell_type": "code",
   "execution_count": 41,
   "metadata": {},
   "outputs": [],
   "source": [
    "vpoly = VPolytope(region_containment)"
   ]
  },
  {
   "cell_type": "code",
   "execution_count": 42,
   "metadata": {},
   "outputs": [
    {
     "ename": "KeyboardInterrupt",
     "evalue": "",
     "output_type": "error",
     "traceback": [
      "\u001b[0;31m---------------------------------------------------------------------------\u001b[0m",
      "\u001b[0;31mKeyboardInterrupt\u001b[0m                         Traceback (most recent call last)",
      "\u001b[0;32m/tmp/ipykernel_1260459/1644152315.py\u001b[0m in \u001b[0;36m<module>\u001b[0;34m\u001b[0m\n\u001b[1;32m      2\u001b[0m \u001b[0;32mfor\u001b[0m \u001b[0mpt\u001b[0m \u001b[0;32min\u001b[0m \u001b[0mvpoly\u001b[0m\u001b[0;34m.\u001b[0m\u001b[0mvertices\u001b[0m\u001b[0;34m(\u001b[0m\u001b[0;34m)\u001b[0m\u001b[0;34m.\u001b[0m\u001b[0mT\u001b[0m\u001b[0;34m:\u001b[0m\u001b[0;34m\u001b[0m\u001b[0;34m\u001b[0m\u001b[0m\n\u001b[1;32m      3\u001b[0m     \u001b[0mshowres\u001b[0m\u001b[0;34m(\u001b[0m\u001b[0mpt\u001b[0m\u001b[0;34m)\u001b[0m\u001b[0;34m\u001b[0m\u001b[0;34m\u001b[0m\u001b[0m\n\u001b[0;32m----> 4\u001b[0;31m     \u001b[0mtime\u001b[0m\u001b[0;34m.\u001b[0m\u001b[0msleep\u001b[0m\u001b[0;34m(\u001b[0m\u001b[0;36m0.1\u001b[0m\u001b[0;34m)\u001b[0m\u001b[0;34m\u001b[0m\u001b[0;34m\u001b[0m\u001b[0m\n\u001b[0m",
      "\u001b[0;31mKeyboardInterrupt\u001b[0m: "
     ]
    }
   ],
   "source": [
    "import time\n",
    "for pt in vpoly.vertices().T:\n",
    "    showres(pt)\n",
    "    time.sleep(0.1)"
   ]
  },
  {
   "cell_type": "code",
   "execution_count": 19,
   "metadata": {},
   "outputs": [],
   "source": [
    "from pydrake.all import MaxCliqueSolverViaGreedy\n",
    "max_clique_bools = MaxCliqueSolverViaGreedy().SolveMaxClique(vg_tot)\n",
    "max_clique = np.where(max_clique_bools)[0]"
   ]
  },
  {
   "cell_type": "code",
   "execution_count": 20,
   "metadata": {},
   "outputs": [
    {
     "data": {
      "text/plain": [
       "78"
      ]
     },
     "execution_count": 20,
     "metadata": {},
     "output_type": "execute_result"
    }
   ],
   "source": [
    "len(max_clique)"
   ]
  },
  {
   "cell_type": "code",
   "execution_count": null,
   "metadata": {},
   "outputs": [],
   "source": []
  }
 ],
 "metadata": {
  "kernelspec": {
   "display_name": "Python 3",
   "language": "python",
   "name": "python3"
  },
  "language_info": {
   "codemirror_mode": {
    "name": "ipython",
    "version": 3
   },
   "file_extension": ".py",
   "mimetype": "text/x-python",
   "name": "python",
   "nbconvert_exporter": "python",
   "pygments_lexer": "ipython3",
   "version": "3.10.12"
  }
 },
 "nbformat": 4,
 "nbformat_minor": 2
}
