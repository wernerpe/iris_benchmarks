{
 "cells": [
  {
   "cell_type": "code",
   "execution_count": 1,
   "metadata": {},
   "outputs": [],
   "source": [
    "import pickle\n",
    "from pydrake.all import Hyperrectangle, HPolyhedron, RandomGenerator\n",
    "import numpy as np\n",
    "import os"
   ]
  },
  {
   "cell_type": "code",
   "execution_count": 2,
   "metadata": {},
   "outputs": [],
   "source": [
    "\n",
    "# Define the path to the .pkl file\n",
    "folder_path = '/home/rebecca/Documents/code/iris_benchmarks/logs/ray_iris/fast_final'\n",
    "# folder_path = '/home/rebecca/Documents/code/iris_benchmarks/logs/fast_iris/unadaptive_balanced_final'\n",
    "regions = []\n",
    "environment_names = []\n",
    "for file_name in os.listdir(folder_path):\n",
    "    # Check if the file is a .pkl file\n",
    "    if file_name.endswith('.pkl'):\n",
    "        environment_names.append(file_name)\n",
    "        file_path = os.path.join(folder_path, file_name)\n",
    "        # Open and load the .pkl file\n",
    "        with open(file_path, 'rb') as file:\n",
    "            data = pickle.load(file)\n",
    "\n",
    "        # Print the contents of the .pkl file\n",
    "        regions.append(data[\"regions\"])\n"
   ]
  },
  {
   "cell_type": "code",
   "execution_count": 3,
   "metadata": {},
   "outputs": [
    {
     "data": {
      "text/plain": [
       "['5DOFUR3_d8e8869f3b.pkl',\n",
       " '7DOFBINS_20dd29b8d6.pkl',\n",
       " '15DOFALLEGRO_aed1e77019.pkl',\n",
       " '7DOF4SHELVES_20dd29b8d6.pkl',\n",
       " '14DOFIIWAS_832b2e0e20.pkl',\n",
       " '3DOFFLIPPER_20dd29b8d6.pkl',\n",
       " '7DOFIIWA_832b2e0e20.pkl',\n",
       " '6DOFUR3_53f3aaa5f3.pkl']"
      ]
     },
     "execution_count": 3,
     "metadata": {},
     "output_type": "execute_result"
    }
   ],
   "source": [
    "environment_names"
   ]
  },
  {
   "cell_type": "code",
   "execution_count": 4,
   "metadata": {},
   "outputs": [],
   "source": [
    "len(regions)\n",
    "i_reg = 0\n",
    "polytope = regions[i_reg]\n",
    "generator = RandomGenerator()"
   ]
  },
  {
   "cell_type": "code",
   "execution_count": 5,
   "metadata": {},
   "outputs": [
    {
     "ename": "TypeError",
     "evalue": "MaybeCalcAxisAlignedBoundingBox(): incompatible function arguments. The following argument types are supported:\n    1. (set: pydrake.geometry.optimization.ConvexSet) -> Optional[pydrake.geometry.optimization.Hyperrectangle]\n\nInvoked with: [<pydrake.geometry.optimization.HPolyhedron object at 0x7ec8006ced30>, <pydrake.geometry.optimization.HPolyhedron object at 0x7ec7cfdb8870>, <pydrake.geometry.optimization.HPolyhedron object at 0x7ec77ed065f0>, <pydrake.geometry.optimization.HPolyhedron object at 0x7ec77ed691f0>, <pydrake.geometry.optimization.HPolyhedron object at 0x7ec77d72fdf0>, <pydrake.geometry.optimization.HPolyhedron object at 0x7ec7d1f776f0>, <pydrake.geometry.optimization.HPolyhedron object at 0x7ec77a5fd030>, <pydrake.geometry.optimization.HPolyhedron object at 0x7ec77d72c9f0>, <pydrake.geometry.optimization.HPolyhedron object at 0x7ec77a5fd0f0>, <pydrake.geometry.optimization.HPolyhedron object at 0x7ec7d1f82ff0>, <pydrake.geometry.optimization.HPolyhedron object at 0x7ec77ed063b0>, <pydrake.geometry.optimization.HPolyhedron object at 0x7ec7cf71c070>, <pydrake.geometry.optimization.HPolyhedron object at 0x7ec77d72d430>, <pydrake.geometry.optimization.HPolyhedron object at 0x7ec77a5fd070>, <pydrake.geometry.optimization.HPolyhedron object at 0x7ec7cfd78df0>, <pydrake.geometry.optimization.HPolyhedron object at 0x7ec77ed91f30>, <pydrake.geometry.optimization.HPolyhedron object at 0x7ec77edcfc70>, <pydrake.geometry.optimization.HPolyhedron object at 0x7ec77a5fd330>, <pydrake.geometry.optimization.HPolyhedron object at 0x7ec77d72de30>, <pydrake.geometry.optimization.HPolyhedron object at 0x7ec7d1f755f0>, <pydrake.geometry.optimization.HPolyhedron object at 0x7ec77d150a70>, <pydrake.geometry.optimization.HPolyhedron object at 0x7ec7cfd5c8b0>, <pydrake.geometry.optimization.HPolyhedron object at 0x7ec7cfdadcf0>, <pydrake.geometry.optimization.HPolyhedron object at 0x7ec77d150b30>, <pydrake.geometry.optimization.HPolyhedron object at 0x7ec77ed04230>, <pydrake.geometry.optimization.HPolyhedron object at 0x7ec77d1332f0>, <pydrake.geometry.optimization.HPolyhedron object at 0x7ec77d7e8c70>, <pydrake.geometry.optimization.HPolyhedron object at 0x7ec7d1ffe0b0>, <pydrake.geometry.optimization.HPolyhedron object at 0x7ec7d1f82270>, <pydrake.geometry.optimization.HPolyhedron object at 0x7ec77a5fd6b0>, <pydrake.geometry.optimization.HPolyhedron object at 0x7ec77d7d9a70>, <pydrake.geometry.optimization.HPolyhedron object at 0x7ec77d107930>, <pydrake.geometry.optimization.HPolyhedron object at 0x7ec77edcd870>, <pydrake.geometry.optimization.HPolyhedron object at 0x7ec77a5fd730>, <pydrake.geometry.optimization.HPolyhedron object at 0x7ec77d7d9630>, <pydrake.geometry.optimization.HPolyhedron object at 0x7ec7cf7326b0>, <pydrake.geometry.optimization.HPolyhedron object at 0x7ec77ed1a0f0>, <pydrake.geometry.optimization.HPolyhedron object at 0x7ec77d7d85b0>, <pydrake.geometry.optimization.HPolyhedron object at 0x7ec77a5fd8f0>, <pydrake.geometry.optimization.HPolyhedron object at 0x7ec77d1244b0>, <pydrake.geometry.optimization.HPolyhedron object at 0x7ec77a5c9ff0>, <pydrake.geometry.optimization.HPolyhedron object at 0x7ec77d7d9070>, <pydrake.geometry.optimization.HPolyhedron object at 0x7ec77a5fd970>, <pydrake.geometry.optimization.HPolyhedron object at 0x7ec7cf7da9b0>, <pydrake.geometry.optimization.HPolyhedron object at 0x7ec77a5fdab0>, <pydrake.geometry.optimization.HPolyhedron object at 0x7ec77a5c97f0>, <pydrake.geometry.optimization.HPolyhedron object at 0x7ec77edcd430>, <pydrake.geometry.optimization.HPolyhedron object at 0x7ec77ed1a330>, <pydrake.geometry.optimization.HPolyhedron object at 0x7ec77a5fdbf0>, <pydrake.geometry.optimization.HPolyhedron object at 0x7ec77a5fdc70>, <pydrake.geometry.optimization.HPolyhedron object at 0x7ec77a5fdcf0>, <pydrake.geometry.optimization.HPolyhedron object at 0x7ec7cfdba3b0>, <pydrake.geometry.optimization.HPolyhedron object at 0x7ec77d133170>, <pydrake.geometry.optimization.HPolyhedron object at 0x7ec77d7d96b0>, <pydrake.geometry.optimization.HPolyhedron object at 0x7ec802876870>, <pydrake.geometry.optimization.HPolyhedron object at 0x7ec7cfd1faf0>, <pydrake.geometry.optimization.HPolyhedron object at 0x7ec77a5fde70>, <pydrake.geometry.optimization.HPolyhedron object at 0x7ec77a5fdf30>, <pydrake.geometry.optimization.HPolyhedron object at 0x7ec77a5fdfb0>, <pydrake.geometry.optimization.HPolyhedron object at 0x7ec77ed07eb0>, <pydrake.geometry.optimization.HPolyhedron object at 0x7ec7d1f7c330>, <pydrake.geometry.optimization.HPolyhedron object at 0x7ec77ed69af0>, <pydrake.geometry.optimization.HPolyhedron object at 0x7ec7cfdbaa30>, <pydrake.geometry.optimization.HPolyhedron object at 0x7ec77d72cf30>, <pydrake.geometry.optimization.HPolyhedron object at 0x7ec77d131ef0>, <pydrake.geometry.optimization.HPolyhedron object at 0x7ec7d1ff2bb0>, <pydrake.geometry.optimization.HPolyhedron object at 0x7ec77d7da2f0>, <pydrake.geometry.optimization.HPolyhedron object at 0x7ec77a5fe1b0>, <pydrake.geometry.optimization.HPolyhedron object at 0x7ec7cfd7b6f0>, <pydrake.geometry.optimization.HPolyhedron object at 0x7ec77a5c9c70>, <pydrake.geometry.optimization.HPolyhedron object at 0x7ec77d72cb30>, <pydrake.geometry.optimization.HPolyhedron object at 0x7ec77a5fe2f0>, <pydrake.geometry.optimization.HPolyhedron object at 0x7ec77a5fe370>, <pydrake.geometry.optimization.HPolyhedron object at 0x7ec77a5fe3f0>, <pydrake.geometry.optimization.HPolyhedron object at 0x7ec77a5fe470>, <pydrake.geometry.optimization.HPolyhedron object at 0x7ec7d1f77cb0>, <pydrake.geometry.optimization.HPolyhedron object at 0x7ec77a5fe4f0>, <pydrake.geometry.optimization.HPolyhedron object at 0x7ec77a5fe5b0>, <pydrake.geometry.optimization.HPolyhedron object at 0x7ec77a5fe630>, <pydrake.geometry.optimization.HPolyhedron object at 0x7ec77a5fe6b0>, <pydrake.geometry.optimization.HPolyhedron object at 0x7ec77a5fe730>, <pydrake.geometry.optimization.HPolyhedron object at 0x7ec7d1f7ca70>, <pydrake.geometry.optimization.HPolyhedron object at 0x7ec77a5fe7b0>, <pydrake.geometry.optimization.HPolyhedron object at 0x7ec77ed3eb30>, <pydrake.geometry.optimization.HPolyhedron object at 0x7ec77a5fd2f0>, <pydrake.geometry.optimization.HPolyhedron object at 0x7ec77a5fe8f0>, <pydrake.geometry.optimization.HPolyhedron object at 0x7ec77a5fe970>, <pydrake.geometry.optimization.HPolyhedron object at 0x7ec77a5fe9f0>, <pydrake.geometry.optimization.HPolyhedron object at 0x7ec77a5fea30>, <pydrake.geometry.optimization.HPolyhedron object at 0x7ec77a5feab0>, <pydrake.geometry.optimization.HPolyhedron object at 0x7ec77ed04630>, <pydrake.geometry.optimization.HPolyhedron object at 0x7ec77ed6b130>, <pydrake.geometry.optimization.HPolyhedron object at 0x7ec7cfd1f370>, <pydrake.geometry.optimization.HPolyhedron object at 0x7ec77ed91130>, <pydrake.geometry.optimization.HPolyhedron object at 0x7ec77d7e95f0>, <pydrake.geometry.optimization.HPolyhedron object at 0x7ec77edcec70>, <pydrake.geometry.optimization.HPolyhedron object at 0x7ec77d7db830>, <pydrake.geometry.optimization.HPolyhedron object at 0x7ec77d1333f0>, <pydrake.geometry.optimization.HPolyhedron object at 0x7ec7cf71f270>, <pydrake.geometry.optimization.HPolyhedron object at 0x7ec7d1f899b0>]",
     "output_type": "error",
     "traceback": [
      "\u001b[0;31m---------------------------------------------------------------------------\u001b[0m",
      "\u001b[0;31mTypeError\u001b[0m                                 Traceback (most recent call last)",
      "\u001b[0;32m/tmp/ipykernel_637710/2686998271.py\u001b[0m in \u001b[0;36m<module>\u001b[0;34m\u001b[0m\n\u001b[0;32m----> 1\u001b[0;31m \u001b[0maabb\u001b[0m \u001b[0;34m=\u001b[0m \u001b[0mHyperrectangle\u001b[0m\u001b[0;34m.\u001b[0m\u001b[0mMaybeCalcAxisAlignedBoundingBox\u001b[0m\u001b[0;34m(\u001b[0m\u001b[0mpolytope\u001b[0m\u001b[0;34m)\u001b[0m\u001b[0;34m\u001b[0m\u001b[0;34m\u001b[0m\u001b[0m\n\u001b[0m",
      "\u001b[0;31mTypeError\u001b[0m: MaybeCalcAxisAlignedBoundingBox(): incompatible function arguments. The following argument types are supported:\n    1. (set: pydrake.geometry.optimization.ConvexSet) -> Optional[pydrake.geometry.optimization.Hyperrectangle]\n\nInvoked with: [<pydrake.geometry.optimization.HPolyhedron object at 0x7ec8006ced30>, <pydrake.geometry.optimization.HPolyhedron object at 0x7ec7cfdb8870>, <pydrake.geometry.optimization.HPolyhedron object at 0x7ec77ed065f0>, <pydrake.geometry.optimization.HPolyhedron object at 0x7ec77ed691f0>, <pydrake.geometry.optimization.HPolyhedron object at 0x7ec77d72fdf0>, <pydrake.geometry.optimization.HPolyhedron object at 0x7ec7d1f776f0>, <pydrake.geometry.optimization.HPolyhedron object at 0x7ec77a5fd030>, <pydrake.geometry.optimization.HPolyhedron object at 0x7ec77d72c9f0>, <pydrake.geometry.optimization.HPolyhedron object at 0x7ec77a5fd0f0>, <pydrake.geometry.optimization.HPolyhedron object at 0x7ec7d1f82ff0>, <pydrake.geometry.optimization.HPolyhedron object at 0x7ec77ed063b0>, <pydrake.geometry.optimization.HPolyhedron object at 0x7ec7cf71c070>, <pydrake.geometry.optimization.HPolyhedron object at 0x7ec77d72d430>, <pydrake.geometry.optimization.HPolyhedron object at 0x7ec77a5fd070>, <pydrake.geometry.optimization.HPolyhedron object at 0x7ec7cfd78df0>, <pydrake.geometry.optimization.HPolyhedron object at 0x7ec77ed91f30>, <pydrake.geometry.optimization.HPolyhedron object at 0x7ec77edcfc70>, <pydrake.geometry.optimization.HPolyhedron object at 0x7ec77a5fd330>, <pydrake.geometry.optimization.HPolyhedron object at 0x7ec77d72de30>, <pydrake.geometry.optimization.HPolyhedron object at 0x7ec7d1f755f0>, <pydrake.geometry.optimization.HPolyhedron object at 0x7ec77d150a70>, <pydrake.geometry.optimization.HPolyhedron object at 0x7ec7cfd5c8b0>, <pydrake.geometry.optimization.HPolyhedron object at 0x7ec7cfdadcf0>, <pydrake.geometry.optimization.HPolyhedron object at 0x7ec77d150b30>, <pydrake.geometry.optimization.HPolyhedron object at 0x7ec77ed04230>, <pydrake.geometry.optimization.HPolyhedron object at 0x7ec77d1332f0>, <pydrake.geometry.optimization.HPolyhedron object at 0x7ec77d7e8c70>, <pydrake.geometry.optimization.HPolyhedron object at 0x7ec7d1ffe0b0>, <pydrake.geometry.optimization.HPolyhedron object at 0x7ec7d1f82270>, <pydrake.geometry.optimization.HPolyhedron object at 0x7ec77a5fd6b0>, <pydrake.geometry.optimization.HPolyhedron object at 0x7ec77d7d9a70>, <pydrake.geometry.optimization.HPolyhedron object at 0x7ec77d107930>, <pydrake.geometry.optimization.HPolyhedron object at 0x7ec77edcd870>, <pydrake.geometry.optimization.HPolyhedron object at 0x7ec77a5fd730>, <pydrake.geometry.optimization.HPolyhedron object at 0x7ec77d7d9630>, <pydrake.geometry.optimization.HPolyhedron object at 0x7ec7cf7326b0>, <pydrake.geometry.optimization.HPolyhedron object at 0x7ec77ed1a0f0>, <pydrake.geometry.optimization.HPolyhedron object at 0x7ec77d7d85b0>, <pydrake.geometry.optimization.HPolyhedron object at 0x7ec77a5fd8f0>, <pydrake.geometry.optimization.HPolyhedron object at 0x7ec77d1244b0>, <pydrake.geometry.optimization.HPolyhedron object at 0x7ec77a5c9ff0>, <pydrake.geometry.optimization.HPolyhedron object at 0x7ec77d7d9070>, <pydrake.geometry.optimization.HPolyhedron object at 0x7ec77a5fd970>, <pydrake.geometry.optimization.HPolyhedron object at 0x7ec7cf7da9b0>, <pydrake.geometry.optimization.HPolyhedron object at 0x7ec77a5fdab0>, <pydrake.geometry.optimization.HPolyhedron object at 0x7ec77a5c97f0>, <pydrake.geometry.optimization.HPolyhedron object at 0x7ec77edcd430>, <pydrake.geometry.optimization.HPolyhedron object at 0x7ec77ed1a330>, <pydrake.geometry.optimization.HPolyhedron object at 0x7ec77a5fdbf0>, <pydrake.geometry.optimization.HPolyhedron object at 0x7ec77a5fdc70>, <pydrake.geometry.optimization.HPolyhedron object at 0x7ec77a5fdcf0>, <pydrake.geometry.optimization.HPolyhedron object at 0x7ec7cfdba3b0>, <pydrake.geometry.optimization.HPolyhedron object at 0x7ec77d133170>, <pydrake.geometry.optimization.HPolyhedron object at 0x7ec77d7d96b0>, <pydrake.geometry.optimization.HPolyhedron object at 0x7ec802876870>, <pydrake.geometry.optimization.HPolyhedron object at 0x7ec7cfd1faf0>, <pydrake.geometry.optimization.HPolyhedron object at 0x7ec77a5fde70>, <pydrake.geometry.optimization.HPolyhedron object at 0x7ec77a5fdf30>, <pydrake.geometry.optimization.HPolyhedron object at 0x7ec77a5fdfb0>, <pydrake.geometry.optimization.HPolyhedron object at 0x7ec77ed07eb0>, <pydrake.geometry.optimization.HPolyhedron object at 0x7ec7d1f7c330>, <pydrake.geometry.optimization.HPolyhedron object at 0x7ec77ed69af0>, <pydrake.geometry.optimization.HPolyhedron object at 0x7ec7cfdbaa30>, <pydrake.geometry.optimization.HPolyhedron object at 0x7ec77d72cf30>, <pydrake.geometry.optimization.HPolyhedron object at 0x7ec77d131ef0>, <pydrake.geometry.optimization.HPolyhedron object at 0x7ec7d1ff2bb0>, <pydrake.geometry.optimization.HPolyhedron object at 0x7ec77d7da2f0>, <pydrake.geometry.optimization.HPolyhedron object at 0x7ec77a5fe1b0>, <pydrake.geometry.optimization.HPolyhedron object at 0x7ec7cfd7b6f0>, <pydrake.geometry.optimization.HPolyhedron object at 0x7ec77a5c9c70>, <pydrake.geometry.optimization.HPolyhedron object at 0x7ec77d72cb30>, <pydrake.geometry.optimization.HPolyhedron object at 0x7ec77a5fe2f0>, <pydrake.geometry.optimization.HPolyhedron object at 0x7ec77a5fe370>, <pydrake.geometry.optimization.HPolyhedron object at 0x7ec77a5fe3f0>, <pydrake.geometry.optimization.HPolyhedron object at 0x7ec77a5fe470>, <pydrake.geometry.optimization.HPolyhedron object at 0x7ec7d1f77cb0>, <pydrake.geometry.optimization.HPolyhedron object at 0x7ec77a5fe4f0>, <pydrake.geometry.optimization.HPolyhedron object at 0x7ec77a5fe5b0>, <pydrake.geometry.optimization.HPolyhedron object at 0x7ec77a5fe630>, <pydrake.geometry.optimization.HPolyhedron object at 0x7ec77a5fe6b0>, <pydrake.geometry.optimization.HPolyhedron object at 0x7ec77a5fe730>, <pydrake.geometry.optimization.HPolyhedron object at 0x7ec7d1f7ca70>, <pydrake.geometry.optimization.HPolyhedron object at 0x7ec77a5fe7b0>, <pydrake.geometry.optimization.HPolyhedron object at 0x7ec77ed3eb30>, <pydrake.geometry.optimization.HPolyhedron object at 0x7ec77a5fd2f0>, <pydrake.geometry.optimization.HPolyhedron object at 0x7ec77a5fe8f0>, <pydrake.geometry.optimization.HPolyhedron object at 0x7ec77a5fe970>, <pydrake.geometry.optimization.HPolyhedron object at 0x7ec77a5fe9f0>, <pydrake.geometry.optimization.HPolyhedron object at 0x7ec77a5fea30>, <pydrake.geometry.optimization.HPolyhedron object at 0x7ec77a5feab0>, <pydrake.geometry.optimization.HPolyhedron object at 0x7ec77ed04630>, <pydrake.geometry.optimization.HPolyhedron object at 0x7ec77ed6b130>, <pydrake.geometry.optimization.HPolyhedron object at 0x7ec7cfd1f370>, <pydrake.geometry.optimization.HPolyhedron object at 0x7ec77ed91130>, <pydrake.geometry.optimization.HPolyhedron object at 0x7ec77d7e95f0>, <pydrake.geometry.optimization.HPolyhedron object at 0x7ec77edcec70>, <pydrake.geometry.optimization.HPolyhedron object at 0x7ec77d7db830>, <pydrake.geometry.optimization.HPolyhedron object at 0x7ec77d1333f0>, <pydrake.geometry.optimization.HPolyhedron object at 0x7ec7cf71f270>, <pydrake.geometry.optimization.HPolyhedron object at 0x7ec7d1f899b0>]"
     ]
    }
   ],
   "source": [
    "aabb = Hyperrectangle.MaybeCalcAxisAlignedBoundingBox(polytope)"
   ]
  },
  {
   "cell_type": "code",
   "execution_count": 6,
   "metadata": {},
   "outputs": [],
   "source": [
    "num_samples = 10000000"
   ]
  },
  {
   "cell_type": "code",
   "execution_count": 7,
   "metadata": {},
   "outputs": [
    {
     "ename": "NameError",
     "evalue": "name 'aabb' is not defined",
     "output_type": "error",
     "traceback": [
      "\u001b[0;31m---------------------------------------------------------------------------\u001b[0m",
      "\u001b[0;31mNameError\u001b[0m                                 Traceback (most recent call last)",
      "\u001b[0;32m/tmp/ipykernel_637710/1177458421.py\u001b[0m in \u001b[0;36m<module>\u001b[0;34m\u001b[0m\n\u001b[1;32m      1\u001b[0m \u001b[0;32mfor\u001b[0m \u001b[0mi\u001b[0m \u001b[0;32min\u001b[0m \u001b[0mrange\u001b[0m\u001b[0;34m(\u001b[0m\u001b[0mnum_samples\u001b[0m\u001b[0;34m)\u001b[0m\u001b[0;34m:\u001b[0m\u001b[0;34m\u001b[0m\u001b[0;34m\u001b[0m\u001b[0m\n\u001b[0;32m----> 2\u001b[0;31m     \u001b[0maabb\u001b[0m\u001b[0;34m.\u001b[0m\u001b[0mUniformSample\u001b[0m\u001b[0;34m(\u001b[0m\u001b[0mgenerator\u001b[0m\u001b[0;34m)\u001b[0m\u001b[0;34m\u001b[0m\u001b[0;34m\u001b[0m\u001b[0m\n\u001b[0m",
      "\u001b[0;31mNameError\u001b[0m: name 'aabb' is not defined"
     ]
    }
   ],
   "source": [
    "for i in range(num_samples):\n",
    "    aabb.UniformSample(generator)"
   ]
  },
  {
   "cell_type": "code",
   "execution_count": 8,
   "metadata": {},
   "outputs": [
    {
     "ename": "NameError",
     "evalue": "name 'aabb' is not defined",
     "output_type": "error",
     "traceback": [
      "\u001b[0;31m---------------------------------------------------------------------------\u001b[0m",
      "\u001b[0;31mNameError\u001b[0m                                 Traceback (most recent call last)",
      "\u001b[0;32m/tmp/ipykernel_637710/1612290470.py\u001b[0m in \u001b[0;36m<module>\u001b[0;34m\u001b[0m\n\u001b[0;32m----> 1\u001b[0;31m \u001b[0msamples\u001b[0m \u001b[0;34m=\u001b[0m \u001b[0mnp\u001b[0m\u001b[0;34m.\u001b[0m\u001b[0mrandom\u001b[0m\u001b[0;34m.\u001b[0m\u001b[0mrand\u001b[0m\u001b[0;34m(\u001b[0m\u001b[0mnum_samples\u001b[0m\u001b[0;34m,\u001b[0m \u001b[0mlen\u001b[0m\u001b[0;34m(\u001b[0m\u001b[0maabb\u001b[0m\u001b[0;34m.\u001b[0m\u001b[0mlb\u001b[0m\u001b[0;34m(\u001b[0m\u001b[0;34m)\u001b[0m\u001b[0;34m)\u001b[0m\u001b[0;34m)\u001b[0m\u001b[0;34m\u001b[0m\u001b[0;34m\u001b[0m\u001b[0m\n\u001b[0m\u001b[1;32m      2\u001b[0m \u001b[0msamples\u001b[0m \u001b[0;34m=\u001b[0m \u001b[0maabb\u001b[0m\u001b[0;34m.\u001b[0m\u001b[0mlb\u001b[0m\u001b[0;34m(\u001b[0m\u001b[0;34m)\u001b[0m \u001b[0;34m+\u001b[0m \u001b[0msamples\u001b[0m \u001b[0;34m*\u001b[0m \u001b[0;34m(\u001b[0m\u001b[0maabb\u001b[0m\u001b[0;34m.\u001b[0m\u001b[0mub\u001b[0m\u001b[0;34m(\u001b[0m\u001b[0;34m)\u001b[0m \u001b[0;34m-\u001b[0m \u001b[0maabb\u001b[0m\u001b[0;34m.\u001b[0m\u001b[0mlb\u001b[0m\u001b[0;34m(\u001b[0m\u001b[0;34m)\u001b[0m\u001b[0;34m)\u001b[0m\u001b[0;34m\u001b[0m\u001b[0;34m\u001b[0m\u001b[0m\n",
      "\u001b[0;31mNameError\u001b[0m: name 'aabb' is not defined"
     ]
    }
   ],
   "source": [
    "samples = np.random.rand(num_samples, len(aabb.lb()))\n",
    "samples = aabb.lb() + samples * (aabb.ub() - aabb.lb())"
   ]
  },
  {
   "cell_type": "code",
   "execution_count": 9,
   "metadata": {},
   "outputs": [
    {
     "ename": "AttributeError",
     "evalue": "'list' object has no attribute 'PointInSet'",
     "output_type": "error",
     "traceback": [
      "\u001b[0;31m---------------------------------------------------------------------------\u001b[0m",
      "\u001b[0;31mAttributeError\u001b[0m                            Traceback (most recent call last)",
      "\u001b[0;32m/tmp/ipykernel_637710/2195241061.py\u001b[0m in \u001b[0;36m<module>\u001b[0;34m\u001b[0m\n\u001b[1;32m      1\u001b[0m \u001b[0mnum_hits_before_transform\u001b[0m \u001b[0;34m=\u001b[0m \u001b[0;36m0\u001b[0m\u001b[0;34m\u001b[0m\u001b[0;34m\u001b[0m\u001b[0m\n\u001b[1;32m      2\u001b[0m \u001b[0;32mfor\u001b[0m \u001b[0mi\u001b[0m \u001b[0;32min\u001b[0m \u001b[0mrange\u001b[0m\u001b[0;34m(\u001b[0m\u001b[0mnum_samples\u001b[0m\u001b[0;34m)\u001b[0m\u001b[0;34m:\u001b[0m\u001b[0;34m\u001b[0m\u001b[0;34m\u001b[0m\u001b[0m\n\u001b[0;32m----> 3\u001b[0;31m     \u001b[0;32mif\u001b[0m \u001b[0mpolytope\u001b[0m\u001b[0;34m.\u001b[0m\u001b[0mPointInSet\u001b[0m\u001b[0;34m(\u001b[0m\u001b[0msamples\u001b[0m\u001b[0;34m[\u001b[0m\u001b[0mi\u001b[0m\u001b[0;34m]\u001b[0m\u001b[0;34m)\u001b[0m\u001b[0;34m:\u001b[0m\u001b[0;34m\u001b[0m\u001b[0;34m\u001b[0m\u001b[0m\n\u001b[0m\u001b[1;32m      4\u001b[0m         \u001b[0mnum_hits_before_transform\u001b[0m \u001b[0;34m+=\u001b[0m \u001b[0;36m1\u001b[0m\u001b[0;34m\u001b[0m\u001b[0;34m\u001b[0m\u001b[0m\n\u001b[1;32m      5\u001b[0m \u001b[0mrelative_accuracy_before_transform\u001b[0m \u001b[0;34m=\u001b[0m \u001b[0mnp\u001b[0m\u001b[0;34m.\u001b[0m\u001b[0msqrt\u001b[0m\u001b[0;34m(\u001b[0m\u001b[0;36m1\u001b[0m\u001b[0;34m/\u001b[0m\u001b[0;34m(\u001b[0m\u001b[0;36m4\u001b[0m \u001b[0;34m*\u001b[0m \u001b[0mnum_hits_before_transform\u001b[0m\u001b[0;34m)\u001b[0m\u001b[0;34m)\u001b[0m\u001b[0;34m\u001b[0m\u001b[0;34m\u001b[0m\u001b[0m\n",
      "\u001b[0;31mAttributeError\u001b[0m: 'list' object has no attribute 'PointInSet'"
     ]
    }
   ],
   "source": [
    "num_hits_before_transform = 0\n",
    "for i in range(num_samples):\n",
    "    if polytope.PointInSet(samples[i]):\n",
    "        num_hits_before_transform += 1\n",
    "relative_accuracy_before_transform = np.sqrt(1/(4 * num_hits_before_transform))\n",
    "print(f\"relative accuracy before transform: {relative_accuracy_before_transform}\")\n",
    "print(f\"estimated volume: {aabb.CalcVolume() * num_hits_before_transform/num_samples}\")"
   ]
  },
  {
   "cell_type": "code",
   "execution_count": 90,
   "metadata": {},
   "outputs": [
    {
     "data": {
      "text/plain": [
       "10000000000"
      ]
     },
     "execution_count": 90,
     "metadata": {},
     "output_type": "execute_result"
    }
   ],
   "source": [
    "int(1e10)"
   ]
  },
  {
   "cell_type": "code",
   "execution_count": 10,
   "metadata": {},
   "outputs": [
    {
     "name": "stdout",
     "output_type": "stream",
     "text": [
      "environment: 5DOFUR3_d8e8869f3b.pkl\n",
      "Set parameter Username\n",
      "Academic license - for non-commercial use only - expires 2025-03-29\n",
      "environment: 7DOFBINS_20dd29b8d6.pkl\n",
      "environment: 15DOFALLEGRO_aed1e77019.pkl\n",
      "environment: 7DOF4SHELVES_20dd29b8d6.pkl\n",
      "environment: 14DOFIIWAS_832b2e0e20.pkl\n"
     ]
    },
    {
     "name": "stderr",
     "output_type": "stream",
     "text": [
      "WARNING:drake:Volume calculation did not converge to desired relative accuracy 0.001.The tightest upper bound on relative accuracy achieved: 0.021339479988815996\n",
      "WARNING:drake:Volume calculation did not converge to desired relative accuracy 0.001.The tightest upper bound on relative accuracy achieved: 0.02147683897937789\n",
      "WARNING:drake:Volume calculation did not converge to desired relative accuracy 0.001.The tightest upper bound on relative accuracy achieved: 0.02137845624045064\n",
      "WARNING:drake:Volume calculation did not converge to desired relative accuracy 0.001.The tightest upper bound on relative accuracy achieved: 0.020412414523193152\n",
      "WARNING:drake:Volume calculation did not converge to desired relative accuracy 0.001.The tightest upper bound on relative accuracy achieved: 0.021739130434782608\n",
      "WARNING:drake:Volume calculation did not converge to desired relative accuracy 0.001.The tightest upper bound on relative accuracy achieved: 0.02046363772675145\n",
      "WARNING:drake:Volume calculation did not converge to desired relative accuracy 0.001.The tightest upper bound on relative accuracy achieved: 0.021262162778128115\n",
      "WARNING:drake:Volume calculation did not converge to desired relative accuracy 0.001.The tightest upper bound on relative accuracy achieved: 0.021417646843905968\n",
      "WARNING:drake:Volume calculation did not converge to desired relative accuracy 0.001.The tightest upper bound on relative accuracy achieved: 0.021016567585459927\n",
      "WARNING:drake:Volume calculation did not converge to desired relative accuracy 0.001.The tightest upper bound on relative accuracy achieved: 0.02088779965721784\n",
      "WARNING:drake:Volume calculation did not converge to desired relative accuracy 0.001.The tightest upper bound on relative accuracy achieved: 0.029934217004462485\n",
      "WARNING:drake:Volume calculation did not converge to desired relative accuracy 0.001.The tightest upper bound on relative accuracy achieved: 0.03220783132004154\n",
      "WARNING:drake:Volume calculation did not converge to desired relative accuracy 0.001.The tightest upper bound on relative accuracy achieved: 0.03065696697424829\n",
      "WARNING:drake:Volume calculation did not converge to desired relative accuracy 0.001.The tightest upper bound on relative accuracy achieved: 0.03207501495497921\n",
      "WARNING:drake:Volume calculation did not converge to desired relative accuracy 0.001.The tightest upper bound on relative accuracy achieved: 0.03214121732666125\n",
      "WARNING:drake:Volume calculation did not converge to desired relative accuracy 0.001.The tightest upper bound on relative accuracy achieved: 0.03065696697424829\n",
      "WARNING:drake:Volume calculation did not converge to desired relative accuracy 0.001.The tightest upper bound on relative accuracy achieved: 0.03261640365267211\n",
      "WARNING:drake:Volume calculation did not converge to desired relative accuracy 0.001.The tightest upper bound on relative accuracy achieved: 0.03031695312954162\n",
      "WARNING:drake:Volume calculation did not converge to desired relative accuracy 0.001.The tightest upper bound on relative accuracy achieved: 0.0300964632714423\n",
      "WARNING:drake:Volume calculation did not converge to desired relative accuracy 0.001.The tightest upper bound on relative accuracy achieved: 0.03125\n",
      "WARNING:drake:Volume calculation did not converge to desired relative accuracy 0.001.The tightest upper bound on relative accuracy achieved: 0.021780342093451605\n",
      "WARNING:drake:Volume calculation did not converge to desired relative accuracy 0.001.The tightest upper bound on relative accuracy achieved: 0.02109122703047989\n",
      "WARNING:drake:Volume calculation did not converge to desired relative accuracy 0.001.The tightest upper bound on relative accuracy achieved: 0.020797258270192576\n",
      "WARNING:drake:Volume calculation did not converge to desired relative accuracy 0.001.The tightest upper bound on relative accuracy achieved: 0.021166687833365082\n",
      "WARNING:drake:Volume calculation did not converge to desired relative accuracy 0.001.The tightest upper bound on relative accuracy achieved: 0.02074349534112556\n",
      "WARNING:drake:Volume calculation did not converge to desired relative accuracy 0.001.The tightest upper bound on relative accuracy achieved: 0.020412414523193152\n",
      "WARNING:drake:Volume calculation did not converge to desired relative accuracy 0.001.The tightest upper bound on relative accuracy achieved: 0.020344711469278985\n",
      "WARNING:drake:Volume calculation did not converge to desired relative accuracy 0.001.The tightest upper bound on relative accuracy achieved: 0.020515248496555456\n",
      "WARNING:drake:Volume calculation did not converge to desired relative accuracy 0.001.The tightest upper bound on relative accuracy achieved: 0.02147683897937789\n",
      "WARNING:drake:Volume calculation did not converge to desired relative accuracy 0.001.The tightest upper bound on relative accuracy achieved: 0.019841894753313626\n",
      "WARNING:drake:Volume calculation did not converge to desired relative accuracy 0.001.The tightest upper bound on relative accuracy achieved: 0.03065696697424829\n",
      "WARNING:drake:Volume calculation did not converge to desired relative accuracy 0.001.The tightest upper bound on relative accuracy achieved: 0.02946278254943948\n",
      "WARNING:drake:Volume calculation did not converge to desired relative accuracy 0.001.The tightest upper bound on relative accuracy achieved: 0.031128640318234518\n",
      "WARNING:drake:Volume calculation did not converge to desired relative accuracy 0.001.The tightest upper bound on relative accuracy achieved: 0.030772872744833184\n",
      "WARNING:drake:Volume calculation did not converge to desired relative accuracy 0.001.The tightest upper bound on relative accuracy achieved: 0.031686212526223896\n",
      "WARNING:drake:Volume calculation did not converge to desired relative accuracy 0.001.The tightest upper bound on relative accuracy achieved: 0.032009219983223994\n",
      "WARNING:drake:Volume calculation did not converge to desired relative accuracy 0.001.The tightest upper bound on relative accuracy achieved: 0.030949223029508643\n",
      "WARNING:drake:Volume calculation did not converge to desired relative accuracy 0.001.The tightest upper bound on relative accuracy achieved: 0.03048553804248462\n",
      "WARNING:drake:Volume calculation did not converge to desired relative accuracy 0.001.The tightest upper bound on relative accuracy achieved: 0.02982749931359468\n",
      "WARNING:drake:Volume calculation did not converge to desired relative accuracy 0.001.The tightest upper bound on relative accuracy achieved: 0.03143473067309657\n",
      "WARNING:drake:Volume calculation did not converge to desired relative accuracy 0.001.The tightest upper bound on relative accuracy achieved: 0.003084892026041343\n",
      "WARNING:drake:Volume calculation did not converge to desired relative accuracy 0.001.The tightest upper bound on relative accuracy achieved: 0.0030979505162368015\n",
      "WARNING:drake:Volume calculation did not converge to desired relative accuracy 0.001.The tightest upper bound on relative accuracy achieved: 0.0030905441728237984\n",
      "WARNING:drake:Volume calculation did not converge to desired relative accuracy 0.001.The tightest upper bound on relative accuracy achieved: 0.003094092580942095\n",
      "WARNING:drake:Volume calculation did not converge to desired relative accuracy 0.001.The tightest upper bound on relative accuracy achieved: 0.003093737190020968\n",
      "WARNING:drake:Volume calculation did not converge to desired relative accuracy 0.001.The tightest upper bound on relative accuracy achieved: 0.0031008087343663755\n",
      "WARNING:drake:Volume calculation did not converge to desired relative accuracy 0.001.The tightest upper bound on relative accuracy achieved: 0.003085596848873595\n",
      "WARNING:drake:Volume calculation did not converge to desired relative accuracy 0.001.The tightest upper bound on relative accuracy achieved: 0.0030974749145427707\n",
      "WARNING:drake:Volume calculation did not converge to desired relative accuracy 0.001.The tightest upper bound on relative accuracy achieved: 0.0030865373645851033\n",
      "WARNING:drake:Volume calculation did not converge to desired relative accuracy 0.001.The tightest upper bound on relative accuracy achieved: 0.0030820775569453747\n",
      "WARNING:drake:Volume calculation did not converge to desired relative accuracy 0.001.The tightest upper bound on relative accuracy achieved: 0.0015736269544755442\n",
      "WARNING:drake:Volume calculation did not converge to desired relative accuracy 0.001.The tightest upper bound on relative accuracy achieved: 0.001576040703831955\n",
      "WARNING:drake:Volume calculation did not converge to desired relative accuracy 0.001.The tightest upper bound on relative accuracy achieved: 0.0015748363475728121\n",
      "WARNING:drake:Volume calculation did not converge to desired relative accuracy 0.001.The tightest upper bound on relative accuracy achieved: 0.0015715191448562947\n",
      "WARNING:drake:Volume calculation did not converge to desired relative accuracy 0.001.The tightest upper bound on relative accuracy achieved: 0.0015768007116726368\n",
      "WARNING:drake:Volume calculation did not converge to desired relative accuracy 0.001.The tightest upper bound on relative accuracy achieved: 0.0015699225526070446\n",
      "WARNING:drake:Volume calculation did not converge to desired relative accuracy 0.001.The tightest upper bound on relative accuracy achieved: 0.0015709915759384461\n",
      "WARNING:drake:Volume calculation did not converge to desired relative accuracy 0.001.The tightest upper bound on relative accuracy achieved: 0.0015715269071887934\n",
      "WARNING:drake:Volume calculation did not converge to desired relative accuracy 0.001.The tightest upper bound on relative accuracy achieved: 0.0015759780718171538\n",
      "WARNING:drake:Volume calculation did not converge to desired relative accuracy 0.001.The tightest upper bound on relative accuracy achieved: 0.0015720860975898812\n",
      "WARNING:drake:Volume calculation did not converge to desired relative accuracy 0.001.The tightest upper bound on relative accuracy achieved: 0.03990434422338111\n",
      "WARNING:drake:Volume calculation did not converge to desired relative accuracy 0.001.The tightest upper bound on relative accuracy achieved: 0.040422604172722164\n",
      "WARNING:drake:Volume calculation did not converge to desired relative accuracy 0.001.The tightest upper bound on relative accuracy achieved: 0.03952847075210474\n",
      "WARNING:drake:Volume calculation did not converge to desired relative accuracy 0.001.The tightest upper bound on relative accuracy achieved: 0.038235955645093626\n",
      "WARNING:drake:Volume calculation did not converge to desired relative accuracy 0.001.The tightest upper bound on relative accuracy achieved: 0.03706246583305506\n",
      "WARNING:drake:Volume calculation did not converge to desired relative accuracy 0.001.The tightest upper bound on relative accuracy achieved: 0.03892494720807615\n",
      "WARNING:drake:Volume calculation did not converge to desired relative accuracy 0.001.The tightest upper bound on relative accuracy achieved: 0.039777864208786505\n",
      "WARNING:drake:Volume calculation did not converge to desired relative accuracy 0.001.The tightest upper bound on relative accuracy achieved: 0.03940552031195503\n",
      "WARNING:drake:Volume calculation did not converge to desired relative accuracy 0.001.The tightest upper bound on relative accuracy achieved: 0.03892494720807615\n",
      "WARNING:drake:Volume calculation did not converge to desired relative accuracy 0.001.The tightest upper bound on relative accuracy achieved: 0.037688918072220454\n"
     ]
    },
    {
     "name": "stdout",
     "output_type": "stream",
     "text": [
      "environment: 3DOFFLIPPER_20dd29b8d6.pkl\n",
      "Warning for adding constraints: zero or small (< 1e-13) coefficients, ignored\n",
      "Warning for adding constraints: zero or small (< 1e-13) coefficients, ignored\n",
      "Warning for adding constraints: zero or small (< 1e-13) coefficients, ignored\n",
      "Warning for adding constraints: zero or small (< 1e-13) coefficients, ignored\n",
      "Warning for adding constraints: zero or small (< 1e-13) coefficients, ignored\n",
      "Warning for adding constraints: zero or small (< 1e-13) coefficients, ignored\n",
      "Warning for adding constraints: zero or small (< 1e-13) coefficients, ignored\n",
      "Warning for adding constraints: zero or small (< 1e-13) coefficients, ignored\n",
      "Warning for adding constraints: zero or small (< 1e-13) coefficients, ignored\n",
      "Warning for adding constraints: zero or small (< 1e-13) coefficients, ignored\n",
      "Warning for adding constraints: zero or small (< 1e-13) coefficients, ignored\n",
      "Warning for adding constraints: zero or small (< 1e-13) coefficients, ignored\n",
      "Warning for adding constraints: zero or small (< 1e-13) coefficients, ignored\n",
      "Warning for adding constraints: zero or small (< 1e-13) coefficients, ignored\n",
      "Warning for adding constraints: zero or small (< 1e-13) coefficients, ignored\n",
      "Warning for adding constraints: zero or small (< 1e-13) coefficients, ignored\n",
      "Warning for adding constraints: zero or small (< 1e-13) coefficients, ignored\n",
      "Warning for adding constraints: zero or small (< 1e-13) coefficients, ignored\n",
      "Warning for adding constraints: zero or small (< 1e-13) coefficients, ignored\n",
      "Warning for adding constraints: zero or small (< 1e-13) coefficients, ignored\n",
      "Warning for adding constraints: zero or small (< 1e-13) coefficients, ignored\n",
      "Warning for adding constraints: zero or small (< 1e-13) coefficients, ignored\n",
      "Warning for adding constraints: zero or small (< 1e-13) coefficients, ignored\n",
      "Warning for adding constraints: zero or small (< 1e-13) coefficients, ignored\n",
      "Warning for adding constraints: zero or small (< 1e-13) coefficients, ignored\n",
      "Warning for adding constraints: zero or small (< 1e-13) coefficients, ignored\n",
      "Warning for adding constraints: zero or small (< 1e-13) coefficients, ignored\n",
      "Warning for adding constraints: zero or small (< 1e-13) coefficients, ignored\n",
      "Warning for adding constraints: zero or small (< 1e-13) coefficients, ignored\n",
      "Warning for adding constraints: zero or small (< 1e-13) coefficients, ignored\n",
      "Warning for adding constraints: zero or small (< 1e-13) coefficients, ignored\n",
      "Warning for adding constraints: zero or small (< 1e-13) coefficients, ignored\n",
      "Warning for adding constraints: zero or small (< 1e-13) coefficients, ignored\n",
      "Warning for adding constraints: zero or small (< 1e-13) coefficients, ignored\n",
      "Warning for adding constraints: zero or small (< 1e-13) coefficients, ignored\n",
      "Warning for adding constraints: zero or small (< 1e-13) coefficients, ignored\n",
      "Warning for adding constraints: zero or small (< 1e-13) coefficients, ignored\n",
      "Warning for adding constraints: zero or small (< 1e-13) coefficients, ignored\n",
      "Warning for adding constraints: zero or small (< 1e-13) coefficients, ignored\n",
      "Warning for adding constraints: zero or small (< 1e-13) coefficients, ignored\n",
      "Warning for adding constraints: zero or small (< 1e-13) coefficients, ignored\n",
      "Warning for adding constraints: zero or small (< 1e-13) coefficients, ignored\n",
      "Warning for adding constraints: zero or small (< 1e-13) coefficients, ignored\n",
      "Warning for adding constraints: zero or small (< 1e-13) coefficients, ignored\n",
      "Warning for adding constraints: zero or small (< 1e-13) coefficients, ignored\n",
      "Warning for adding constraints: zero or small (< 1e-13) coefficients, ignored\n",
      "Warning for adding constraints: zero or small (< 1e-13) coefficients, ignored\n",
      "Warning for adding constraints: zero or small (< 1e-13) coefficients, ignored\n",
      "Warning for adding constraints: zero or small (< 1e-13) coefficients, ignored\n",
      "Warning for adding constraints: zero or small (< 1e-13) coefficients, ignored\n",
      "Warning for adding constraints: zero or small (< 1e-13) coefficients, ignored\n",
      "Warning for adding constraints: zero or small (< 1e-13) coefficients, ignored\n",
      "Warning for adding constraints: zero or small (< 1e-13) coefficients, ignored\n",
      "Warning for adding constraints: zero or small (< 1e-13) coefficients, ignored\n",
      "Warning for adding constraints: zero or small (< 1e-13) coefficients, ignored\n",
      "Warning for adding constraints: zero or small (< 1e-13) coefficients, ignored\n",
      "Warning for adding constraints: zero or small (< 1e-13) coefficients, ignored\n",
      "Warning for adding constraints: zero or small (< 1e-13) coefficients, ignored\n",
      "Warning for adding constraints: zero or small (< 1e-13) coefficients, ignored\n",
      "Warning for adding constraints: zero or small (< 1e-13) coefficients, ignored\n",
      "Warning for adding constraints: zero or small (< 1e-13) coefficients, ignored\n",
      "Warning for adding constraints: zero or small (< 1e-13) coefficients, ignored\n",
      "Warning for adding constraints: zero or small (< 1e-13) coefficients, ignored\n",
      "Warning for adding constraints: zero or small (< 1e-13) coefficients, ignored\n",
      "Warning for adding constraints: zero or small (< 1e-13) coefficients, ignored\n",
      "Warning for adding constraints: zero or small (< 1e-13) coefficients, ignored\n",
      "Warning for adding constraints: zero or small (< 1e-13) coefficients, ignored\n",
      "Warning for adding constraints: zero or small (< 1e-13) coefficients, ignored\n",
      "Warning for adding constraints: zero or small (< 1e-13) coefficients, ignored\n",
      "Warning for adding constraints: zero or small (< 1e-13) coefficients, ignored\n",
      "Warning for adding constraints: zero or small (< 1e-13) coefficients, ignored\n",
      "Warning for adding constraints: zero or small (< 1e-13) coefficients, ignored\n",
      "Warning for adding constraints: zero or small (< 1e-13) coefficients, ignored\n",
      "Warning for adding constraints: zero or small (< 1e-13) coefficients, ignored\n",
      "Warning for adding constraints: zero or small (< 1e-13) coefficients, ignored\n",
      "Warning for adding constraints: zero or small (< 1e-13) coefficients, ignored\n",
      "Warning for adding constraints: zero or small (< 1e-13) coefficients, ignored\n",
      "Warning for adding constraints: zero or small (< 1e-13) coefficients, ignored\n",
      "Warning for adding constraints: zero or small (< 1e-13) coefficients, ignored\n",
      "Warning for adding constraints: zero or small (< 1e-13) coefficients, ignored\n",
      "Warning for adding constraints: zero or small (< 1e-13) coefficients, ignored\n",
      "Warning for adding constraints: zero or small (< 1e-13) coefficients, ignored\n",
      "Warning for adding constraints: zero or small (< 1e-13) coefficients, ignored\n",
      "Warning for adding constraints: zero or small (< 1e-13) coefficients, ignored\n",
      "Warning for adding constraints: zero or small (< 1e-13) coefficients, ignored\n",
      "Warning for adding constraints: zero or small (< 1e-13) coefficients, ignored\n",
      "Warning for adding constraints: zero or small (< 1e-13) coefficients, ignored\n",
      "Warning for adding constraints: zero or small (< 1e-13) coefficients, ignored\n",
      "Warning for adding constraints: zero or small (< 1e-13) coefficients, ignored\n",
      "Warning for adding constraints: zero or small (< 1e-13) coefficients, ignored\n",
      "Warning for adding constraints: zero or small (< 1e-13) coefficients, ignored\n",
      "Warning for adding constraints: zero or small (< 1e-13) coefficients, ignored\n",
      "Warning for adding constraints: zero or small (< 1e-13) coefficients, ignored\n",
      "Warning for adding constraints: zero or small (< 1e-13) coefficients, ignored\n",
      "Warning for adding constraints: zero or small (< 1e-13) coefficients, ignored\n",
      "Warning for adding constraints: zero or small (< 1e-13) coefficients, ignored\n",
      "Warning for adding constraints: zero or small (< 1e-13) coefficients, ignored\n",
      "Warning for adding constraints: zero or small (< 1e-13) coefficients, ignored\n",
      "Warning for adding constraints: zero or small (< 1e-13) coefficients, ignored\n",
      "Warning for adding constraints: zero or small (< 1e-13) coefficients, ignored\n",
      "Warning for adding constraints: zero or small (< 1e-13) coefficients, ignored\n",
      "Warning for adding constraints: zero or small (< 1e-13) coefficients, ignored\n",
      "Warning for adding constraints: zero or small (< 1e-13) coefficients, ignored\n",
      "Warning for adding constraints: zero or small (< 1e-13) coefficients, ignored\n",
      "Warning for adding constraints: zero or small (< 1e-13) coefficients, ignored\n",
      "Warning for adding constraints: zero or small (< 1e-13) coefficients, ignored\n",
      "Warning for adding constraints: zero or small (< 1e-13) coefficients, ignored\n",
      "Warning for adding constraints: zero or small (< 1e-13) coefficients, ignored\n",
      "Warning for adding constraints: zero or small (< 1e-13) coefficients, ignored\n",
      "Warning for adding constraints: zero or small (< 1e-13) coefficients, ignored\n",
      "Warning for adding constraints: zero or small (< 1e-13) coefficients, ignored\n",
      "Warning for adding constraints: zero or small (< 1e-13) coefficients, ignored\n",
      "Warning for adding constraints: zero or small (< 1e-13) coefficients, ignored\n",
      "Warning for adding constraints: zero or small (< 1e-13) coefficients, ignored\n",
      "Warning for adding constraints: zero or small (< 1e-13) coefficients, ignored\n",
      "Warning for adding constraints: zero or small (< 1e-13) coefficients, ignored\n",
      "Warning for adding constraints: zero or small (< 1e-13) coefficients, ignored\n",
      "Warning for adding constraints: zero or small (< 1e-13) coefficients, ignored\n",
      "Warning for adding constraints: zero or small (< 1e-13) coefficients, ignored\n",
      "Warning for adding constraints: zero or small (< 1e-13) coefficients, ignored\n",
      "Warning for adding constraints: zero or small (< 1e-13) coefficients, ignored\n",
      "Warning for adding constraints: zero or small (< 1e-13) coefficients, ignored\n",
      "Warning for adding constraints: zero or small (< 1e-13) coefficients, ignored\n",
      "Warning for adding constraints: zero or small (< 1e-13) coefficients, ignored\n",
      "Warning for adding constraints: zero or small (< 1e-13) coefficients, ignored\n",
      "Warning for adding constraints: zero or small (< 1e-13) coefficients, ignored\n",
      "Warning for adding constraints: zero or small (< 1e-13) coefficients, ignored\n",
      "Warning for adding constraints: zero or small (< 1e-13) coefficients, ignored\n",
      "Warning for adding constraints: zero or small (< 1e-13) coefficients, ignored\n",
      "Warning for adding constraints: zero or small (< 1e-13) coefficients, ignored\n",
      "Warning for adding constraints: zero or small (< 1e-13) coefficients, ignored\n",
      "Warning for adding constraints: zero or small (< 1e-13) coefficients, ignored\n",
      "Warning for adding constraints: zero or small (< 1e-13) coefficients, ignored\n",
      "Warning for adding constraints: zero or small (< 1e-13) coefficients, ignored\n",
      "Warning for adding constraints: zero or small (< 1e-13) coefficients, ignored\n",
      "Warning for adding constraints: zero or small (< 1e-13) coefficients, ignored\n",
      "Warning for adding constraints: zero or small (< 1e-13) coefficients, ignored\n",
      "Warning for adding constraints: zero or small (< 1e-13) coefficients, ignored\n",
      "Warning for adding constraints: zero or small (< 1e-13) coefficients, ignored\n",
      "Warning for adding constraints: zero or small (< 1e-13) coefficients, ignored\n",
      "Warning for adding constraints: zero or small (< 1e-13) coefficients, ignored\n",
      "Warning for adding constraints: zero or small (< 1e-13) coefficients, ignored\n",
      "Warning for adding constraints: zero or small (< 1e-13) coefficients, ignored\n",
      "Warning for adding constraints: zero or small (< 1e-13) coefficients, ignored\n",
      "Warning for adding constraints: zero or small (< 1e-13) coefficients, ignored\n",
      "Warning for adding constraints: zero or small (< 1e-13) coefficients, ignored\n",
      "Warning for adding constraints: zero or small (< 1e-13) coefficients, ignored\n",
      "Warning for adding constraints: zero or small (< 1e-13) coefficients, ignored\n",
      "Warning for adding constraints: zero or small (< 1e-13) coefficients, ignored\n",
      "Warning for adding constraints: zero or small (< 1e-13) coefficients, ignored\n",
      "Warning for adding constraints: zero or small (< 1e-13) coefficients, ignored\n",
      "Warning for adding constraints: zero or small (< 1e-13) coefficients, ignored\n",
      "Warning for adding constraints: zero or small (< 1e-13) coefficients, ignored\n",
      "Warning for adding constraints: zero or small (< 1e-13) coefficients, ignored\n",
      "Warning for adding constraints: zero or small (< 1e-13) coefficients, ignored\n",
      "Warning for adding constraints: zero or small (< 1e-13) coefficients, ignored\n",
      "Warning for adding constraints: zero or small (< 1e-13) coefficients, ignored\n",
      "Warning for adding constraints: zero or small (< 1e-13) coefficients, ignored\n",
      "Warning for adding constraints: zero or small (< 1e-13) coefficients, ignored\n",
      "Warning for adding constraints: zero or small (< 1e-13) coefficients, ignored\n",
      "Warning for adding constraints: zero or small (< 1e-13) coefficients, ignored\n",
      "Warning for adding constraints: zero or small (< 1e-13) coefficients, ignored\n",
      "Warning for adding constraints: zero or small (< 1e-13) coefficients, ignored\n",
      "Warning for adding constraints: zero or small (< 1e-13) coefficients, ignored\n",
      "Warning for adding constraints: zero or small (< 1e-13) coefficients, ignored\n",
      "Warning for adding constraints: zero or small (< 1e-13) coefficients, ignored\n",
      "Warning for adding constraints: zero or small (< 1e-13) coefficients, ignored\n",
      "Warning for adding constraints: zero or small (< 1e-13) coefficients, ignored\n",
      "Warning for adding constraints: zero or small (< 1e-13) coefficients, ignored\n",
      "Warning for adding constraints: zero or small (< 1e-13) coefficients, ignored\n",
      "Warning for adding constraints: zero or small (< 1e-13) coefficients, ignored\n",
      "Warning for adding constraints: zero or small (< 1e-13) coefficients, ignored\n",
      "Warning for adding constraints: zero or small (< 1e-13) coefficients, ignored\n",
      "Warning for adding constraints: zero or small (< 1e-13) coefficients, ignored\n",
      "Warning for adding constraints: zero or small (< 1e-13) coefficients, ignored\n",
      "Warning for adding constraints: zero or small (< 1e-13) coefficients, ignored\n",
      "Warning for adding constraints: zero or small (< 1e-13) coefficients, ignored\n",
      "Warning for adding constraints: zero or small (< 1e-13) coefficients, ignored\n",
      "Warning for adding constraints: zero or small (< 1e-13) coefficients, ignored\n",
      "Warning for adding constraints: zero or small (< 1e-13) coefficients, ignored\n",
      "Warning for adding constraints: zero or small (< 1e-13) coefficients, ignored\n",
      "Warning for adding constraints: zero or small (< 1e-13) coefficients, ignored\n",
      "Warning for adding constraints: zero or small (< 1e-13) coefficients, ignored\n",
      "Warning for adding constraints: zero or small (< 1e-13) coefficients, ignored\n",
      "Warning for adding constraints: zero or small (< 1e-13) coefficients, ignored\n",
      "Warning for adding constraints: zero or small (< 1e-13) coefficients, ignored\n",
      "Warning for adding constraints: zero or small (< 1e-13) coefficients, ignored\n",
      "Warning for adding constraints: zero or small (< 1e-13) coefficients, ignored\n",
      "Warning for adding constraints: zero or small (< 1e-13) coefficients, ignored\n",
      "Warning for adding constraints: zero or small (< 1e-13) coefficients, ignored\n",
      "Warning for adding constraints: zero or small (< 1e-13) coefficients, ignored\n",
      "Warning for adding constraints: zero or small (< 1e-13) coefficients, ignored\n",
      "Warning for adding constraints: zero or small (< 1e-13) coefficients, ignored\n",
      "Warning for adding constraints: zero or small (< 1e-13) coefficients, ignored\n",
      "Warning for adding constraints: zero or small (< 1e-13) coefficients, ignored\n",
      "Warning for adding constraints: zero or small (< 1e-13) coefficients, ignored\n",
      "Warning for adding constraints: zero or small (< 1e-13) coefficients, ignored\n",
      "Warning for adding constraints: zero or small (< 1e-13) coefficients, ignored\n",
      "Warning for adding constraints: zero or small (< 1e-13) coefficients, ignored\n",
      "Warning for adding constraints: zero or small (< 1e-13) coefficients, ignored\n",
      "Warning for adding constraints: zero or small (< 1e-13) coefficients, ignored\n",
      "Warning for adding constraints: zero or small (< 1e-13) coefficients, ignored\n",
      "Warning for adding constraints: zero or small (< 1e-13) coefficients, ignored\n",
      "Warning for adding constraints: zero or small (< 1e-13) coefficients, ignored\n",
      "Warning for adding constraints: zero or small (< 1e-13) coefficients, ignored\n",
      "Warning for adding constraints: zero or small (< 1e-13) coefficients, ignored\n",
      "Warning for adding constraints: zero or small (< 1e-13) coefficients, ignored\n",
      "Warning for adding constraints: zero or small (< 1e-13) coefficients, ignored\n",
      "Warning for adding constraints: zero or small (< 1e-13) coefficients, ignored\n",
      "Warning for adding constraints: zero or small (< 1e-13) coefficients, ignored\n",
      "Warning for adding constraints: zero or small (< 1e-13) coefficients, ignored\n",
      "Warning for adding constraints: zero or small (< 1e-13) coefficients, ignored\n",
      "Warning for adding constraints: zero or small (< 1e-13) coefficients, ignored\n",
      "Warning for adding constraints: zero or small (< 1e-13) coefficients, ignored\n",
      "Warning for adding constraints: zero or small (< 1e-13) coefficients, ignored\n",
      "Warning for adding constraints: zero or small (< 1e-13) coefficients, ignored\n",
      "Warning for adding constraints: zero or small (< 1e-13) coefficients, ignored\n",
      "Warning for adding constraints: zero or small (< 1e-13) coefficients, ignored\n",
      "Warning for adding constraints: zero or small (< 1e-13) coefficients, ignored\n",
      "Warning for adding constraints: zero or small (< 1e-13) coefficients, ignored\n",
      "Warning for adding constraints: zero or small (< 1e-13) coefficients, ignored\n",
      "Warning for adding constraints: zero or small (< 1e-13) coefficients, ignored\n",
      "Warning for adding constraints: zero or small (< 1e-13) coefficients, ignored\n",
      "Warning for adding constraints: zero or small (< 1e-13) coefficients, ignored\n",
      "Warning for adding constraints: zero or small (< 1e-13) coefficients, ignored\n",
      "Warning for adding constraints: zero or small (< 1e-13) coefficients, ignored\n",
      "Warning for adding constraints: zero or small (< 1e-13) coefficients, ignored\n",
      "Warning for adding constraints: zero or small (< 1e-13) coefficients, ignored\n",
      "Warning for adding constraints: zero or small (< 1e-13) coefficients, ignored\n",
      "Warning for adding constraints: zero or small (< 1e-13) coefficients, ignored\n",
      "Warning for adding constraints: zero or small (< 1e-13) coefficients, ignored\n",
      "Warning for adding constraints: zero or small (< 1e-13) coefficients, ignored\n",
      "Warning for adding constraints: zero or small (< 1e-13) coefficients, ignored\n",
      "Warning for adding constraints: zero or small (< 1e-13) coefficients, ignored\n",
      "Warning for adding constraints: zero or small (< 1e-13) coefficients, ignored\n",
      "Warning for adding constraints: zero or small (< 1e-13) coefficients, ignored\n",
      "Warning for adding constraints: zero or small (< 1e-13) coefficients, ignored\n",
      "Warning for adding constraints: zero or small (< 1e-13) coefficients, ignored\n",
      "Warning for adding constraints: zero or small (< 1e-13) coefficients, ignored\n",
      "Warning for adding constraints: zero or small (< 1e-13) coefficients, ignored\n",
      "Warning for adding constraints: zero or small (< 1e-13) coefficients, ignored\n",
      "Warning for adding constraints: zero or small (< 1e-13) coefficients, ignored\n",
      "Warning for adding constraints: zero or small (< 1e-13) coefficients, ignored\n",
      "Warning for adding constraints: zero or small (< 1e-13) coefficients, ignored\n",
      "Warning for adding constraints: zero or small (< 1e-13) coefficients, ignored\n",
      "Warning for adding constraints: zero or small (< 1e-13) coefficients, ignored\n",
      "Warning for adding constraints: zero or small (< 1e-13) coefficients, ignored\n",
      "Warning for adding constraints: zero or small (< 1e-13) coefficients, ignored\n",
      "Warning for adding constraints: zero or small (< 1e-13) coefficients, ignored\n",
      "Warning for adding constraints: zero or small (< 1e-13) coefficients, ignored\n",
      "Warning for adding constraints: zero or small (< 1e-13) coefficients, ignored\n",
      "Warning for adding constraints: zero or small (< 1e-13) coefficients, ignored\n",
      "Warning for adding constraints: zero or small (< 1e-13) coefficients, ignored\n",
      "Warning for adding constraints: zero or small (< 1e-13) coefficients, ignored\n",
      "Warning for adding constraints: zero or small (< 1e-13) coefficients, ignored\n",
      "Warning for adding constraints: zero or small (< 1e-13) coefficients, ignored\n",
      "Warning for adding constraints: zero or small (< 1e-13) coefficients, ignored\n",
      "Warning for adding constraints: zero or small (< 1e-13) coefficients, ignored\n",
      "Warning for adding constraints: zero or small (< 1e-13) coefficients, ignored\n",
      "Warning for adding constraints: zero or small (< 1e-13) coefficients, ignored\n",
      "Warning for adding constraints: zero or small (< 1e-13) coefficients, ignored\n",
      "Warning for adding constraints: zero or small (< 1e-13) coefficients, ignored\n",
      "Warning for adding constraints: zero or small (< 1e-13) coefficients, ignored\n",
      "Warning for adding constraints: zero or small (< 1e-13) coefficients, ignored\n",
      "Warning for adding constraints: zero or small (< 1e-13) coefficients, ignored\n",
      "Warning for adding constraints: zero or small (< 1e-13) coefficients, ignored\n",
      "Warning for adding constraints: zero or small (< 1e-13) coefficients, ignored\n",
      "Warning for adding constraints: zero or small (< 1e-13) coefficients, ignored\n",
      "Warning for adding constraints: zero or small (< 1e-13) coefficients, ignored\n",
      "Warning for adding constraints: zero or small (< 1e-13) coefficients, ignored\n",
      "Warning for adding constraints: zero or small (< 1e-13) coefficients, ignored\n",
      "Warning for adding constraints: zero or small (< 1e-13) coefficients, ignored\n",
      "Warning for adding constraints: zero or small (< 1e-13) coefficients, ignored\n",
      "Warning for adding constraints: zero or small (< 1e-13) coefficients, ignored\n",
      "Warning for adding constraints: zero or small (< 1e-13) coefficients, ignored\n",
      "Warning for adding constraints: zero or small (< 1e-13) coefficients, ignored\n",
      "Warning for adding constraints: zero or small (< 1e-13) coefficients, ignored\n",
      "Warning for adding constraints: zero or small (< 1e-13) coefficients, ignored\n",
      "Warning for adding constraints: zero or small (< 1e-13) coefficients, ignored\n",
      "Warning for adding constraints: zero or small (< 1e-13) coefficients, ignored\n",
      "Warning for adding constraints: zero or small (< 1e-13) coefficients, ignored\n",
      "Warning for adding constraints: zero or small (< 1e-13) coefficients, ignored\n",
      "Warning for adding constraints: zero or small (< 1e-13) coefficients, ignored\n",
      "Warning for adding constraints: zero or small (< 1e-13) coefficients, ignored\n",
      "Warning for adding constraints: zero or small (< 1e-13) coefficients, ignored\n",
      "Warning for adding constraints: zero or small (< 1e-13) coefficients, ignored\n",
      "Warning for adding constraints: zero or small (< 1e-13) coefficients, ignored\n",
      "Warning for adding constraints: zero or small (< 1e-13) coefficients, ignored\n",
      "Warning for adding constraints: zero or small (< 1e-13) coefficients, ignored\n",
      "Warning for adding constraints: zero or small (< 1e-13) coefficients, ignored\n",
      "Warning for adding constraints: zero or small (< 1e-13) coefficients, ignored\n",
      "Warning for adding constraints: zero or small (< 1e-13) coefficients, ignored\n",
      "Warning for adding constraints: zero or small (< 1e-13) coefficients, ignored\n",
      "Warning for adding constraints: zero or small (< 1e-13) coefficients, ignored\n",
      "Warning for adding constraints: zero or small (< 1e-13) coefficients, ignored\n",
      "Warning for adding constraints: zero or small (< 1e-13) coefficients, ignored\n",
      "Warning for adding constraints: zero or small (< 1e-13) coefficients, ignored\n",
      "Warning for adding constraints: zero or small (< 1e-13) coefficients, ignored\n",
      "Warning for adding constraints: zero or small (< 1e-13) coefficients, ignored\n",
      "Warning for adding constraints: zero or small (< 1e-13) coefficients, ignored\n",
      "Warning for adding constraints: zero or small (< 1e-13) coefficients, ignored\n",
      "Warning for adding constraints: zero or small (< 1e-13) coefficients, ignored\n",
      "Warning for adding constraints: zero or small (< 1e-13) coefficients, ignored\n",
      "Warning for adding constraints: zero or small (< 1e-13) coefficients, ignored\n",
      "Warning for adding constraints: zero or small (< 1e-13) coefficients, ignored\n",
      "Warning for adding constraints: zero or small (< 1e-13) coefficients, ignored\n",
      "Warning for adding constraints: zero or small (< 1e-13) coefficients, ignored\n",
      "Warning for adding constraints: zero or small (< 1e-13) coefficients, ignored\n",
      "Warning for adding constraints: zero or small (< 1e-13) coefficients, ignored\n",
      "Warning for adding constraints: zero or small (< 1e-13) coefficients, ignored\n",
      "Warning for adding constraints: zero or small (< 1e-13) coefficients, ignored\n",
      "Warning for adding constraints: zero or small (< 1e-13) coefficients, ignored\n",
      "Warning for adding constraints: zero or small (< 1e-13) coefficients, ignored\n",
      "Warning for adding constraints: zero or small (< 1e-13) coefficients, ignored\n",
      "Warning for adding constraints: zero or small (< 1e-13) coefficients, ignored\n",
      "Warning for adding constraints: zero or small (< 1e-13) coefficients, ignored\n",
      "Warning for adding constraints: zero or small (< 1e-13) coefficients, ignored\n",
      "Warning for adding constraints: zero or small (< 1e-13) coefficients, ignored\n",
      "Warning for adding constraints: zero or small (< 1e-13) coefficients, ignored\n",
      "Warning for adding constraints: zero or small (< 1e-13) coefficients, ignored\n",
      "Warning for adding constraints: zero or small (< 1e-13) coefficients, ignored\n",
      "Warning for adding constraints: zero or small (< 1e-13) coefficients, ignored\n",
      "Warning for adding constraints: zero or small (< 1e-13) coefficients, ignored\n",
      "Warning for adding constraints: zero or small (< 1e-13) coefficients, ignored\n",
      "Warning for adding constraints: zero or small (< 1e-13) coefficients, ignored\n",
      "Warning for adding constraints: zero or small (< 1e-13) coefficients, ignored\n",
      "Warning for adding constraints: zero or small (< 1e-13) coefficients, ignored\n",
      "Warning for adding constraints: zero or small (< 1e-13) coefficients, ignored\n",
      "Warning for adding constraints: zero or small (< 1e-13) coefficients, ignored\n",
      "Warning for adding constraints: zero or small (< 1e-13) coefficients, ignored\n",
      "Warning for adding constraints: zero or small (< 1e-13) coefficients, ignored\n",
      "Warning for adding constraints: zero or small (< 1e-13) coefficients, ignored\n",
      "Warning for adding constraints: zero or small (< 1e-13) coefficients, ignored\n",
      "Warning for adding constraints: zero or small (< 1e-13) coefficients, ignored\n",
      "Warning for adding constraints: zero or small (< 1e-13) coefficients, ignored\n",
      "Warning for adding constraints: zero or small (< 1e-13) coefficients, ignored\n",
      "Warning for adding constraints: zero or small (< 1e-13) coefficients, ignored\n",
      "Warning for adding constraints: zero or small (< 1e-13) coefficients, ignored\n",
      "Warning for adding constraints: zero or small (< 1e-13) coefficients, ignored\n",
      "Warning for adding constraints: zero or small (< 1e-13) coefficients, ignored\n",
      "Warning for adding constraints: zero or small (< 1e-13) coefficients, ignored\n",
      "Warning for adding constraints: zero or small (< 1e-13) coefficients, ignored\n",
      "Warning for adding constraints: zero or small (< 1e-13) coefficients, ignored\n",
      "Warning for adding constraints: zero or small (< 1e-13) coefficients, ignored\n",
      "Warning for adding constraints: zero or small (< 1e-13) coefficients, ignored\n",
      "Warning for adding constraints: zero or small (< 1e-13) coefficients, ignored\n",
      "Warning for adding constraints: zero or small (< 1e-13) coefficients, ignored\n",
      "Warning for adding constraints: zero or small (< 1e-13) coefficients, ignored\n",
      "Warning for adding constraints: zero or small (< 1e-13) coefficients, ignored\n",
      "Warning for adding constraints: zero or small (< 1e-13) coefficients, ignored\n",
      "Warning for adding constraints: zero or small (< 1e-13) coefficients, ignored\n",
      "Warning for adding constraints: zero or small (< 1e-13) coefficients, ignored\n",
      "Warning for adding constraints: zero or small (< 1e-13) coefficients, ignored\n",
      "Warning for adding constraints: zero or small (< 1e-13) coefficients, ignored\n",
      "Warning for adding constraints: zero or small (< 1e-13) coefficients, ignored\n",
      "Warning for adding constraints: zero or small (< 1e-13) coefficients, ignored\n",
      "Warning for adding constraints: zero or small (< 1e-13) coefficients, ignored\n",
      "Warning for adding constraints: zero or small (< 1e-13) coefficients, ignored\n",
      "Warning for adding constraints: zero or small (< 1e-13) coefficients, ignored\n",
      "Warning for adding constraints: zero or small (< 1e-13) coefficients, ignored\n",
      "Warning for adding constraints: zero or small (< 1e-13) coefficients, ignored\n",
      "Warning for adding constraints: zero or small (< 1e-13) coefficients, ignored\n",
      "Warning for adding constraints: zero or small (< 1e-13) coefficients, ignored\n",
      "Warning for adding constraints: zero or small (< 1e-13) coefficients, ignored\n",
      "Warning for adding constraints: zero or small (< 1e-13) coefficients, ignored\n",
      "Warning for adding constraints: zero or small (< 1e-13) coefficients, ignored\n",
      "Warning for adding constraints: zero or small (< 1e-13) coefficients, ignored\n",
      "Warning for adding constraints: zero or small (< 1e-13) coefficients, ignored\n",
      "Warning for adding constraints: zero or small (< 1e-13) coefficients, ignored\n",
      "Warning for adding constraints: zero or small (< 1e-13) coefficients, ignored\n",
      "Warning for adding constraints: zero or small (< 1e-13) coefficients, ignored\n",
      "Warning for adding constraints: zero or small (< 1e-13) coefficients, ignored\n",
      "Warning for adding constraints: zero or small (< 1e-13) coefficients, ignored\n",
      "Warning for adding constraints: zero or small (< 1e-13) coefficients, ignored\n",
      "Warning for adding constraints: zero or small (< 1e-13) coefficients, ignored\n",
      "Warning for adding constraints: zero or small (< 1e-13) coefficients, ignored\n",
      "Warning for adding constraints: zero or small (< 1e-13) coefficients, ignored\n",
      "Warning for adding constraints: zero or small (< 1e-13) coefficients, ignored\n",
      "Warning for adding constraints: zero or small (< 1e-13) coefficients, ignored\n",
      "Warning for adding constraints: zero or small (< 1e-13) coefficients, ignored\n",
      "Warning for adding constraints: zero or small (< 1e-13) coefficients, ignored\n",
      "Warning for adding constraints: zero or small (< 1e-13) coefficients, ignored\n",
      "Warning for adding constraints: zero or small (< 1e-13) coefficients, ignored\n",
      "Warning for adding constraints: zero or small (< 1e-13) coefficients, ignored\n",
      "Warning for adding constraints: zero or small (< 1e-13) coefficients, ignored\n",
      "Warning for adding constraints: zero or small (< 1e-13) coefficients, ignored\n",
      "Warning for adding constraints: zero or small (< 1e-13) coefficients, ignored\n",
      "Warning for adding constraints: zero or small (< 1e-13) coefficients, ignored\n",
      "Warning for adding constraints: zero or small (< 1e-13) coefficients, ignored\n",
      "Warning for adding constraints: zero or small (< 1e-13) coefficients, ignored\n",
      "Warning for adding constraints: zero or small (< 1e-13) coefficients, ignored\n",
      "Warning for adding constraints: zero or small (< 1e-13) coefficients, ignored\n",
      "Warning for adding constraints: zero or small (< 1e-13) coefficients, ignored\n",
      "Warning for adding constraints: zero or small (< 1e-13) coefficients, ignored\n",
      "Warning for adding constraints: zero or small (< 1e-13) coefficients, ignored\n",
      "Warning for adding constraints: zero or small (< 1e-13) coefficients, ignored\n",
      "Warning for adding constraints: zero or small (< 1e-13) coefficients, ignored\n",
      "Warning for adding constraints: zero or small (< 1e-13) coefficients, ignored\n",
      "Warning for adding constraints: zero or small (< 1e-13) coefficients, ignored\n",
      "Warning for adding constraints: zero or small (< 1e-13) coefficients, ignored\n",
      "Warning for adding constraints: zero or small (< 1e-13) coefficients, ignored\n",
      "Warning for adding constraints: zero or small (< 1e-13) coefficients, ignored\n",
      "Warning for adding constraints: zero or small (< 1e-13) coefficients, ignored\n",
      "Warning for adding constraints: zero or small (< 1e-13) coefficients, ignored\n",
      "Warning for adding constraints: zero or small (< 1e-13) coefficients, ignored\n",
      "Warning for adding constraints: zero or small (< 1e-13) coefficients, ignored\n",
      "Warning for adding constraints: zero or small (< 1e-13) coefficients, ignored\n",
      "Warning for adding constraints: zero or small (< 1e-13) coefficients, ignored\n",
      "Warning for adding constraints: zero or small (< 1e-13) coefficients, ignored\n",
      "Warning for adding constraints: zero or small (< 1e-13) coefficients, ignored\n",
      "Warning for adding constraints: zero or small (< 1e-13) coefficients, ignored\n",
      "Warning for adding cenvironment: 7DOFIIWA_832b2e0e20.pkl\n",
      "onstraints: zero or small (< 1e-13) coefficients, ignored\n",
      "Warning for adding constraints: zero or small (< 1e-13) coefficients, ignored\n",
      "Warning for adding constraints: zero or small (< 1e-13) coefficients, ignored\n",
      "Warning for adding constraints: zero or small (< 1e-13) coefficients, ignored\n",
      "Warning for adding constraints: zero or small (< 1e-13) coefficients, ignored\n",
      "Warning for adding constraints: zero or small (< 1e-13) coefficients, ignored\n",
      "Warning for adding constraints: zero or small (< 1e-13) coefficients, ignored\n",
      "Warning for adding constraints: zero or small (< 1e-13) coefficients, ignored\n",
      "Warning for adding constraints: zero or small (< 1e-13) coefficients, ignored\n",
      "Warning for adding constraints: zero or small (< 1e-13) coefficients, ignored\n",
      "Warning for adding constraints: zero or small (< 1e-13) coefficients, ignored\n",
      "Warning for adding constraints: zero or small (< 1e-13) coefficients, ignored\n",
      "Warning for adding constraints: zero or small (< 1e-13) coefficients, ignored\n",
      "Warning for adding constraints: zero or small (< 1e-13) coefficients, ignored\n",
      "Warning for adding constraints: zero or small (< 1e-13) coefficients, ignored\n",
      "Warning for adding constraints: zero or small (< 1e-13) coefficients, ignored\n",
      "Warning for adding constraints: zero or small (< 1e-13) coefficients, ignored\n",
      "Warning for adding constraints: zero or small (< 1e-13) coefficients, ignored\n",
      "Warning for adding constraints: zero or small (< 1e-13) coefficients, ignored\n",
      "Warning for adding constraints: zero or small (< 1e-13) coefficients, ignored\n",
      "Warning for adding constraints: zero or small (< 1e-13) coefficients, ignored\n",
      "Warning for adding constraints: zero or small (< 1e-13) coefficients, ignored\n",
      "Warning for adding constraints: zero or small (< 1e-13) coefficients, ignored\n",
      "Warning for adding constraints: zero or small (< 1e-13) coefficients, ignored\n",
      "Warning for adding constraints: zero or small (< 1e-13) coefficients, ignored\n",
      "Warning for adding constraints: zero or small (< 1e-13) coefficients, ignored\n",
      "Warning for adding constraints: zero or small (< 1e-13) coefficients, ignored\n",
      "Warning for adding constraints: zero or small (< 1e-13) coefficients, ignored\n",
      "Warning for adding constraints: zero or small (< 1e-13) coefficients, ignored\n",
      "Warning for adding constraints: zero or small (< 1e-13) coefficients, ignored\n",
      "Warning for adding constraints: zero or small (< 1e-13) coefficients, ignored\n",
      "Warning for adding constraints: zero or small (< 1e-13) coefficients, ignored\n",
      "Warning for adding constraints: zero or small (< 1e-13) coefficients, ignored\n",
      "Warning for adding constraints: zero or small (< 1e-13) coefficients, ignored\n",
      "Warning for adding constraints: zero or small (< 1e-13) coefficients, ignored\n",
      "Warning for adding constraints: zero or small (< 1e-13) coefficients, ignored\n",
      "Warning for adding constraints: zero or small (< 1e-13) coefficients, ignored\n",
      "Warning for adding constraints: zero or small (< 1e-13) coefficients, ignored\n",
      "Warning for adding constraints: zero or small (< 1e-13) coefficients, ignored\n",
      "Warning for adding constraints: zero or small (< 1e-13) coefficients, ignored\n",
      "Warning for adding constraints: zero or small (< 1e-13) coefficients, ignored\n",
      "Warning for adding constraints: zero or small (< 1e-13) coefficients, ignored\n",
      "Warning for adding constraints: zero or small (< 1e-13) coefficients, ignored\n",
      "Warning for adding constraints: zero or small (< 1e-13) coefficients, ignored\n",
      "Warning for adding constraints: zero or small (< 1e-13) coefficients, ignored\n",
      "Warning for adding constraints: zero or small (< 1e-13) coefficients, ignored\n",
      "Warning for adding constraints: zero or small (< 1e-13) coefficients, ignored\n",
      "Warning for adding constraints: zero or small (< 1e-13) coefficients, ignored\n",
      "Warning for adding constraints: zero or small (< 1e-13) coefficients, ignored\n",
      "Warning for adding constraints: zero or small (< 1e-13) coefficients, ignored\n",
      "Warning for adding constraints: zero or small (< 1e-13) coefficients, ignored\n",
      "Warning for adding constraints: zero or sm"
     ]
    },
    {
     "name": "stderr",
     "output_type": "stream",
     "text": [
      "WARNING:drake:Volume calculation did not converge to desired relative accuracy 0.001.The tightest upper bound on relative accuracy achieved: 0.001190445822347658\n",
      "WARNING:drake:Volume calculation did not converge to desired relative accuracy 0.001.The tightest upper bound on relative accuracy achieved: 0.001192024665896599\n"
     ]
    },
    {
     "name": "stdout",
     "output_type": "stream",
     "text": [
      "all (< 1e-13) coefficients, ignored\n",
      "Warning for adding constraints: zero or small (< 1e-13) coefficients, ignored\n",
      "Warning for adding constraints: zero or small (< 1e-13) coefficients, ignored\n",
      "Warning for adding constraints: zero or small (< 1e-13) coefficients, ignored\n",
      "Warning for adding constraints: zero or small (< 1e-13) coefficients, ignored\n",
      "Warning for adding constraints: zero or small (< 1e-13) coefficients, ignored\n",
      "Warning for adding constraints: zero or small (< 1e-13) coefficients, ignored\n",
      "Warning for adding constraints: zero or small (< 1e-13) coefficients, ignored\n",
      "Warning for adding constraints: zero or small (< 1e-13) coefficients, ignored\n",
      "Warning for adding constraints: zero or small (< 1e-13) coefficients, ignored\n",
      "Warning for adding constraints: zero or small (< 1e-13) coefficients, ignored\n",
      "Warning for adding constraints: zero or small (< 1e-13) coefficients, ignored\n",
      "Warning for adding constraints: zero or small (< 1e-13) coefficients, ignored\n",
      "Warning for adding constraints: zero or small (< 1e-13) coefficients, ignored\n",
      "Warning for adding constraints: zero or small (< 1e-13) coefficients, ignored\n",
      "Warning for adding constraints: zero or small (< 1e-13) coefficients, ignored\n",
      "Warning for adding constraints: zero or small (< 1e-13) coefficients, ignored\n",
      "Warning for adding constraints: zero or small (< 1e-13) coefficients, ignored\n",
      "Warning for adding constraints: zero or small (< 1e-13) coefficients, ignored\n",
      "Warning for adding constraints: zero or small (< 1e-13) coefficients, ignored\n",
      "Warning for adding constraints: zero or small (< 1e-13) coefficients, ignored\n",
      "Warning for adding constraints: zero or small (< 1e-13) coefficients, ignored\n",
      "Warning for adding constraints: zero or small (< 1e-13) coefficients, ignored\n",
      "Warning for adding constraints: zero or small (< 1e-13) coefficients, ignored\n",
      "Warning for adding constraints: zero or small (< 1e-13) coefficients, ignored\n",
      "Warning for adding constraints: zero or small (< 1e-13) coefficients, ignored\n",
      "Warning for adding constraints: zero or small (< 1e-13) coefficients, ignored\n",
      "Warning for adding constraints: zero or small (< 1e-13) coefficients, ignored\n",
      "Warning for adding constraints: zero or small (< 1e-13) coefficients, ignored\n",
      "Warning for adding constraints: zero or small (< 1e-13) coefficients, ignored\n",
      "Warning for adding constraints: zero or small (< 1e-13) coefficients, ignored\n",
      "Warning for adding constraints: zero or small (< 1e-13) coefficients, ignored\n",
      "Warning for adding constraints: zero or small (< 1e-13) coefficients, ignored\n",
      "Warning for adding constraints: zero or small (< 1e-13) coefficients, ignored\n",
      "Warning for adding constraints: zero or small (< 1e-13) coefficients, ignored\n",
      "Warning for adding constraints: zero or small (< 1e-13) coefficients, ignored\n",
      "Warning for adding constraints: zero or small (< 1e-13) coefficients, ignored\n",
      "Warning for adding constraints: zero or small (< 1e-13) coefficients, ignored\n",
      "Warning for adding constraints: zero or small (< 1e-13) coefficients, ignored\n",
      "Warning for adding constraints: zero or small (< 1e-13) coefficients, ignored\n",
      "Warning for adding constraints: zero or small (< 1e-13) coefficients, ignored\n",
      "Warning for adding constraints: zero or small (< 1e-13) coefficients, ignored\n",
      "Warning for adding constraints: zero or small (< 1e-13) coefficients, ignored\n",
      "Warning for adding constraints: zero or small (< 1e-13) coefficients, ignored\n",
      "Warning for adding constraints: zero or small (< 1e-13) coefficients, ignored\n",
      "Warning for adding constraints: zero or small (< 1e-13) coefficients, ignored\n",
      "Warning for adding constraints: zero or small (< 1e-13) coefficients, ignored\n",
      "Warning for adding constraints: zero or small (< 1e-13) coefficients, ignored\n",
      "Warning for adding constraints: zero or small (< 1e-13) coefficients, ignored\n",
      "Warning for adding constraints: zero or small (< 1e-13) coefficients, ignored\n",
      "Warning for adding constraints: zero or small (< 1e-13) coefficients, ignored\n",
      "Warning for adding constraints: zero or small (< 1e-13) coefficients, ignored\n",
      "Warning for adding constraints: zero or small (< 1e-13) coefficients, ignored\n",
      "Warning for adding constraints: zero or small (< 1e-13) coefficients, ignored\n",
      "Warning for adding constraints: zero or small (< 1e-13) coefficients, ignored\n",
      "Warning for adding constraints: zero or small (< 1e-13) coefficients, ignored\n",
      "Warning for adding constraints: zero or small (< 1e-13) coefficients, ignored\n",
      "Warning for adding constraints: zero or small (< 1e-13) coefficients, ignored\n",
      "Warning for adding constraints: zero or small (< 1e-13) coefficients, ignored\n",
      "Warning for adding constraints: zero or small (< 1e-13) coefficients, ignored\n",
      "Warning for adding constraints: zero or small (< 1e-13) coefficients, ignored\n",
      "Warning for adding constraints: zero or small (< 1e-13) coefficients, ignored\n",
      "Warning for adding constraints: zero or small (< 1e-13) coefficients, ignored\n",
      "Warning for adding constraints: zero or small (< 1e-13) coefficients, ignored\n",
      "Warning for adding constraints: zero or small (< 1e-13) coefficients, ignored\n",
      "Warning for adding constraints: zero or small (< 1e-13) coefficients, ignored\n",
      "Warning for adding constraints: zero or small (< 1e-13) coefficients, ignored\n",
      "Warning for adding constraints: zero or small (< 1e-13) coefficients, ignored\n",
      "Warning for adding constraints: zero or small (< 1e-13) coefficients, ignored\n",
      "Warning for adding constraints: zero or small (< 1e-13) coefficients, ignored\n",
      "Warning for adding constraints: zero or small (< 1e-13) coefficients, ignored\n",
      "Warning for adding constraints: zero or small (< 1e-13) coefficients, ignored\n",
      "Warning for adding constraints: zero or small (< 1e-13) coefficients, ignored\n",
      "Warning for adding constraints: zero or small (< 1e-13) coefficients, ignored\n",
      "Warning for adding constraints: zero or small (< 1e-13) coefficients, ignored\n",
      "Warning for adding constraints: zero or small (< 1e-13) coefficients, ignored\n",
      "Warning for adding constraints: zero or small (< 1e-13) coefficients, ignored\n",
      "Warning for adding constraints: zero"
     ]
    },
    {
     "name": "stderr",
     "output_type": "stream",
     "text": [
      "WARNING:drake:Volume calculation did not converge to desired relative accuracy 0.001.The tightest upper bound on relative accuracy achieved: 0.0011908137705738523\n"
     ]
    },
    {
     "name": "stdout",
     "output_type": "stream",
     "text": [
      " or small (< 1e-13) coefficients, ignored\n",
      "Warning for adding constraints: zero or small (< 1e-13) coefficients, ignored\n",
      "Warning for adding constraints: zero or small (< 1e-13) coefficients, ignored\n",
      "Warning for adding constraints: zero or small (< 1e-13) coefficients, ignored\n",
      "Warning for adding constraints: zero or small (< 1e-13) coefficients, ignored\n",
      "Warning for adding constraints: zero or small (< 1e-13) coefficients, ignored\n",
      "Warning for adding constraints: zero or small (< 1e-13) coefficients, ignored\n",
      "Warning for adding constraints: zero or small (< 1e-13) coefficients, ignored\n",
      "Warning for adding constraints: zero or small (< 1e-13) coefficients, ignored\n",
      "Warning for adding constraints: zero or small (< 1e-13) coefficients, ignored\n",
      "Warning for adding constraints: zero or small (< 1e-13) coefficients, ignored\n",
      "Warning for adding constraints: zero or small (< 1e-13) coefficients, ignored\n",
      "Warning for adding constraints: zero or small (< 1e-13) coefficients, ignored\n",
      "Warning for adding constraints: zero or small (< 1e-13) coefficients, ignored\n",
      "Warning for adding constraints: zero or small (< 1e-13) coefficients, ignored\n",
      "Warning for adding constraints: zero or small (< 1e-13) coefficients, ignored\n",
      "Warning for adding constraints: zero or small (< 1e-13) coefficients, ignored\n",
      "Warning for adding constraints: zero or small (< 1e-13) coefficients, ignored\n",
      "Warning for adding constraints: zero or small (< 1e-13) coefficients, ignored\n",
      "Warning for adding constraints: zero or small (< 1e-13) coefficients, ignored\n",
      "Warning for adding constraints: zero or small (< 1e-13) coefficients, ignored\n",
      "Warning for adding constraints: zero or small (< 1e-13) coefficients, ignored\n",
      "Warning for adding constraints: zero or small (< 1e-13) coefficients, ignored\n",
      "Warning for adding constraints: zero or small (< 1e-13) coefficients, ignored\n",
      "Warning for adding constraints: zero or small (< 1e-13) coefficients, ignored\n",
      "Warning for adding constraints: zero or small (< 1e-13) coefficients, ignored\n",
      "Warning for adding constraints: zero or small (< 1e-13) coefficients, ignored\n",
      "Warning for adding constraints: zero or small (< 1e-13) coefficients, ignored\n",
      "Warning for adding constraints: zero or small (< 1e-13) coefficients, ignored\n",
      "Warning for adding constraints: zero or small (< 1e-13) coefficients, ignored\n",
      "Warning for adding constraints: zero or small (< 1e-13) coefficients, ignored\n",
      "Warning for adding constraints: zero or small (< 1e-13) coefficients, ignored\n",
      "Warning for adding constraints: zero or small (< 1e-13) coefficients, ignored\n",
      "Warning for adding constraints: zero or small (< 1e-13) coefficients, ignored\n",
      "Warning for adding constraints: zero or small (< 1e-13) coefficients, ignored\n",
      "Warning for adding constraints: zero or small (< 1e-13) coefficients, ignored\n",
      "Warning for adding constraints: zero or small (< 1e-13) coefficients, ignored\n",
      "Warning for adding constraints: zero or small (< 1e-13) coefficients, ignored\n",
      "Warning for adding constraints: zero or small (< 1e-13) coefficients, ignored\n",
      "Warning for adding constraints: zero or small (< 1e-13) coefficients, ignored\n",
      "Warning for adding constraints: zero or small (< 1e-13) coefficients, ignored\n",
      "Warning for adding constraints: zero or small (< 1e-13) coefficients, ignored\n",
      "Warning for adding constraints: zero or small (< 1e-13) coefficients, ignored\n",
      "Warning for adding constraints: zero or small (< 1e-13) coefficients, ignored\n",
      "Warning for adding constraints: zero or small (< 1e-13) coefficients, ignored\n",
      "Warning for adding constraints: zero or small (< 1e-13) coefficients, ignored\n",
      "Warning for adding constraints: zero or small (< 1e-13) coefficients, ignored\n",
      "Warning for adding constraints: zero or small (< 1e-13) coefficients, ignored\n",
      "Warning for adding constraints: zero or small (< 1e-13) coefficients, ignored\n",
      "Warning for adding constraints: zero or small (< 1e-13) coefficients, ignored\n",
      "Warning for adding constraints: zero or small (< 1e-13) coefficients, ignored\n",
      "Warning for adding constraints: zero or small (< 1e-13) coefficients, ignored\n",
      "Warning for adding constraints: zero or small (< 1e-13) coefficients, ignored\n",
      "Warning for adding constraints: zero or small (< 1e-13) coefficients, ignored\n",
      "Warning for adding constraints: zero or small (< 1e-13) coefficients, ignored\n",
      "Warning for adding constraints: zero or small (< 1e-13) coefficients, ignored\n",
      "Warning for adding constraints: zero or small (< 1e-13) coefficients, ignored\n",
      "Warning for adding constraints: zero or small (< 1e-13) coefficients, ignored\n",
      "Warning for adding constraints: zero or small (< 1e-13) coefficients, ignored\n",
      "Warning for adding constraints: zero or small (< 1e-13) coefficients, ignored\n",
      "Warning for adding constraints: zero or small (< 1e-13) coefficients, ignored\n",
      "Warning for adding constraints: zero or small (< 1e-13) coefficients, ignored\n",
      "Warning for adding constraints: zero or small (< 1e-13) coefficients, ignored\n",
      "Warning for adding constraints: zero or small (< 1e-13) coefficients, ignored\n",
      "Warning for adding constraints: zero or smal"
     ]
    },
    {
     "name": "stderr",
     "output_type": "stream",
     "text": [
      "WARNING:drake:Volume calculation did not converge to desired relative accuracy 0.001.The tightest upper bound on relative accuracy achieved: 0.0011889068447469664\n",
      "WARNING:drake:Volume calculation did not converge to desired relative accuracy 0.001.The tightest upper bound on relative accuracy achieved: 0.0011911719192073396\n"
     ]
    },
    {
     "name": "stdout",
     "output_type": "stream",
     "text": [
      "l (< 1e-13) coefficients, ignored\n",
      "Warning for adding constraints: zero or small (< 1e-13) coefficients, ignored\n",
      "Warning for adding constraints: zero or small (< 1e-13) coefficients, ignored\n",
      "Warning for adding constraints: zero or small (< 1e-13) coefficients, ignored\n",
      "Warning for adding constraints: zero or small (< 1e-13) coefficients, ignored\n",
      "Warning for adding constraints: zero or small (< 1e-13) coefficients, ignored\n",
      "Warning for adding constraints: zero or small (< 1e-13) coefficients, ignored\n",
      "Warning for adding constraints: zero or small (< 1e-13) coefficients, ignored\n",
      "Warning for adding constraints: zero or small (< 1e-13) coefficients, ignored\n",
      "Warning for adding constraints: zero or small (< 1e-13) coefficients, ignored\n",
      "Warning for adding constraints: zero or small (< 1e-13) coefficients, ignored\n",
      "Warning for adding constraints: zero or small (< 1e-13) coefficients, ignored\n",
      "Warning for adding constraints: zero or small (< 1e-13) coefficients, ignored\n",
      "Warning for adding constraints: zero or small (< 1e-13) coefficients, ignored\n",
      "Warning for adding constraints: zero or small (< 1e-13) coefficients, ignored\n",
      "Warning for adding constraints: zero or small (< 1e-13) coefficients, ignored\n",
      "Warning for adding constraints: zero or small (< 1e-13) coefficients, ignored\n",
      "Warning for adding constraints: zero or small (< 1e-13) coefficients, ignored\n",
      "Warning for adding constraints: zero or small (< 1e-13) coefficients, ignored\n",
      "Warning for adding constraints: zero or small (< 1e-13) coefficients, ignored\n",
      "Warning for adding constraints: zero or small (< 1e-13) coefficients, ignored\n",
      "Warning for adding constraints: zero or small (< 1e-13) coefficients, ignored\n",
      "Warning for adding constraints: zero or small (< 1e-13) coefficients, ignored\n",
      "Warning for adding constraints: zero or small (< 1e-13) coefficients, ignored\n",
      "Warning for adding constraints: zero or small (< 1e-13) coefficients, ignored\n",
      "Warning for adding constraints: zero or small (< 1e-13) coefficients, ignored\n",
      "Warning for adding constraints: zero or small (< 1e-13) coefficients, ignored\n"
     ]
    },
    {
     "name": "stderr",
     "output_type": "stream",
     "text": [
      "WARNING:drake:Volume calculation did not converge to desired relative accuracy 0.001.The tightest upper bound on relative accuracy achieved: 0.0011923771273667193\n",
      "WARNING:drake:Volume calculation did not converge to desired relative accuracy 0.001.The tightest upper bound on relative accuracy achieved: 0.0011910739030376286\n",
      "WARNING:drake:Volume calculation did not converge to desired relative accuracy 0.001.The tightest upper bound on relative accuracy achieved: 0.0011912496733779976\n",
      "WARNING:drake:Volume calculation did not converge to desired relative accuracy 0.001.The tightest upper bound on relative accuracy achieved: 0.0011911516380144925\n",
      "WARNING:drake:Volume calculation did not converge to desired relative accuracy 0.001.The tightest upper bound on relative accuracy achieved: 0.0011930626103139668\n",
      "WARNING:drake:Volume calculation did not converge to desired relative accuracy 0.001.The tightest upper bound on relative accuracy achieved: 0.0010276065052702546\n",
      "WARNING:drake:Volume calculation did not converge to desired relative accuracy 0.001.The tightest upper bound on relative accuracy achieved: 0.0010257170974222202\n",
      "WARNING:drake:Volume calculation did not converge to desired relative accuracy 0.001.The tightest upper bound on relative accuracy achieved: 0.001025542319414455\n",
      "WARNING:drake:Volume calculation did not converge to desired relative accuracy 0.001.The tightest upper bound on relative accuracy achieved: 0.0010267005386693797\n",
      "WARNING:drake:Volume calculation did not converge to desired relative accuracy 0.001.The tightest upper bound on relative accuracy achieved: 0.0010267676453313646\n",
      "WARNING:drake:Volume calculation did not converge to desired relative accuracy 0.001.The tightest upper bound on relative accuracy achieved: 0.0010272984677893817\n",
      "WARNING:drake:Volume calculation did not converge to desired relative accuracy 0.001.The tightest upper bound on relative accuracy achieved: 0.0010268369305283566\n",
      "WARNING:drake:Volume calculation did not converge to desired relative accuracy 0.001.The tightest upper bound on relative accuracy achieved: 0.0010254495723243217\n",
      "WARNING:drake:Volume calculation did not converge to desired relative accuracy 0.001.The tightest upper bound on relative accuracy achieved: 0.0010261944157607273\n",
      "WARNING:drake:Volume calculation did not converge to desired relative accuracy 0.001.The tightest upper bound on relative accuracy achieved: 0.0010259006025646195\n"
     ]
    },
    {
     "name": "stdout",
     "output_type": "stream",
     "text": [
      "environment: 6DOFUR3_53f3aaa5f3.pkl\n"
     ]
    }
   ],
   "source": [
    "accuracy = 1e-3\n",
    "for i_environment in range(len(regions)):\n",
    "    print(f\"environment: {environment_names[i_environment]}\")\n",
    "    for i_reg in range(len(regions[i_environment])):\n",
    "        polytope = regions[i_environment][i_reg]\n",
    "        polytope = polytope.ReduceInequalities(tol=0)\n",
    "        sadra_result = polytope.CalcVolumeViaSampling(generator, accuracy, int(1e9))\n",
    "        if sadra_result.rel_accuracy < accuracy:\n",
    "            print(i_reg)"
   ]
  },
  {
   "cell_type": "code",
   "execution_count": 110,
   "metadata": {},
   "outputs": [],
   "source": [
    "i_environment = 2\n",
    "for i_reg in range(len(regions[i_environment])):\n",
    "    sadra_result = polytope.CalcVolumeViaSampling(generator, accuracy, int(1e9))\n",
    "    if sadra_result.rel_accuracy < accuracy:\n",
    "        print(i_environment)\n",
    "        print(i_reg)"
   ]
  },
  {
   "cell_type": "code",
   "execution_count": 111,
   "metadata": {},
   "outputs": [],
   "source": [
    "i_environment = 4\n",
    "for i_reg in range(len(regions[i_environment])):\n",
    "    sadra_result = polytope.CalcVolumeViaSampling(generator, accuracy, int(1e9))\n",
    "    if sadra_result.rel_accuracy < accuracy:\n",
    "        print(i_environment)\n",
    "        print(i_reg)"
   ]
  },
  {
   "cell_type": "code",
   "execution_count": 106,
   "metadata": {},
   "outputs": [
    {
     "data": {
      "text/plain": [
       "3"
      ]
     },
     "execution_count": 106,
     "metadata": {},
     "output_type": "execute_result"
    }
   ],
   "source": [
    "i_environment"
   ]
  },
  {
   "cell_type": "code",
   "execution_count": 103,
   "metadata": {},
   "outputs": [
    {
     "data": {
      "text/plain": [
       "100"
      ]
     },
     "execution_count": 103,
     "metadata": {},
     "output_type": "execute_result"
    }
   ],
   "source": [
    "len(regions[0])"
   ]
  },
  {
   "cell_type": "code",
   "execution_count": 88,
   "metadata": {},
   "outputs": [
    {
     "data": {
      "text/plain": [
       "9843309"
      ]
     },
     "execution_count": 88,
     "metadata": {},
     "output_type": "execute_result"
    }
   ],
   "source": [
    "sadra_result.num_samples"
   ]
  },
  {
   "cell_type": "code",
   "execution_count": 86,
   "metadata": {},
   "outputs": [
    {
     "data": {
      "text/plain": [
       "0.0006499999870000003"
      ]
     },
     "execution_count": 86,
     "metadata": {},
     "output_type": "execute_result"
    }
   ],
   "source": [
    "sadra_result.rel_accuracy"
   ]
  },
  {
   "cell_type": "code",
   "execution_count": 87,
   "metadata": {},
   "outputs": [
    {
     "data": {
      "text/plain": [
       "601705"
      ]
     },
     "execution_count": 87,
     "metadata": {},
     "output_type": "execute_result"
    }
   ],
   "source": [
    "num_hits_before_transform"
   ]
  },
  {
   "cell_type": "code",
   "execution_count": 44,
   "metadata": {},
   "outputs": [
    {
     "ename": "TypeError",
     "evalue": "__init__(): incompatible constructor arguments. The following argument types are supported:\n    1. pydrake.geometry.optimization.HPolyhedron()\n    2. pydrake.geometry.optimization.HPolyhedron(A: numpy.ndarray[numpy.float64[m, n], flags.f_contiguous], b: numpy.ndarray[numpy.float64[m, 1]])\n    3. pydrake.geometry.optimization.HPolyhedron(query_object: pydrake.geometry.QueryObject, geometry_id: pydrake.geometry.GeometryId, reference_frame: Optional[pydrake.geometry.FrameId] = None)\n    4. pydrake.geometry.optimization.HPolyhedron(vpoly: drake::geometry::optimization::VPolytope, tol: float = 1e-09)\n    5. pydrake.geometry.optimization.HPolyhedron(prog: pydrake.solvers.MathematicalProgram)\n\nInvoked with: <pydrake.geometry.optimization.Hyperrectangle object at 0x7e508d547e30>",
     "output_type": "error",
     "traceback": [
      "\u001b[0;31m---------------------------------------------------------------------------\u001b[0m",
      "\u001b[0;31mTypeError\u001b[0m                                 Traceback (most recent call last)",
      "\u001b[0;32m/tmp/ipykernel_627428/3929208497.py\u001b[0m in \u001b[0;36m<module>\u001b[0;34m\u001b[0m\n\u001b[0;32m----> 1\u001b[0;31m \u001b[0mHPolyhedron\u001b[0m\u001b[0;34m(\u001b[0m\u001b[0maabb\u001b[0m\u001b[0;34m)\u001b[0m\u001b[0;34m\u001b[0m\u001b[0;34m\u001b[0m\u001b[0m\n\u001b[0m",
      "\u001b[0;31mTypeError\u001b[0m: __init__(): incompatible constructor arguments. The following argument types are supported:\n    1. pydrake.geometry.optimization.HPolyhedron()\n    2. pydrake.geometry.optimization.HPolyhedron(A: numpy.ndarray[numpy.float64[m, n], flags.f_contiguous], b: numpy.ndarray[numpy.float64[m, 1]])\n    3. pydrake.geometry.optimization.HPolyhedron(query_object: pydrake.geometry.QueryObject, geometry_id: pydrake.geometry.GeometryId, reference_frame: Optional[pydrake.geometry.FrameId] = None)\n    4. pydrake.geometry.optimization.HPolyhedron(vpoly: drake::geometry::optimization::VPolytope, tol: float = 1e-09)\n    5. pydrake.geometry.optimization.HPolyhedron(prog: pydrake.solvers.MathematicalProgram)\n\nInvoked with: <pydrake.geometry.optimization.Hyperrectangle object at 0x7e508d547e30>"
     ]
    }
   ],
   "source": [
    "HPolyhedron(aabb)"
   ]
  },
  {
   "cell_type": "code",
   "execution_count": 46,
   "metadata": {},
   "outputs": [],
   "source": [
    "transformed_polytope = polytope.MaximumVolumeInscribedAffineTransformation(Hyperrectangle.MakeHPolyhedron(aabb))"
   ]
  },
  {
   "cell_type": "code",
   "execution_count": 47,
   "metadata": {},
   "outputs": [
    {
     "name": "stdout",
     "output_type": "stream",
     "text": [
      "relative accuracy before transform: 0.000644949250295239\n"
     ]
    }
   ],
   "source": [
    "num_hits_after_transform = 0\n",
    "for i in range(num_samples):\n",
    "    if transformed_polytope.PointInSet(samples[i]):\n",
    "        num_hits_after_transform += 1\n",
    "relative_accuracy_after_transform = np.sqrt(1/(4 * num_hits_after_transform))\n",
    "print(f\"relative accuracy before transform: {relative_accuracy_after_transform}\")"
   ]
  },
  {
   "cell_type": "code",
   "execution_count": 48,
   "metadata": {},
   "outputs": [
    {
     "data": {
      "text/plain": [
       "array([ 2.12997447e-09, -2.99681369e-09, -4.44907133e-09, -4.21193413e-09,\n",
       "        1.42445478e-09,  2.88576274e-10,  2.17639591e-08, -4.91502772e-09,\n",
       "        2.11121953e-09, -8.51756887e-10, -4.20311941e-09, -4.32380665e-09,\n",
       "        3.41141493e-09, -3.57536822e-09, -5.34984546e-09, -4.13992041e-09,\n",
       "        3.02433134e-09, -6.27781541e-09, -5.24338464e-09, -4.88617835e-09,\n",
       "        1.29881800e-09, -2.17215662e-10, -8.12439946e-09, -4.77820897e-09,\n",
       "        2.97141600e-09, -6.49631740e-09, -5.98792721e-09, -4.94959274e-09,\n",
       "        1.84242788e-09, -5.26247407e-09, -4.72105444e-09, -5.59259947e-09,\n",
       "        4.51890103e-09,  9.68995795e-09,  2.32829467e-09,  3.20818433e-09,\n",
       "        7.29570293e-09,  1.01118288e-08])"
      ]
     },
     "execution_count": 48,
     "metadata": {},
     "output_type": "execute_result"
    }
   ],
   "source": [
    "transformed_polytope.b() - polytope.b()"
   ]
  },
  {
   "cell_type": "code",
   "execution_count": 51,
   "metadata": {},
   "outputs": [
    {
     "name": "stdout",
     "output_type": "stream",
     "text": [
      "Warning for adding constraints: zero or small (< 1e-13) coefficients, ignored\n"
     ]
    },
    {
     "data": {
      "text/plain": [
       "True"
      ]
     },
     "execution_count": 51,
     "metadata": {},
     "output_type": "execute_result"
    },
    {
     "name": "stdout",
     "output_type": "stream",
     "text": [
      "Warning for adding constraints: zero or small (< 1e-13) coefficients, ignored\n",
      "Warning for adding constraints: zero or small (< 1e-13) coefficients, ignored\n",
      "Warning for adding constraints: zero or small (< 1e-13) coefficients, ignored\n",
      "Warning for adding constraints: zero or small (< 1e-13) coefficients, ignored\n",
      "Warning for adding constraints: zero or small (< 1e-13) coefficients, ignored\n",
      "Warning for adding constraints: zero or small (< 1e-13) coefficients, ignored\n",
      "Warning for adding constraints: zero or small (< 1e-13) coefficients, ignored\n",
      "Warning for adding constraints: zero or small (< 1e-13) coefficients, ignored\n",
      "Warning for adding constraints: zero or small (< 1e-13) coefficients, ignored\n",
      "Warning for adding constraints: zero or small (< 1e-13) coefficients, ignored\n",
      "Warning for adding constraints: zero or small (< 1e-13) coefficients, ignored\n",
      "Warning for adding constraints: zero or small (< 1e-13) coefficients, ignored\n",
      "Warning for adding constraints: zero or small (< 1e-13) coefficients, ignored\n",
      "Warning for adding constraints: zero or small (< 1e-13) coefficients, ignored\n",
      "Warning for adding constraints: zero or small (< 1e-13) coefficients, ignored\n",
      "Warning for adding constraints: zero or small (< 1e-13) coefficients, ignored\n",
      "Warning for adding constraints: zero or small (< 1e-13) coefficients, ignored\n",
      "Warning for adding constraints: zero or small (< 1e-13) coefficients, ignored\n",
      "Warning for adding constraints: zero or small (< 1e-13) coefficients, ignored\n",
      "Warning for adding constraints: zero or small (< 1e-13) coefficients, ignored\n",
      "Warning for adding constraints: zero or small (< 1e-13) coefficients, ignored\n",
      "Warning for adding constraints: zero or small (< 1e-13) coefficients, ignored\n",
      "Warning for adding constraints: zero or small (< 1e-13) coefficients, ignored\n",
      "Warning for adding constraints: zero or small (< 1e-13) coefficients, ignored\n",
      "Warning for adding constraints: zero or small (< 1e-13) coefficients, ignored\n",
      "Warning for adding constraints: zero or small (< 1e-13) coefficients, ignored\n",
      "Warning for adding constraints: zero or small (< 1e-13) coefficients, ignored\n",
      "Warning for adding constraints: zero or small (< 1e-13) coefficients, ignored\n",
      "Warning for adding constraints: zero or small (< 1e-13) coefficients, ignored\n",
      "Warning for adding constraints: zero or small (< 1e-13) coefficients, ignored\n",
      "Warning for adding constraints: zero or small (< 1e-13) coefficients, ignored\n",
      "Warning for adding constraints: zero or small (< 1e-13) coefficients, ignored\n",
      "Warning for adding constraints: zero or small (< 1e-13) coefficients, ignored\n",
      "Warning for adding constraints: zero or small (< 1e-13) coefficients, ignored\n",
      "Warning for adding constraints: zero or small (< 1e-13) coefficients, ignored\n",
      "Warning for adding constraints: zero or small (< 1e-13) coefficients, ignored\n",
      "Warning for adding constraints: zero or small (< 1e-13) coefficients, ignored\n",
      "Warning for adding constraints: zero or small (< 1e-13) coefficients, ignored\n"
     ]
    }
   ],
   "source": [
    "transformed_polytope.ContainedIn(polytope, tol = 1e-6)"
   ]
  },
  {
   "cell_type": "code",
   "execution_count": 52,
   "metadata": {},
   "outputs": [
    {
     "data": {
      "text/plain": [
       "True"
      ]
     },
     "execution_count": 52,
     "metadata": {},
     "output_type": "execute_result"
    },
    {
     "name": "stdout",
     "output_type": "stream",
     "text": [
      "Warning for adding constraints: zero or small (< 1e-13) coefficients, ignored\n",
      "Warning for adding constraints: zero or small (< 1e-13) coefficients, ignored\n",
      "Warning for adding constraints: zero or small (< 1e-13) coefficients, ignored\n",
      "Warning for adding constraints: zero or small (< 1e-13) coefficients, ignored\n",
      "Warning for adding constraints: zero or small (< 1e-13) coefficients, ignored\n",
      "Warning for adding constraints: zero or small (< 1e-13) coefficients, ignored\n",
      "Warning for adding constraints: zero or small (< 1e-13) coefficients, ignored\n",
      "Warning for adding constraints: zero or small (< 1e-13) coefficients, ignored\n",
      "Warning for adding constraints: zero or small (< 1e-13) coefficients, ignored\n",
      "Warning for adding constraints: zero or small (< 1e-13) coefficients, ignored\n"
     ]
    }
   ],
   "source": [
    "polytope.ContainedIn(transformed_polytope, tol = 1e-6)"
   ]
  },
  {
   "cell_type": "code",
   "execution_count": 57,
   "metadata": {},
   "outputs": [],
   "source": [
    "lb = -np.ones(16)\n",
    "ub = np.ones(16)\n",
    "box = HPolyhedron.MakeBox(lb, ub)\n",
    "transformed_polytope = polytope.MaximumVolumeInscribedAffineTransformation(box)"
   ]
  },
  {
   "cell_type": "code",
   "execution_count": 60,
   "metadata": {},
   "outputs": [
    {
     "data": {
      "text/plain": [
       "array([1., 1., 1., 1., 1., 1., 1., 1., 1., 1., 1., 1., 1., 1., 1., 1.])"
      ]
     },
     "execution_count": 60,
     "metadata": {},
     "output_type": "execute_result"
    }
   ],
   "source": [
    "ub"
   ]
  },
  {
   "cell_type": "code",
   "execution_count": 61,
   "metadata": {},
   "outputs": [],
   "source": [
    "samples = np.random.rand(num_samples, len(lb))\n",
    "samples = lb + samples * (ub - lb)"
   ]
  },
  {
   "cell_type": "code",
   "execution_count": 62,
   "metadata": {},
   "outputs": [
    {
     "name": "stdout",
     "output_type": "stream",
     "text": [
      "relative accuracy before transform: 0.0006456877303521353\n"
     ]
    }
   ],
   "source": [
    "num_hits_after_transform = 0\n",
    "for i in range(num_samples):\n",
    "    if transformed_polytope.PointInSet(samples[i]):\n",
    "        num_hits_after_transform += 1\n",
    "relative_accuracy_after_transform = np.sqrt(1/(4 * num_hits_after_transform))\n",
    "print(f\"relative accuracy before transform: {relative_accuracy_after_transform}\")"
   ]
  },
  {
   "cell_type": "code",
   "execution_count": null,
   "metadata": {},
   "outputs": [],
   "source": []
  }
 ],
 "metadata": {
  "kernelspec": {
   "display_name": "Python 3",
   "language": "python",
   "name": "python3"
  },
  "language_info": {
   "codemirror_mode": {
    "name": "ipython",
    "version": 3
   },
   "file_extension": ".py",
   "mimetype": "text/x-python",
   "name": "python",
   "nbconvert_exporter": "python",
   "pygments_lexer": "ipython3",
   "version": "3.10.12"
  }
 },
 "nbformat": 4,
 "nbformat_minor": 2
}
