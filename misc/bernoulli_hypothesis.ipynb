{
 "cells": [
  {
   "cell_type": "code",
   "execution_count": 7,
   "metadata": {},
   "outputs": [
    {
     "data": {
      "text/plain": [
       "0.9086629678497526"
      ]
     },
     "execution_count": 7,
     "metadata": {},
     "output_type": "execute_result"
    }
   ],
   "source": [
    "from scipy.stats import norm\n",
    "import numpy as np\n",
    "\n",
    "N = 1000\n",
    "P0 = 0.95\n",
    "alpha_z = 1e-9\n",
    "mu = N*P0\n",
    "sigma= np.sqrt(N*P0*(1-P0))\n",
    "    \n",
    "norm.ppf(alpha_z, loc = mu, scale= sigma)/N"
   ]
  },
  {
   "cell_type": "code",
   "execution_count": null,
   "metadata": {},
   "outputs": [],
   "source": []
  },
  {
   "cell_type": "code",
   "execution_count": 40,
   "metadata": {},
   "outputs": [
    {
     "data": {
      "text/plain": [
       "9923.146869090104"
      ]
     },
     "execution_count": 40,
     "metadata": {},
     "output_type": "execute_result"
    }
   ],
   "source": [
    "from scipy.stats import norm\n",
    "import numpy as np\n",
    "\n",
    "N = 10000\n",
    "collision_free = 0.99\n",
    "confidence = 0.99\n",
    "sigma = np.sqrt(N*collision_free*(1-collision_free))\n",
    "norm.ppf(confidence, loc = N*collision_free, scale= sigma)\n"
   ]
  },
  {
   "cell_type": "code",
   "execution_count": 43,
   "metadata": {},
   "outputs": [
    {
     "data": {
      "text/plain": [
       "100.0"
      ]
     },
     "execution_count": 43,
     "metadata": {},
     "output_type": "execute_result"
    }
   ],
   "source": [
    "from scipy.stats import norm\n",
    "import numpy as np\n",
    "\n",
    "N = 100\n",
    "collision_free = 0.99\n",
    "confidence = 0.99\n",
    "sigma = np.sqrt(N*collision_free*(1-collision_free))\n",
    "res = norm.ppf(confidence, loc = N*collision_free, scale= sigma)\n",
    "np.min([N, res])"
   ]
  },
  {
   "cell_type": "code",
   "execution_count": 10,
   "metadata": {},
   "outputs": [
    {
     "name": "stdout",
     "output_type": "stream",
     "text": [
      "N 100 confidence 0.50 collision_free 0.99 #colfree particles 99\n",
      "N 500 confidence 0.50 collision_free 0.99 #colfree particles 495\n",
      "N 1000 confidence 0.50 collision_free 0.99 #colfree particles 990\n",
      " Warning max achieveable confidence ~0.843\n",
      "N 100 confidence 0.80 collision_free 0.99 #colfree particles 100\n",
      "N 500 confidence 0.80 collision_free 0.99 #colfree particles 497\n",
      "N 1000 confidence 0.80 collision_free 0.99 #colfree particles 993\n",
      " Warning max achieveable confidence ~0.843\n",
      "N 100 confidence 0.95 collision_free 0.99 #colfree particles 100\n",
      "N 500 confidence 0.95 collision_free 0.99 #colfree particles 499\n",
      "N 1000 confidence 0.95 collision_free 0.99 #colfree particles 995\n",
      " Warning max achieveable confidence ~0.843\n",
      "N 100 confidence 0.99 collision_free 0.99 #colfree particles 100\n",
      " Warning max achieveable confidence ~0.988\n",
      "N 500 confidence 0.99 collision_free 0.99 #colfree particles 500\n",
      "N 1000 confidence 0.99 collision_free 0.99 #colfree particles 997\n"
     ]
    }
   ],
   "source": [
    "from scipy.stats import norm, binom\n",
    "import numpy as np\n",
    "\n",
    "for confidence in [ 0.5, 0.8, 0.95, 0.99]:\n",
    "    for N in [100, 500, 1000]:\n",
    "\n",
    "        collision_free = 0.99\n",
    "        sigma = np.sqrt(N*collision_free*(1-collision_free))\n",
    "        res = int(norm.ppf(confidence, loc = N*collision_free, scale= sigma)+0.5)\n",
    "        intres = np.min([res, N])\n",
    "        max_achieveable_confidence = norm.cdf(N, loc = N*collision_free, scale= sigma)\n",
    "        if intres ==N:\n",
    "            print(f\" Warning max achieveable confidence ~{max_achieveable_confidence:.3f}\")\n",
    "        print(f\"N {N} confidence {confidence:.2f} collision_free {collision_free:.2f} #colfree particles {intres}\")"
   ]
  },
  {
   "cell_type": "code",
   "execution_count": 6,
   "metadata": {},
   "outputs": [
    {
     "ename": "NameError",
     "evalue": "name 'mean' is not defined",
     "output_type": "error",
     "traceback": [
      "\u001b[0;31m---------------------------------------------------------------------------\u001b[0m",
      "\u001b[0;31mNameError\u001b[0m                                 Traceback (most recent call last)",
      "\u001b[0;32m/tmp/ipykernel_2092881/3457075795.py\u001b[0m in \u001b[0;36m<module>\u001b[0;34m\u001b[0m\n\u001b[0;32m----> 1\u001b[0;31m \u001b[0mbinom\u001b[0m\u001b[0;34m.\u001b[0m\u001b[0mcdf\u001b[0m\u001b[0;34m(\u001b[0m\u001b[0mN\u001b[0m\u001b[0;34m,\u001b[0m \u001b[0mmean\u001b[0m\u001b[0;34m)\u001b[0m\u001b[0;34m\u001b[0m\u001b[0;34m\u001b[0m\u001b[0m\n\u001b[0m",
      "\u001b[0;31mNameError\u001b[0m: name 'mean' is not defined"
     ]
    }
   ],
   "source": []
  },
  {
   "cell_type": "code",
   "execution_count": 44,
   "metadata": {},
   "outputs": [
    {
     "data": {
      "text/plain": [
       "0.9949874371066204"
      ]
     },
     "execution_count": 44,
     "metadata": {},
     "output_type": "execute_result"
    }
   ],
   "source": [
    "sigma"
   ]
  },
  {
   "cell_type": "code",
   "execution_count": 7,
   "metadata": {},
   "outputs": [
    {
     "data": {
      "text/plain": [
       "1.2815515655446004"
      ]
     },
     "execution_count": 7,
     "metadata": {},
     "output_type": "execute_result"
    }
   ],
   "source": [
    "norm.ppf(0.9, loc = 0, scale= 1)"
   ]
  },
  {
   "cell_type": "code",
   "execution_count": 26,
   "metadata": {},
   "outputs": [
    {
     "data": {
      "text/plain": [
       "0.17914345462129164"
      ]
     },
     "execution_count": 26,
     "metadata": {},
     "output_type": "execute_result"
    }
   ],
   "source": [
    "erfcinv(0.8)"
   ]
  },
  {
   "cell_type": "code",
   "execution_count": 1,
   "metadata": {},
   "outputs": [],
   "source": [
    "from pydrake.all import IrisOptions"
   ]
  },
  {
   "cell_type": "code",
   "execution_count": 3,
   "metadata": {},
   "outputs": [
    {
     "name": "stdout",
     "output_type": "stream",
     "text": [
      "IrisOptions(require_sample_point_is_contained=False, iteration_limit=100, termination_threshold=0.02, relative_termination_threshold=0.001, configuration_space_margin=0.01, num_collision_infeasible_samples=5, configuration_obstacles [], prog_with_additional_constraints is not set, num_additional_constraint_infeasible_samples=5, random_seed=1234)\n"
     ]
    }
   ],
   "source": [
    "io = IrisOptions()\n",
    "print(io)"
   ]
  },
  {
   "cell_type": "code",
   "execution_count": 12,
   "metadata": {},
   "outputs": [],
   "source": [
    "from iris_environments.environments import env_names\n",
    "import yaml\n",
    "default = {\n",
    "    'require_sample_point_is_contained': True,\n",
    "    'iteration_limit': 100,\n",
    "    'termination_threshold': 0.02,\n",
    "    'relative_termination_threshold': 0.001,\n",
    "    'configuration_space_margin': 0.01,\n",
    "    'num_collision_infeasible_samples': 5,\n",
    "    'num_additional_constraint_infeasible_samples': 5,\n",
    "    'random_seed': 1234\n",
    "}\n",
    "\n",
    "for e in env_names:\n",
    "    with open(f\"../benchmarks/default_options/{e}_12312354.yml\", \"w\") as f:\n",
    "        yaml.dump(default, f)"
   ]
  },
  {
   "cell_type": "code",
   "execution_count": 10,
   "metadata": {},
   "outputs": [],
   "source": [
    "options = IrisOptions()\n",
    "\n"
   ]
  }
 ],
 "metadata": {
  "kernelspec": {
   "display_name": "Python 3",
   "language": "python",
   "name": "python3"
  },
  "language_info": {
   "codemirror_mode": {
    "name": "ipython",
    "version": 3
   },
   "file_extension": ".py",
   "mimetype": "text/x-python",
   "name": "python",
   "nbconvert_exporter": "python",
   "pygments_lexer": "ipython3",
   "version": "3.10.12"
  }
 },
 "nbformat": 4,
 "nbformat_minor": 2
}
