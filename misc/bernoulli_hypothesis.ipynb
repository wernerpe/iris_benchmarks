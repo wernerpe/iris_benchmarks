{
 "cells": [
  {
   "cell_type": "code",
   "execution_count": 7,
   "metadata": {},
   "outputs": [
    {
     "data": {
      "text/plain": [
       "0.9086629678497526"
      ]
     },
     "execution_count": 7,
     "metadata": {},
     "output_type": "execute_result"
    }
   ],
   "source": [
    "from scipy.stats import norm\n",
    "import numpy as np\n",
    "\n",
    "N = 1000\n",
    "P0 = 0.95\n",
    "alpha_z = 1e-9\n",
    "mu = N*P0\n",
    "sigma= np.sqrt(N*P0*(1-P0))\n",
    "    \n",
    "norm.ppf(alpha_z, loc = mu, scale= sigma)/N"
   ]
  },
  {
   "cell_type": "code",
   "execution_count": 1,
   "metadata": {},
   "outputs": [],
   "source": [
    "from pydrake.all import IrisOptions"
   ]
  },
  {
   "cell_type": "code",
   "execution_count": 3,
   "metadata": {},
   "outputs": [
    {
     "name": "stdout",
     "output_type": "stream",
     "text": [
      "IrisOptions(require_sample_point_is_contained=False, iteration_limit=100, termination_threshold=0.02, relative_termination_threshold=0.001, configuration_space_margin=0.01, num_collision_infeasible_samples=5, configuration_obstacles [], prog_with_additional_constraints is not set, num_additional_constraint_infeasible_samples=5, random_seed=1234)\n"
     ]
    }
   ],
   "source": [
    "io = IrisOptions()\n",
    "print(io)"
   ]
  },
  {
   "cell_type": "code",
   "execution_count": 8,
   "metadata": {},
   "outputs": [],
   "source": [
    "from iris_environments.environments import env_names\n",
    "import yaml\n",
    "default = {\n",
    "    'require_sample_point_is_contained': True,\n",
    "    'iteration_limit': 100,\n",
    "    'termination_threshold': 0.02,\n",
    "    'relative_termination_threshold': 0.001,\n",
    "    'configuration_space_margin': 0.01,\n",
    "    'num_collision_infeasible_samples': 5,\n",
    "    'num_additional_constraint_infeasible_samples': 5,\n",
    "    'random_seed': 1234\n",
    "}\n",
    "\n",
    "for e in env_names:\n",
    "    with open(f\"../benchmarks/default_options/{e}.yml\", \"w\") as f:\n",
    "        yaml.dump(default, f)"
   ]
  },
  {
   "cell_type": "code",
   "execution_count": 10,
   "metadata": {},
   "outputs": [],
   "source": [
    "options = IrisOptions()\n",
    "\n"
   ]
  }
 ],
 "metadata": {
  "kernelspec": {
   "display_name": "Python 3",
   "language": "python",
   "name": "python3"
  },
  "language_info": {
   "codemirror_mode": {
    "name": "ipython",
    "version": 3
   },
   "file_extension": ".py",
   "mimetype": "text/x-python",
   "name": "python",
   "nbconvert_exporter": "python",
   "pygments_lexer": "ipython3",
   "version": "3.8.10"
  }
 },
 "nbformat": 4,
 "nbformat_minor": 2
}
