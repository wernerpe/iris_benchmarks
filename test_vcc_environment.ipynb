{
 "cells": [
  {
   "cell_type": "code",
   "execution_count": 1,
   "metadata": {},
   "outputs": [],
   "source": [
    "%load_ext autoreload\n",
    "# Enable autoreload for all modules\n",
    "%autoreload 2"
   ]
  },
  {
   "cell_type": "code",
   "execution_count": 2,
   "metadata": {},
   "outputs": [],
   "source": [
    "from iris_environments.environments import get_environment_builder, get_robot_instance_names\n",
    "from cspace_utils.graphs import compute_greedy_clique_partition\n",
    "from cspace_utils.plotting import (plot_cliques, \n",
    "                                   plot_visibility_graph, \n",
    "                                   plot_edges, \n",
    "                                   plot_points,\n",
    "                                   plot_2d_ellipse_meshcat,\n",
    "                                   plot_vpoly_2d_meshcat)\n",
    "from cspace_utils.environment_helpers import get_col_func, get_coverage_estimator, get_sample_cfree_handle, vgraph\n",
    "import numpy as np\n",
    "import ipywidgets as widgets\n",
    "from functools import partial\n",
    "from pydrake.all import (RigidTransform, Rgba, Sphere, RotationMatrix, SceneGraphCollisionChecker)"
   ]
  },
  {
   "cell_type": "code",
   "execution_count": 3,
   "metadata": {},
   "outputs": [
    {
     "name": "stderr",
     "output_type": "stream",
     "text": [
      "INFO:drake:Meshcat listening for connections at http://localhost:7000\n",
      "INFO:drake:Allocating contexts to support implicit context parallelism 20\n"
     ]
    },
    {
     "name": "stdout",
     "output_type": "stream",
     "text": [
      "http://localhost:7000\n"
     ]
    }
   ],
   "source": [
    "from iris_environments.environments import env_names\n",
    "currname = '2DOFBLOCKS'\n",
    "plant_builder = get_environment_builder(currname)\n",
    "plant, scene_graph, diagram, diagram_context, plant_context, meshcat = plant_builder(usemeshcat=True)\n",
    "\n",
    "scene_graph_context = scene_graph.GetMyMutableContextFromRoot(\n",
    "    diagram_context)\n",
    "\n",
    "rob_names = get_robot_instance_names(currname)\n",
    "robot_instances = [plant.GetModelInstanceByName(n) for n in rob_names]\n",
    "checker = SceneGraphCollisionChecker(model = diagram, \n",
    "                    robot_model_instances = robot_instances,\n",
    "                    #configuration_distance_function = _configuration_distance,\n",
    "                    edge_step_size = 0.125)"
   ]
  },
  {
   "cell_type": "code",
   "execution_count": 4,
   "metadata": {},
   "outputs": [],
   "source": [
    "col_hand=get_col_func(plant, plant_context, use_ik=False)\n",
    "sample_cfree = get_sample_cfree_handle(plant.GetPositionLowerLimits(), \n",
    "                        plant.GetPositionUpperLimits(),\n",
    "                        col_hand)"
   ]
  },
  {
   "cell_type": "code",
   "execution_count": 5,
   "metadata": {},
   "outputs": [],
   "source": [
    "#pts,_ = sample_cfree(50, 1000,[])\n",
    "xw = 0.2\n",
    "yw = 0.2\n",
    "z = 0\n",
    "\n",
    "samples = []\n",
    "for _ in range(10):\n",
    "    s = np.array([xw, yw])*2*(np.random.rand(2)-0.5)\n",
    "    samples.append(s)\n",
    "\n",
    "samples.append([-0.4, 0.29])\n",
    "samples.append([-0.4, -0.29])\n",
    "samples.append([0.4, 0.29])\n",
    "samples.append([0.4, -0.29])\n",
    "pts = np.array(samples)\n",
    "plot_points(meshcat, pts, 'vgraph/points', size=0.02)\n",
    "ad_mat = vgraph(pts, checker=checker, parallelize=True)"
   ]
  },
  {
   "cell_type": "code",
   "execution_count": 6,
   "metadata": {},
   "outputs": [
    {
     "name": "stdout",
     "output_type": "stream",
     "text": [
      "Set parameter Username\n",
      "Academic license - for non-commercial use only - expires 2024-06-11\n"
     ]
    }
   ],
   "source": [
    "from pydrake.all import Hyperellipsoid, VPolytope\n",
    "\n",
    "cliques = compute_greedy_clique_partition(ad_mat.toarray(), min_cliuqe_size=10)\n",
    "colors = [Rgba(0,0.1,0,1)]\n",
    "plot_cliques(meshcat, cliques, pts, 'cliques', downsampling=5, size = 0.001, colors= colors)\n",
    "\n",
    "clique_pts = [pts[c] for c in cliques]\n",
    "ellipsoids = [Hyperellipsoid.MinimumVolumeCircumscribedEllipsoid(p.T) for p in clique_pts if len(p)>4]\n",
    "for i, e in enumerate(ellipsoids):\n",
    "    plot_2d_ellipse_meshcat(meshcat, e, f\"cliques/ellipsoids/e_{i}\", size =0.002)\n",
    "  \n",
    "\n",
    "vpolys = [VPolytope(c.T).GetMinimalRepresentation() for c in clique_pts]\n",
    "for i, v in enumerate(vpolys):\n",
    "    plot_vpoly_2d_meshcat(meshcat, v, f\"cliques/vpolys/v_{i}\", size =0.005, color= Rgba(0,0.3,0.8, 1))"
   ]
  },
  {
   "cell_type": "code",
   "execution_count": 7,
   "metadata": {},
   "outputs": [
    {
     "name": "stderr",
     "output_type": "stream",
     "text": [
      "INFO:drake:FastIris requires 399/400 particles to be collision free \n",
      "INFO:drake:FastIris iteration 0\n",
      "INFO:drake:SeparatingPlanes iteration: 1 faces: 8\n"
     ]
    },
    {
     "name": "stderr",
     "output_type": "stream",
     "text": [
      "INFO:drake:FastIris iter 1, iter limit 1\n",
      "INFO:drake:Fast Iris execution time : 52 ms\n"
     ]
    }
   ],
   "source": [
    "from pydrake.all import FastIris, FastIrisOptions, HPolyhedron\n",
    "meshcat.Delete(\"/drake/iris\")\n",
    "\n",
    "fio = FastIrisOptions()\n",
    "fio.num_particles = 400\n",
    "fio.target_uncertainty = 0.1\n",
    "fio.admissible_proportion_in_collision = 0.01\n",
    "fio.max_iterations = 1\n",
    "for i, e in enumerate(ellipsoids):\n",
    "    region = FastIris(checker, e,HPolyhedron.MakeBox([-3,-3], [3,3]), fio)\n",
    "    region_vpoly = VPolytope(region)\n",
    "    plot_vpoly_2d_meshcat(meshcat, region_vpoly, f\"iris/vpolys/v_{i}\", size =0.01, color= Rgba(0.7,0.0,0.7, 1))\n"
   ]
  },
  {
   "cell_type": "code",
   "execution_count": 8,
   "metadata": {},
   "outputs": [
    {
     "name": "stderr",
     "output_type": "stream",
     "text": [
      "INFO:drake:FastIris requires 399/400 particles to be collision free \n",
      "INFO:drake:FastIris iteration 0\n"
     ]
    },
    {
     "name": "stderr",
     "output_type": "stream",
     "text": [
      "INFO:drake:FastIris Warning relaxing cspace margin by 0.008054168709700438 to ensure point containment\n",
      "INFO:drake:SeparatingPlanes iteration: 1 faces: 6\n",
      "INFO:drake:FastIris iter 1, iter limit 1\n",
      "INFO:drake:Fast Iris execution time : 65 ms\n"
     ]
    }
   ],
   "source": [
    "fio = FastIrisOptions()\n",
    "fio.num_particles = 400\n",
    "fio.target_uncertainty = 0.1\n",
    "fio.admissible_proportion_in_collision = 0.01\n",
    "fio.max_iterations = 1\n",
    "\n",
    "for i, e in enumerate(ellipsoids):\n",
    "    fio.containment_points = clique_pts[i].T\n",
    "    fio.force_containment_points = True\n",
    "    region = FastIris(checker, e,HPolyhedron.MakeBox(plant.GetPositionLowerLimits(), plant.GetPositionUpperLimits()), fio)\n",
    "    region_vpoly = VPolytope(region)\n",
    "    plot_vpoly_2d_meshcat(meshcat, region_vpoly, f\"iris/vpolys_col_free/v_{i}\", size =0.01, color= Rgba(0.0,0.4,0.0, 1))"
   ]
  },
  {
   "cell_type": "code",
   "execution_count": 11,
   "metadata": {},
   "outputs": [],
   "source": [
    "vp = vpolys[0]"
   ]
  },
  {
   "cell_type": "code",
   "execution_count": null,
   "metadata": {},
   "outputs": [],
   "source": [
    "vp."
   ]
  },
  {
   "cell_type": "code",
   "execution_count": 5,
   "metadata": {},
   "outputs": [
    {
     "ename": "FileNotFoundError",
     "evalue": "[Errno 2] No such file or directory: 'benchmarks/visibility_graphs/2DOFBLOCKS_pts.yml'",
     "output_type": "error",
     "traceback": [
      "\u001b[0;31m---------------------------------------------------------------------------\u001b[0m",
      "\u001b[0;31mFileNotFoundError\u001b[0m                         Traceback (most recent call last)",
      "\u001b[0;32m/tmp/ipykernel_291030/3915347524.py\u001b[0m in \u001b[0;36m<module>\u001b[0;34m\u001b[0m\n\u001b[1;32m      5\u001b[0m     \u001b[0mfile\u001b[0m \u001b[0;34m=\u001b[0m \u001b[0mopen\u001b[0m\u001b[0;34m(\u001b[0m\u001b[0mpoint_file\u001b[0m\u001b[0;34m,\u001b[0m \u001b[0;34m'a'\u001b[0m\u001b[0;34m)\u001b[0m\u001b[0;34m\u001b[0m\u001b[0;34m\u001b[0m\u001b[0m\n\u001b[1;32m      6\u001b[0m \u001b[0;32melse\u001b[0m\u001b[0;34m:\u001b[0m\u001b[0;34m\u001b[0m\u001b[0;34m\u001b[0m\u001b[0m\n\u001b[0;32m----> 7\u001b[0;31m     \u001b[0mfile\u001b[0m \u001b[0;34m=\u001b[0m \u001b[0mopen\u001b[0m\u001b[0;34m(\u001b[0m\u001b[0mpoint_file\u001b[0m\u001b[0;34m,\u001b[0m \u001b[0;34m'w'\u001b[0m\u001b[0;34m)\u001b[0m\u001b[0;34m\u001b[0m\u001b[0;34m\u001b[0m\u001b[0m\n\u001b[0m\u001b[1;32m      8\u001b[0m     \u001b[0mfile\u001b[0m\u001b[0;34m.\u001b[0m\u001b[0mwrite\u001b[0m\u001b[0;34m(\u001b[0m\u001b[0;34m'points:\\n'\u001b[0m\u001b[0;34m)\u001b[0m\u001b[0;34m\u001b[0m\u001b[0;34m\u001b[0m\u001b[0m\n",
      "\u001b[0;31mFileNotFoundError\u001b[0m: [Errno 2] No such file or directory: 'benchmarks/visibility_graphs/2DOFBLOCKS_pts.yml'"
     ]
    }
   ],
   "source": [
    "#make configuration file \n",
    "# import os\n",
    "# point_file = 'benchmarks/visibility_graphs/'+currname+'_pts.yml'\n",
    "# if point_file.split('/')[2] in os.listdir('benchmarks/seedpoints'):\n",
    "#     file = open(point_file, 'a') \n",
    "# else:\n",
    "#     file = open(point_file, 'w')\n",
    "#     file.write('points:\\n')"
   ]
  },
  {
   "cell_type": "code",
   "execution_count": null,
   "metadata": {},
   "outputs": [],
   "source": [
    "q = np.zeros(plant.num_positions()) \n",
    "sliders = []\n",
    "for i in range(plant.num_positions()):\n",
    "    q_low = plant.GetPositionLowerLimits()[i]*0.99\n",
    "    q_high = plant.GetPositionUpperLimits()[i]*0.99\n",
    "    sliders.append(widgets.FloatSlider(min=q_low, max=q_high, value=0, step=0.001, description=f\"q{i}\"))\n",
    "\n",
    "col_col =  Rgba(0.8, 0.0, 0, 0.5)    \n",
    "col_free =  Rgba(0.0, 0.8, 0.5, 0.5) \n",
    "def showres(qvis):\n",
    "    plant.SetPositions(plant_context, qvis)\n",
    "    diagram.ForcedPublish(diagram_context)\n",
    "    query = plant.get_geometry_query_input_port().Eval(plant_context)\n",
    "    col = query.HasCollisions()\n",
    "    if col:\n",
    "        meshcat.SetObject(f\"/drake/visualizer/shunk\",\n",
    "                                   Sphere(0.2),\n",
    "                                   col_col)\n",
    "    else:\n",
    "        meshcat.SetObject(f\"/drake/visualizer/shunk\",\n",
    "                                   Sphere(0.2),\n",
    "                                   col_free)\n",
    "    meshcat.SetTransform(f\"/drake/visualizer/shunk\",\n",
    "                                   RigidTransform(RotationMatrix(),\n",
    "                                                  np.array([0,0,2])))\n",
    "    return col\n",
    "\n",
    "def handle_slider_change(change, idx):\n",
    "    q[idx] = change['new']\n",
    "    showres(q)\n",
    "idx = 0\n",
    "for slider in sliders:\n",
    "    slider.observe(partial(handle_slider_change, idx = idx), names='value')\n",
    "    idx+=1\n",
    "\n",
    "for slider in sliders:\n",
    "    display(slider)\n",
    "\n",
    "def write_seed_point_to_file(button):\n",
    "    col = showres(q)\n",
    "    if not col:\n",
    "        line  = '- ['\n",
    "        for a in q[:-1]:\n",
    "            line+= str(a)+', '\n",
    "        line+= str(q[-1])+']\\n'\n",
    "        file.write(line)\n",
    "        file.flush()\n",
    "        #write seedpoint to file\n",
    "    else:\n",
    "        raise ValueError(\"That point is in collision\")\n",
    "\n",
    "button = widgets.Button(description=\"Save\")\n",
    "\n",
    "# Attach the function to the button's click event\n",
    "button.on_click(write_seed_point_to_file)\n",
    "\n",
    "# Display the button\n",
    "display(button)"
   ]
  },
  {
   "cell_type": "code",
   "execution_count": null,
   "metadata": {},
   "outputs": [],
   "source": []
  }
 ],
 "metadata": {
  "kernelspec": {
   "display_name": "Python 3",
   "language": "python",
   "name": "python3"
  },
  "language_info": {
   "codemirror_mode": {
    "name": "ipython",
    "version": 3
   },
   "file_extension": ".py",
   "mimetype": "text/x-python",
   "name": "python",
   "nbconvert_exporter": "python",
   "pygments_lexer": "ipython3",
   "version": "3.10.12"
  }
 },
 "nbformat": 4,
 "nbformat_minor": 2
}
