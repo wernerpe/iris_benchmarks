{
 "cells": [
  {
   "cell_type": "code",
   "execution_count": 1,
   "metadata": {},
   "outputs": [],
   "source": [
    "%load_ext autoreload\n",
    "# Enable autoreload for all modules\n",
    "%autoreload 2"
   ]
  },
  {
   "cell_type": "code",
   "execution_count": 2,
   "metadata": {},
   "outputs": [],
   "source": [
    "from iris_environments.environments import get_environment_builder\n",
    "import numpy as np\n",
    "import ipywidgets as widgets\n",
    "from functools import partial\n",
    "from pydrake.all import (RigidTransform, Rgba, Sphere, RotationMatrix)"
   ]
  },
  {
   "cell_type": "code",
   "execution_count": 3,
   "metadata": {},
   "outputs": [
    {
     "name": "stderr",
     "output_type": "stream",
     "text": [
      "INFO:drake:Meshcat listening for connections at http://localhost:7002\n"
     ]
    }
   ],
   "source": [
    "from iris_environments.environments import env_names\n",
    "currname = env_names[7]\n",
    "plant_builder = get_environment_builder(currname)\n",
    "plant, scene_graph, diagram, diagram_context, plant_context, meshcat = plant_builder(usemeshcat=True)\n",
    "\n",
    "scene_graph_context = scene_graph.GetMyMutableContextFromRoot(\n",
    "    diagram_context)"
   ]
  },
  {
   "cell_type": "code",
   "execution_count": 4,
   "metadata": {},
   "outputs": [],
   "source": [
    "#make configuration file \n",
    "import os\n",
    "seed_point_file = 'benchmarks/seedpoints/'+currname+'.yml'\n",
    "if seed_point_file.split('/')[2] in os.listdir('benchmarks/seedpoints'):\n",
    "    file = open(seed_point_file, 'a') \n",
    "else:\n",
    "    file = open(seed_point_file, 'w')\n",
    "    file.write('seedpoints:\\n')"
   ]
  },
  {
   "cell_type": "markdown",
   "metadata": {},
   "source": [
    "# Run this cell and then use the sliders and the button to save the seed points"
   ]
  },
  {
   "cell_type": "code",
   "execution_count": 5,
   "metadata": {},
   "outputs": [
    {
     "data": {
      "application/vnd.jupyter.widget-view+json": {
       "model_id": "d5c49f16bb604a6084c9423cdce68521",
       "version_major": 2,
       "version_minor": 0
      },
      "text/plain": [
       "FloatSlider(value=0.0, description='q0', max=2.9373891311061002, min=-2.9373891311061002, step=0.001)"
      ]
     },
     "metadata": {},
     "output_type": "display_data"
    },
    {
     "data": {
      "application/vnd.jupyter.widget-view+json": {
       "model_id": "15688076917e4aebba4961285fdb7fd1",
       "version_major": 2,
       "version_minor": 0
      },
      "text/plain": [
       "FloatSlider(value=0.0, description='q1', max=2.0734511513661, min=-2.0734511513661, step=0.001)"
      ]
     },
     "metadata": {},
     "output_type": "display_data"
    },
    {
     "data": {
      "application/vnd.jupyter.widget-view+json": {
       "model_id": "6d108f28de794f2c8f74f703ead1c632",
       "version_major": 2,
       "version_minor": 0
      },
      "text/plain": [
       "FloatSlider(value=0.0, description='q2', max=2.9373891311061002, min=-2.9373891311061002, step=0.001)"
      ]
     },
     "metadata": {},
     "output_type": "display_data"
    },
    {
     "data": {
      "application/vnd.jupyter.widget-view+json": {
       "model_id": "85f2a2d8198c4a938b2bd952a6bab615",
       "version_major": 2,
       "version_minor": 0
      },
      "text/plain": [
       "FloatSlider(value=0.0, description='q3', max=2.0734511513661, min=-2.0734511513661, step=0.001)"
      ]
     },
     "metadata": {},
     "output_type": "display_data"
    },
    {
     "data": {
      "application/vnd.jupyter.widget-view+json": {
       "model_id": "ef8adca7f4764021bafa2f7a3d4ad96b",
       "version_major": 2,
       "version_minor": 0
      },
      "text/plain": [
       "FloatSlider(value=0.0, description='q4', max=2.9373891311061002, min=-2.9373891311061002, step=0.001)"
      ]
     },
     "metadata": {},
     "output_type": "display_data"
    },
    {
     "data": {
      "application/vnd.jupyter.widget-view+json": {
       "model_id": "b5bda7773981425cb76d1afa8b82bd74",
       "version_major": 2,
       "version_minor": 0
      },
      "text/plain": [
       "FloatSlider(value=0.0, description='q5', max=2.0734511513661, min=-2.0734511513661, step=0.001)"
      ]
     },
     "metadata": {},
     "output_type": "display_data"
    },
    {
     "data": {
      "application/vnd.jupyter.widget-view+json": {
       "model_id": "f4d7f458ff3645fdae38db5a856a08a7",
       "version_major": 2,
       "version_minor": 0
      },
      "text/plain": [
       "FloatSlider(value=0.0, description='q6', max=3.0237829290800997, min=-3.0237829290800997, step=0.001)"
      ]
     },
     "metadata": {},
     "output_type": "display_data"
    },
    {
     "data": {
      "application/vnd.jupyter.widget-view+json": {
       "model_id": "5a8c19480466436d8f3cb989eae192b3",
       "version_major": 2,
       "version_minor": 0
      },
      "text/plain": [
       "FloatSlider(value=0.0, description='q7', max=2.9373891311061002, min=-2.9373891311061002, step=0.001)"
      ]
     },
     "metadata": {},
     "output_type": "display_data"
    },
    {
     "data": {
      "application/vnd.jupyter.widget-view+json": {
       "model_id": "2e13d2f07e6a476a94df9f783f60e3e1",
       "version_major": 2,
       "version_minor": 0
      },
      "text/plain": [
       "FloatSlider(value=0.0, description='q8', max=2.0734511513661, min=-2.0734511513661, step=0.001)"
      ]
     },
     "metadata": {},
     "output_type": "display_data"
    },
    {
     "data": {
      "application/vnd.jupyter.widget-view+json": {
       "model_id": "c9f85584092743f2a4019e6681d66bee",
       "version_major": 2,
       "version_minor": 0
      },
      "text/plain": [
       "FloatSlider(value=0.0, description='q9', max=2.9373891311061002, min=-2.9373891311061002, step=0.001)"
      ]
     },
     "metadata": {},
     "output_type": "display_data"
    },
    {
     "data": {
      "application/vnd.jupyter.widget-view+json": {
       "model_id": "a91521d0edc64d28900d4b7562cdc071",
       "version_major": 2,
       "version_minor": 0
      },
      "text/plain": [
       "FloatSlider(value=0.0, description='q10', max=2.0734511513661, min=-2.0734511513661, step=0.001)"
      ]
     },
     "metadata": {},
     "output_type": "display_data"
    },
    {
     "data": {
      "application/vnd.jupyter.widget-view+json": {
       "model_id": "e4efaf55dbed4794953fe8e83e0c619f",
       "version_major": 2,
       "version_minor": 0
      },
      "text/plain": [
       "FloatSlider(value=0.0, description='q11', max=2.9373891311061002, min=-2.9373891311061002, step=0.001)"
      ]
     },
     "metadata": {},
     "output_type": "display_data"
    },
    {
     "data": {
      "application/vnd.jupyter.widget-view+json": {
       "model_id": "1532001845a74cd8a3f051df349ad9a6",
       "version_major": 2,
       "version_minor": 0
      },
      "text/plain": [
       "FloatSlider(value=0.0, description='q12', max=2.0734511513661, min=-2.0734511513661, step=0.001)"
      ]
     },
     "metadata": {},
     "output_type": "display_data"
    },
    {
     "data": {
      "application/vnd.jupyter.widget-view+json": {
       "model_id": "db6060a819634c23913c0f0fcbb53841",
       "version_major": 2,
       "version_minor": 0
      },
      "text/plain": [
       "FloatSlider(value=0.0, description='q13', max=3.0237829290800997, min=-3.0237829290800997, step=0.001)"
      ]
     },
     "metadata": {},
     "output_type": "display_data"
    },
    {
     "data": {
      "application/vnd.jupyter.widget-view+json": {
       "model_id": "e0bf058f493643a69b59715d4e247fcc",
       "version_major": 2,
       "version_minor": 0
      },
      "text/plain": [
       "Button(description='Save', style=ButtonStyle())"
      ]
     },
     "metadata": {},
     "output_type": "display_data"
    }
   ],
   "source": [
    "\n",
    "\n",
    "q = np.zeros(plant.num_positions()) \n",
    "sliders = []\n",
    "for i in range(plant.num_positions()):\n",
    "    q_low = plant.GetPositionLowerLimits()[i]*0.99\n",
    "    q_high = plant.GetPositionUpperLimits()[i]*0.99\n",
    "    sliders.append(widgets.FloatSlider(min=q_low, max=q_high, value=0, step=0.001, description=f\"q{i}\"))\n",
    "\n",
    "col_col =  Rgba(0.8, 0.0, 0, 0.5)    \n",
    "col_free =  Rgba(0.0, 0.8, 0.5, 0.5) \n",
    "def showres(qvis):\n",
    "    plant.SetPositions(plant_context, qvis)\n",
    "    diagram.ForcedPublish(diagram_context)\n",
    "    query = plant.get_geometry_query_input_port().Eval(plant_context)\n",
    "    col = query.HasCollisions()\n",
    "    if col:\n",
    "        meshcat.SetObject(f\"/drake/visualizer/shunk\",\n",
    "                                   Sphere(0.2),\n",
    "                                   col_col)\n",
    "    else:\n",
    "        meshcat.SetObject(f\"/drake/visualizer/shunk\",\n",
    "                                   Sphere(0.2),\n",
    "                                   col_free)\n",
    "    meshcat.SetTransform(f\"/drake/visualizer/shunk\",\n",
    "                                   RigidTransform(RotationMatrix(),\n",
    "                                                  np.array([0,0,2])))\n",
    "    return col\n",
    "\n",
    "def handle_slider_change(change, idx):\n",
    "    q[idx] = change['new']\n",
    "    showres(q)\n",
    "idx = 0\n",
    "for slider in sliders:\n",
    "    slider.observe(partial(handle_slider_change, idx = idx), names='value')\n",
    "    idx+=1\n",
    "\n",
    "for slider in sliders:\n",
    "    display(slider)\n",
    "\n",
    "def write_seed_point_to_file(button):\n",
    "    col = showres(q)\n",
    "    if not col:\n",
    "        line  = '- ['\n",
    "        for a in q[:-1]:\n",
    "            line+= str(a)+', '\n",
    "        line+= str(q[-1])+']\\n'\n",
    "        file.write(line)\n",
    "        file.flush()\n",
    "        #write seedpoint to file\n",
    "    else:\n",
    "        raise ValueError(\"That point is in collision\")\n",
    "\n",
    "button = widgets.Button(description=\"Save\")\n",
    "\n",
    "# Attach the function to the button's click event\n",
    "button.on_click(write_seed_point_to_file)\n",
    "\n",
    "# Display the button\n",
    "display(button)"
   ]
  },
  {
   "cell_type": "code",
   "execution_count": 6,
   "metadata": {},
   "outputs": [],
   "source": [
    "file.close()"
   ]
  },
  {
   "cell_type": "markdown",
   "metadata": {},
   "source": [
    "# Inspect seed points"
   ]
  },
  {
   "cell_type": "code",
   "execution_count": 7,
   "metadata": {},
   "outputs": [
    {
     "name": "stdout",
     "output_type": "stream",
     "text": [
      " point 1 / 10\n",
      " point 2 / 10\n",
      " point 3 / 10\n",
      " point 4 / 10\n",
      " point 5 / 10\n",
      " point 6 / 10\n",
      " point 7 / 10\n",
      " point 8 / 10\n",
      " point 9 / 10\n",
      " point 10 / 10\n"
     ]
    }
   ],
   "source": [
    "import yaml\n",
    "import time\n",
    "\n",
    "with open(seed_point_file, 'r') as f:\n",
    "    seed_points = yaml.safe_load(f)\n",
    "seed_points = np.array(seed_points['seedpoints'])\n",
    "\n",
    "for i, s in enumerate(seed_points):\n",
    "    showres(s)\n",
    "    print(f\" point {i+1} / {len(seed_points)}\")\n",
    "    time.sleep(2)\n"
   ]
  },
  {
   "cell_type": "code",
   "execution_count": 14,
   "metadata": {},
   "outputs": [
    {
     "data": {
      "text/plain": [
       "False"
      ]
     },
     "execution_count": 14,
     "metadata": {},
     "output_type": "execute_result"
    }
   ],
   "source": [
    "showres(seed_points[2,:])"
   ]
  },
  {
   "cell_type": "code",
   "execution_count": 9,
   "metadata": {},
   "outputs": [],
   "source": [
    "q = seed_points[2,:]"
   ]
  },
  {
   "cell_type": "code",
   "execution_count": 10,
   "metadata": {},
   "outputs": [
    {
     "data": {
      "text/plain": [
       "array([ 0.434544, -0.6944  ])"
      ]
     },
     "execution_count": 10,
     "metadata": {},
     "output_type": "execute_result"
    }
   ],
   "source": [
    "q"
   ]
  },
  {
   "cell_type": "markdown",
   "metadata": {},
   "source": []
  }
 ],
 "metadata": {
  "kernelspec": {
   "display_name": "Python 3",
   "language": "python",
   "name": "python3"
  },
  "language_info": {
   "codemirror_mode": {
    "name": "ipython",
    "version": 3
   },
   "file_extension": ".py",
   "mimetype": "text/x-python",
   "name": "python",
   "nbconvert_exporter": "python",
   "pygments_lexer": "ipython3",
   "version": "3.10.12"
  }
 },
 "nbformat": 4,
 "nbformat_minor": 2
}
