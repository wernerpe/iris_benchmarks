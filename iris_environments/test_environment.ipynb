{
 "cells": [
  {
   "cell_type": "code",
   "execution_count": 2,
   "metadata": {},
   "outputs": [],
   "source": [
    "from iris_environments.environments import get_environment_builder"
   ]
  },
  {
   "cell_type": "code",
   "execution_count": 3,
   "metadata": {},
   "outputs": [
    {
     "name": "stderr",
     "output_type": "stream",
     "text": [
      "INFO:drake:Meshcat listening for connections at http://localhost:7001\n"
     ]
    },
    {
     "ename": "AttributeError",
     "evalue": "'pydrake.multibody.parsing.Parser' object has no attribute 'AddModelFromFile'",
     "output_type": "error",
     "traceback": [
      "\u001b[0;31m---------------------------------------------------------------------------\u001b[0m",
      "\u001b[0;31mAttributeError\u001b[0m                            Traceback (most recent call last)",
      "\u001b[0;32m<ipython-input-3-262a276ad1ca>\u001b[0m in \u001b[0;36m<module>\u001b[0;34m\u001b[0m\n\u001b[1;32m      9\u001b[0m \u001b[0;34m\u001b[0m\u001b[0m\n\u001b[1;32m     10\u001b[0m \u001b[0mplant_builder\u001b[0m \u001b[0;34m=\u001b[0m \u001b[0mget_environment_builder\u001b[0m\u001b[0;34m(\u001b[0m\u001b[0;34m'3DOFFLIPPER'\u001b[0m\u001b[0;34m)\u001b[0m\u001b[0;34m\u001b[0m\u001b[0;34m\u001b[0m\u001b[0m\n\u001b[0;32m---> 11\u001b[0;31m \u001b[0mplant\u001b[0m\u001b[0;34m,\u001b[0m \u001b[0mscene_graph\u001b[0m\u001b[0;34m,\u001b[0m \u001b[0mdiagram\u001b[0m\u001b[0;34m,\u001b[0m \u001b[0mdiagram_context\u001b[0m\u001b[0;34m,\u001b[0m \u001b[0mplant_context\u001b[0m\u001b[0;34m,\u001b[0m \u001b[0mmeshcat\u001b[0m \u001b[0;34m=\u001b[0m \u001b[0mplant_builder\u001b[0m\u001b[0;34m(\u001b[0m\u001b[0musemeshcat\u001b[0m\u001b[0;34m=\u001b[0m\u001b[0;32mTrue\u001b[0m\u001b[0;34m)\u001b[0m\u001b[0;34m\u001b[0m\u001b[0;34m\u001b[0m\u001b[0m\n\u001b[0m\u001b[1;32m     12\u001b[0m \u001b[0;34m\u001b[0m\u001b[0m\n\u001b[1;32m     13\u001b[0m scene_graph_context = scene_graph.GetMyMutableContextFromRoot(\n",
      "\u001b[0;32m~/git/iris_benchmarks/iris_environments/environments.py\u001b[0m in \u001b[0;36mplant_builder_3dof_flipper\u001b[0;34m(usemeshcat)\u001b[0m\n\u001b[1;32m    202\u001b[0m \u001b[0;34m\u001b[0m\u001b[0m\n\u001b[1;32m    203\u001b[0m     \u001b[0mmodels\u001b[0m \u001b[0;34m=\u001b[0m \u001b[0;34m[\u001b[0m\u001b[0;34m]\u001b[0m\u001b[0;34m\u001b[0m\u001b[0;34m\u001b[0m\u001b[0m\n\u001b[0;32m--> 204\u001b[0;31m     \u001b[0mmodels\u001b[0m\u001b[0;34m.\u001b[0m\u001b[0mappend\u001b[0m\u001b[0;34m(\u001b[0m\u001b[0mparser\u001b[0m\u001b[0;34m.\u001b[0m\u001b[0mAddModelFromFile\u001b[0m\u001b[0;34m(\u001b[0m\u001b[0mbox_asset\u001b[0m\u001b[0;34m,\u001b[0m \u001b[0;34m\"box\"\u001b[0m\u001b[0;34m)\u001b[0m\u001b[0;34m)\u001b[0m\u001b[0;34m\u001b[0m\u001b[0;34m\u001b[0m\u001b[0m\n\u001b[0m\u001b[1;32m    205\u001b[0m     \u001b[0mmodels\u001b[0m\u001b[0;34m.\u001b[0m\u001b[0mappend\u001b[0m\u001b[0;34m(\u001b[0m\u001b[0mparser\u001b[0m\u001b[0;34m.\u001b[0m\u001b[0mAddModelFromFile\u001b[0m\u001b[0;34m(\u001b[0m\u001b[0mtwoDOF_iiwa_asset\u001b[0m\u001b[0;34m,\u001b[0m \u001b[0;34m\"iiwatwodof\"\u001b[0m\u001b[0;34m)\u001b[0m\u001b[0;34m)\u001b[0m\u001b[0;34m\u001b[0m\u001b[0;34m\u001b[0m\u001b[0m\n\u001b[1;32m    206\u001b[0m     \u001b[0mmodels\u001b[0m\u001b[0;34m.\u001b[0m\u001b[0mappend\u001b[0m\u001b[0;34m(\u001b[0m\u001b[0mparser\u001b[0m\u001b[0;34m.\u001b[0m\u001b[0mAddModelFromFile\u001b[0m\u001b[0;34m(\u001b[0m\u001b[0moneDOF_iiwa_asset\u001b[0m\u001b[0;34m,\u001b[0m \u001b[0;34m\"iiwaonedof\"\u001b[0m\u001b[0;34m)\u001b[0m\u001b[0;34m)\u001b[0m\u001b[0;34m\u001b[0m\u001b[0;34m\u001b[0m\u001b[0m\n",
      "\u001b[0;31mAttributeError\u001b[0m: 'pydrake.multibody.parsing.Parser' object has no attribute 'AddModelFromFile'"
     ]
    }
   ],
   "source": [
    "names = ['2DOFFLIPPER',\n",
    "         '3DOFFLIPPER', \n",
    "         '5DOFUR5', \n",
    "         '6DOFUR5',\n",
    "         '7DOFIIWA', \n",
    "         '7DOF4SHELVES', \n",
    "         '7DOFBINS', \n",
    "         '14DOFIIWAS']\n",
    "\n",
    "plant_builder = get_environment_builder('3DOFFLIPPER')\n",
    "plant, scene_graph, diagram, diagram_context, plant_context, meshcat = plant_builder(usemeshcat=True)\n",
    "\n",
    "scene_graph_context = scene_graph.GetMyMutableContextFromRoot(\n",
    "    diagram_context)"
   ]
  },
  {
   "cell_type": "code",
   "execution_count": null,
   "metadata": {},
   "outputs": [],
   "source": []
  }
 ],
 "metadata": {
  "kernelspec": {
   "display_name": "Python 3",
   "language": "python",
   "name": "python3"
  },
  "language_info": {
   "codemirror_mode": {
    "name": "ipython",
    "version": 3
   },
   "file_extension": ".py",
   "mimetype": "text/x-python",
   "name": "python",
   "nbconvert_exporter": "python",
   "pygments_lexer": "ipython3",
   "version": "3.8.10"
  }
 },
 "nbformat": 4,
 "nbformat_minor": 2
}
