{
 "cells": [
  {
   "cell_type": "code",
   "execution_count": null,
   "metadata": {},
   "outputs": [],
   "source": [
    "%load_ext autoreload\n",
    "# Enable autoreload for all modules\n",
    "%autoreload 2"
   ]
  },
  {
   "cell_type": "code",
   "execution_count": null,
   "metadata": {},
   "outputs": [],
   "source": [
    "from iris_environments.environments import get_environment_builder\n",
    "import numpy as np\n",
    "import ipywidgets as widgets\n",
    "from functools import partial\n",
    "from pydrake.all import (RigidTransform, Rgba, Sphere, RotationMatrix)"
   ]
  },
  {
   "cell_type": "code",
   "execution_count": null,
   "metadata": {},
   "outputs": [],
   "source": [
    "names = ['2DOFFLIPPER',\n",
    "         '3DOFFLIPPER', \n",
    "         '5DOFUR5', \n",
    "         '6DOFUR5',\n",
    "         '7DOFIIWA', \n",
    "         '7DOF4SHELVES', \n",
    "         '7DOFBINS', \n",
    "         '14DOFIIWAS']\n",
    "\n",
    "currname = names[0]\n",
    "plant_builder = get_environment_builder(currname)\n",
    "plant, scene_graph, diagram, diagram_context, plant_context, meshcat = plant_builder(usemeshcat=True)\n",
    "\n",
    "scene_graph_context = scene_graph.GetMyMutableContextFromRoot(\n",
    "    diagram_context)"
   ]
  },
  {
   "cell_type": "code",
   "execution_count": null,
   "metadata": {},
   "outputs": [],
   "source": [
    "#make configuration file \n",
    "import os\n",
    "seed_point_file = 'benchmarks/'+currname+'seedpoints.yml'\n",
    "if seed_point_file.split('/')[1] in os.listdir('benchmarks'):\n",
    "    file = open(seed_point_file, 'w') \n",
    "else:\n",
    "    file = open(seed_point_file, 'w')\n",
    "    file.write('seedpoints:\\n')"
   ]
  },
  {
   "cell_type": "markdown",
   "metadata": {},
   "source": [
    "# Run this cell and then use the sliders and the button to save the seed points"
   ]
  },
  {
   "cell_type": "code",
   "execution_count": null,
   "metadata": {},
   "outputs": [],
   "source": [
    "\n",
    "\n",
    "q = np.zeros(plant.num_positions()) \n",
    "sliders = []\n",
    "for i in range(plant.num_positions()):\n",
    "    q_low = plant.GetPositionLowerLimits()[i]\n",
    "    q_high = plant.GetPositionUpperLimits()[i]\n",
    "    sliders.append(widgets.FloatSlider(min=q_low, max=q_high, value=0, description=f\"q{i}\"))\n",
    "\n",
    "col_col =  Rgba(0.8, 0.0, 0, 0.5)    \n",
    "col_free =  Rgba(0.0, 0.8, 0.5, 0.5) \n",
    "def showres(qvis):\n",
    "    plant.SetPositions(plant_context, qvis)\n",
    "    diagram.ForcedPublish(diagram_context)\n",
    "    query = plant.get_geometry_query_input_port().Eval(plant_context)\n",
    "    col = query.HasCollisions()\n",
    "    if col:\n",
    "        meshcat.SetObject(f\"/drake/visualizer/shunk\",\n",
    "                                   Sphere(0.2),\n",
    "                                   col_col)\n",
    "    else:\n",
    "        meshcat.SetObject(f\"/drake/visualizer/shunk\",\n",
    "                                   Sphere(0.2),\n",
    "                                   col_free)\n",
    "    meshcat.SetTransform(f\"/drake/visualizer/shunk\",\n",
    "                                   RigidTransform(RotationMatrix(),\n",
    "                                                  np.array([0,0,2])))\n",
    "    return col\n",
    "\n",
    "def handle_slider_change(change, idx):\n",
    "    q[idx] = change['new']\n",
    "    showres(q)\n",
    "idx = 0\n",
    "for slider in sliders:\n",
    "    slider.observe(partial(handle_slider_change, idx = idx), names='value')\n",
    "    idx+=1\n",
    "\n",
    "for slider in sliders:\n",
    "    display(slider)\n",
    "\n",
    "def write_seed_point_to_file(button):\n",
    "    col = showres(q)\n",
    "    if not col:\n",
    "        line  = '- ['\n",
    "        for a in q[:-1]:\n",
    "            line+= str(a)+', '\n",
    "        line+= str(q[-1])+']\\n'\n",
    "        file.write(line)\n",
    "        file.flush()\n",
    "        #write seedpoint to file\n",
    "    else:\n",
    "        raise ValueError(\"That point is in collision\")\n",
    "\n",
    "button = widgets.Button(description=\"Save\")\n",
    "\n",
    "# Attach the function to the button's click event\n",
    "button.on_click(write_seed_point_to_file)\n",
    "\n",
    "# Display the button\n",
    "display(button)"
   ]
  },
  {
   "cell_type": "code",
   "execution_count": null,
   "metadata": {},
   "outputs": [],
   "source": [
    "file.close()"
   ]
  },
  {
   "cell_type": "markdown",
   "metadata": {},
   "source": [
    "# Inspect seed points"
   ]
  },
  {
   "cell_type": "code",
   "execution_count": null,
   "metadata": {},
   "outputs": [],
   "source": [
    "import yaml\n",
    "import time\n",
    "\n",
    "with open(seed_point_file, 'r') as f:\n",
    "    seed_points = yaml.safe_load(f)\n",
    "seed_points = np.array(seed_points['seedpoints'])\n",
    "\n",
    "for i, s in enumerate(seed_points):\n",
    "    showres(s)\n",
    "    print(f\" point {i+1} / {len(seed_points)}\")\n",
    "    time.sleep(2)\n"
   ]
  },
  {
   "cell_type": "code",
   "execution_count": null,
   "metadata": {},
   "outputs": [],
   "source": []
  }
 ],
 "metadata": {
  "kernelspec": {
   "display_name": "Python 3",
   "language": "python",
   "name": "python3"
  },
  "language_info": {
   "codemirror_mode": {
    "name": "ipython",
    "version": 3
   },
   "file_extension": ".py",
   "mimetype": "text/x-python",
   "name": "python",
   "nbconvert_exporter": "python",
   "pygments_lexer": "ipython3",
   "version": "3.8.10"
  }
 },
 "nbformat": 4,
 "nbformat_minor": 2
}
